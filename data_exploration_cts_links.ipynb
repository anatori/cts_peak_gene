{
 "cells": [
  {
   "cell_type": "markdown",
   "id": "c29719fd-b5d6-4a27-9727-db68dc8c91b1",
   "metadata": {},
   "source": [
    "# Data exploration of 10X PBMC Multiome data"
   ]
  },
  {
   "cell_type": "code",
   "execution_count": 1,
   "id": "64c50c56-aab5-4075-b693-e5bc2b04ba0a",
   "metadata": {},
   "outputs": [],
   "source": [
    "# Importing libraries\n",
    "import numpy as np\n",
    "import pandas as pd \n",
    "import statsmodels.stats as stats\n",
    "import statsmodels.api as sm\n",
    "import matplotlib.pyplot as plt\n",
    "import seaborn as sns\n",
    "import scipy as sp\n",
    "import scdrs\n",
    "import math\n",
    "import warnings\n",
    "import time\n",
    "import random\n",
    "from tqdm import tqdm\n",
    "\n",
    "import pybedtools\n",
    "from itertools import compress\n",
    "from Bio.SeqUtils import GC\n",
    "\n",
    "import anndata as ad\n",
    "import scanpy as sc\n",
    "import muon as mu"
   ]
  },
  {
   "cell_type": "markdown",
   "id": "6a1db84b-e5bb-4e37-a051-ffd199aaeb8d",
   "metadata": {},
   "source": [
    "# Method"
   ]
  },
  {
   "cell_type": "markdown",
   "id": "b94a9d7b-3f73-4b72-b8b5-29a7b856770d",
   "metadata": {},
   "source": [
    "## Pearson correlation"
   ]
  },
  {
   "cell_type": "code",
   "execution_count": 2,
   "id": "0c9323cf-d970-45fd-88df-029060f32d12",
   "metadata": {},
   "outputs": [],
   "source": [
    "# from Martin (original from scdrs)\n",
    "\n",
    "def pearson_corr_sparse(mat_X, mat_Y, var_filter=False):\n",
    "    \"\"\"Pairwise Pearson's correlation between columns in mat_X and mat_Y (sparse matrix)\n",
    "\n",
    "    Parameters\n",
    "    ----------\n",
    "    mat_X : np.ndarray\n",
    "        First matrix of shape (N,M).\n",
    "    mat_Y : np.ndarray\n",
    "        Second matrix of shape (N,M).\n",
    "    * Added:\n",
    "    var_filter : boolean\n",
    "        Dictates whether to filter out columns with little to no variance.\n",
    "\n",
    "    Returns\n",
    "    -------\n",
    "    mat_corr : np.ndarray\n",
    "        Correlation array of shape (M,).\n",
    "    * Added:\n",
    "    no_var : np.ndarray\n",
    "        A boolean mask where False represents excluded columns of mat_X and mat_Y of shape (N,M).\n",
    "        \n",
    "    \"\"\"\n",
    "\n",
    "    # Reshape\n",
    "    if len(mat_X.shape) == 1:\n",
    "        mat_X = mat_X.reshape([-1, 1])\n",
    "    if len(mat_Y.shape) == 1:\n",
    "        mat_Y = mat_Y.reshape([-1, 1])\n",
    "\n",
    "    # Convert to sparse matrix if not already sparse\n",
    "    if sp.sparse.issparse(mat_X) is False:\n",
    "        mat_X = sp.sparse.csr_matrix(mat_X)\n",
    "    if sp.sparse.issparse(mat_Y) is False:\n",
    "        mat_Y = sp.sparse.csr_matrix(mat_Y)\n",
    "    \n",
    "    # Compute v_mean,v_var\n",
    "    \n",
    "    v_X_mean, v_X_var = scdrs.pp._get_mean_var(mat_X, axis=0)\n",
    "    v_Y_mean, v_Y_var = scdrs.pp._get_mean_var(mat_Y, axis=0) \n",
    "    \n",
    "    no_var = (v_X_var <= 1e-6) | (v_Y_var <= 1e-6)\n",
    "    \n",
    "    # This section removes columns with little to no variance.\n",
    "    if var_filter and np.any(no_var):\n",
    "\n",
    "        mat_X, mat_Y = mat_X[:,~no_var], mat_Y[:,~no_var]\n",
    "        v_X_mean, v_X_var = v_X_mean[~no_var], v_X_var[~no_var]\n",
    "        v_Y_mean, v_Y_var = v_Y_mean[~no_var], v_Y_var[~no_var]\n",
    "        \n",
    "    v_X_sd = np.sqrt(v_X_var.clip(1e-8))\n",
    "    v_Y_sd = np.sqrt(v_Y_var.clip(1e-8))\n",
    "    \n",
    "    # Adjusted for column pairwise correlation only\n",
    "    mat_corr = mat_X.multiply(mat_Y).mean(axis=0)\n",
    "    mat_corr = mat_corr - v_X_mean * v_Y_mean\n",
    "    mat_corr = mat_corr / v_X_sd / v_Y_sd\n",
    "\n",
    "    mat_corr = np.array(mat_corr, dtype=np.float32)\n",
    "\n",
    "    if (mat_X.shape[1] == 1) | (mat_Y.shape[1] == 1):\n",
    "        return mat_corr.reshape([-1])\n",
    "    if var_filter:\n",
    "        return mat_corr, ~no_var\n",
    "\n",
    "    return mat_corr"
   ]
  },
  {
   "cell_type": "markdown",
   "id": "3855dd58-ef82-4fad-8bae-dc476b3f23a9",
   "metadata": {},
   "source": [
    "## P-value calculation"
   ]
  },
  {
   "cell_type": "code",
   "execution_count": null,
   "id": "da334fe4-8c76-4ef1-9f5d-e4ab939660a4",
   "metadata": {},
   "outputs": [],
   "source": [
    "def mc_pval(del_cctrl,del_c):\n",
    "    \n",
    "    ''' Calculates two-tailed Monte Carlo p-value\n",
    "    \n",
    "    Parameters\n",
    "    ----------\n",
    "    del_cctrl : np.ndarray\n",
    "        Matrix of shape (gene#,n) where n is number of rand samples.\n",
    "    del_c : np.ndarray\n",
    "        Vector of shape (gene#,), which gets reshaped to (gene#,1).\n",
    "    \n",
    "    Returns\n",
    "    ----------\n",
    "    Vector of shape (gene#,) corresponding to the Monte Carlo p-value of each statistic.\n",
    "    \n",
    "    '''\n",
    "\n",
    "    indicator = np.sum(np.abs(del_cctrl) >= np.abs(del_c.reshape(-1, 1)), axis=1)\n",
    "    return (1+indicator)/(1+del_cctrl.shape[1])"
   ]
  },
  {
   "cell_type": "code",
   "execution_count": null,
   "id": "7eced95e-8424-41ad-b2cd-18ade32cc248",
   "metadata": {},
   "outputs": [],
   "source": [
    "def zscore_pval(del_cctrl,del_c):\n",
    "\n",
    "    ''' Calculates two-tailed Z-score based p-value.\n",
    "    \n",
    "    Parameters\n",
    "    ----------\n",
    "    del_cctrl : np.ndarray\n",
    "        Matrix of shape (gene#,n) where n is number of rand samples.\n",
    "    del_c : np.ndarray\n",
    "        Vector of shape (gene#,), which gets reshaped to (gene#,1).\n",
    "    \n",
    "    Returns\n",
    "    ----------\n",
    "    Vector of shape (gene#,) corresponding to the Z-score based p-value of each statistic.\n",
    "    \n",
    "    '''\n",
    "\n",
    "    mean = np.mean(del_cctrl,axis=1)\n",
    "    sd = np.std(del_cctrl,axis=1)\n",
    "    z = (del_c - mean)/sd\n",
    "    \n",
    "    return sp.stats.norm.sf(abs(z))*2"
   ]
  },
  {
   "cell_type": "markdown",
   "id": "006be89b-788a-4d44-af12-2db4157d7d43",
   "metadata": {},
   "source": [
    "### Centered and pooled MC p-value"
   ]
  },
  {
   "cell_type": "code",
   "execution_count": null,
   "id": "45e817ac-5265-49f5-a515-6cf8d4ea4015",
   "metadata": {},
   "outputs": [],
   "source": [
    "def center_ctrls(ctrl_array,main_array):\n",
    "\n",
    "    ''' Centers control and focal correlation arrays.\n",
    "    \n",
    "    Parameters\n",
    "    ----------\n",
    "    ctrl_array : np.ndarray\n",
    "        Array of shape (N,B) where N is number of genes and B is number\n",
    "        of repetitions (typically 1000x). Contains correlation between\n",
    "        focal gene and random peaks.\n",
    "    main_array : np.ndarray\n",
    "        Array of shape (N,) containing correlation between focal gene\n",
    "        and focal peaks.\n",
    "    \n",
    "    Returns\n",
    "    ----------\n",
    "    ctrls : np.ndarray\n",
    "        Array of shape (N*B,) containing centered correlations between\n",
    "        focal gene and random peaks.\n",
    "    main : np.ndarray\n",
    "        Array of shape (N,) containing centered correlations between\n",
    "        focal gene and focal peak, according to ctrl mean and std.\n",
    "        \n",
    "    '''\n",
    "    \n",
    "    \n",
    "    # takes all ctrls and centers at same time\n",
    "    # then centers putative/main with same vals\n",
    "    mean = np.mean(ctrl_array,axis=1)\n",
    "    std = np.std(ctrl_array,axis=1)\n",
    "    ctrls = (ctrl_array - mean.reshape(-1,1)) / std.reshape(-1,1)\n",
    "    main = (main_array - mean) / std\n",
    "    return ctrls.flatten(), main"
   ]
  },
  {
   "cell_type": "code",
   "execution_count": null,
   "id": "e28a18c0-ee2f-449f-ba8a-5cad07e1015c",
   "metadata": {},
   "outputs": [],
   "source": [
    "def full_mcpval(del_cctrl_full,del_c):\n",
    "\n",
    "    ''' Calculates MC p-value using centered control and focal correlation arrays.\n",
    "    \n",
    "    Parameters\n",
    "    ----------\n",
    "    del_cctrl_full : np.ndarray\n",
    "        Array of shape (N,B) where N is number of genes and B is number\n",
    "        of repetitions (typically 1000x). Contains correlation/delta correlation\n",
    "        between focal gene and random peaks.\n",
    "    del_c : np.ndarray\n",
    "        Array of shape (N,) containing correlation/delta correlation between\n",
    "        focal gene and focal peaks.\n",
    "    \n",
    "    Returns\n",
    "    ----------\n",
    "    full_mcpvalue : np.ndarray\n",
    "        Array of shape (N,) containing MC p-value corresponding to Nth peak-gene pair\n",
    "        against all centered contrl correlation/delta correlation pairs.\n",
    "        \n",
    "    '''\n",
    "    \n",
    "    del_cctrl_full_centered,del_c_centered = center_ctrls(del_cctrl_full,del_c)\n",
    "    del_cctrl_full_centered = np.sort(del_cctrl_full_centered)\n",
    "    n,b = del_cctrl_full.shape\n",
    "    # search sort returns indices where element would be inserted\n",
    "    indicator = np.searchsorted(del_cctrl_full_centered,del_c_centered)\n",
    "    return (1+indicator)/(1+(n*b))"
   ]
  },
  {
   "cell_type": "markdown",
   "id": "9ecb80b1-d180-4853-8991-c259da283a9a",
   "metadata": {},
   "source": [
    "## Control peak functions"
   ]
  },
  {
   "cell_type": "code",
   "execution_count": null,
   "id": "c253fda1-8437-4b82-8824-40a77e5c6982",
   "metadata": {},
   "outputs": [],
   "source": [
    "random.seed(6)"
   ]
  },
  {
   "cell_type": "code",
   "execution_count": null,
   "id": "a08f73eb-6d90-4035-b059-ec511b73858b",
   "metadata": {},
   "outputs": [],
   "source": [
    "def gc_content(peaks_df,mu_atac,genome_file='GRCh38.p13.genome.fa.bgz'):\n",
    "    \n",
    "    ''' Finds GC content for peaks.\n",
    "    \n",
    "    Parameters\n",
    "    ----------\n",
    "    peaks_df : pd.DataFrame\n",
    "        DataFrame of length (N,) containing peak information. Must\n",
    "        contain 'index_x' column with original indices (corresponds to\n",
    "        mu_atac indices).\n",
    "    mu_atac : mu.AnnData\n",
    "        Muon AnnData object of size (N,M) containing peak range information.\n",
    "    genome_file : genome.fa.bgz file\n",
    "        Reference genome in fasta file format.\n",
    "    \n",
    "    Returns\n",
    "    ----------\n",
    "    gc : np.ndarray\n",
    "        Array of shape (N,) containing GC content of each peak.\n",
    "        \n",
    "    '''\n",
    "    \n",
    "    # get sequences\n",
    "    atac_seqs = mu.atac.tl.get_sequences(mu_atac,None,fasta_file=genome_file)\n",
    "    atac_seqs_reordered = list(compress(atac_seqs, peaks_df[['index_x']].values))\n",
    "    \n",
    "    # store each gc content\n",
    "    gc = np.empty(len(peaks_df))\n",
    "    i=0\n",
    "    for seq in atac_seqs_reordered:\n",
    "        gc[i] = GC(seq)\n",
    "        i+=1\n",
    "    return gc"
   ]
  },
  {
   "cell_type": "code",
   "execution_count": null,
   "id": "f14ff08f-a341-41ee-a2f9-48658f18c998",
   "metadata": {},
   "outputs": [],
   "source": [
    "def mfa(atac_X):\n",
    "\n",
    "    ''' Just gets the column wise mean (MFA).\n",
    "    \n",
    "    Parameters\n",
    "    ----------\n",
    "    atac_X : np.ndarray\n",
    "        Matrix of shape (N,M) containing peak accessibility values.\n",
    "    \n",
    "    Returns\n",
    "    ----------\n",
    "    mfa : np.ndarray\n",
    "        Array of shape (N,) containing MFA per peak.\n",
    "        \n",
    "    '''\n",
    "    \n",
    "    mfa = atac_X.mean(axis=0)\n",
    "    return mfa"
   ]
  },
  {
   "cell_type": "code",
   "execution_count": null,
   "id": "aba57866-d79d-4aa9-810c-6cd47b0eb889",
   "metadata": {},
   "outputs": [],
   "source": [
    "def get_bins(peaks_df, atac_X,n_bins=5):\n",
    "\n",
    "    ''' Obtains GC and MFA bins for ATAC peaks.\n",
    "    \n",
    "    Parameters\n",
    "    ----------\n",
    "    peaks_df : pd.DataFrame\n",
    "        DataFrame of length (N) with column 'gene_ids' (peaks) and 'index_x' (peak indices).\n",
    "    atac_X : sp.sparse_matrix\n",
    "        Matrix of shape (M,N) containing peak accessibility values.\n",
    "    bins : int\n",
    "        Number of desired bins for MFA and GC groupings.\n",
    "    \n",
    "    Returns\n",
    "    ----------\n",
    "    bins : pd.DataFrame\n",
    "        DataFrame of length (N) with columns ['gene_ids','index_x','mfa','gc','combined_mfa_gc']\n",
    "    \n",
    "    '''\n",
    "\n",
    "    # obtain mfa and gc content\n",
    "    df_ctrls = peaks_df[['gene_ids','index_x']].copy()\n",
    "    df_ctrls['mfa'] = mfa(atac_X)\n",
    "    print('mfa done.')\n",
    "    df_ctrls['gc'] = gc_content(peaks_df)\n",
    "    print('gc done.')\n",
    "    \n",
    "    # put into bins\n",
    "    bins = peaks_df[['gene_ids','index_x']].copy()\n",
    "    bins['mfa'] = pd.qcut(df_ctrls['mfa'].rank(method='first'), n_bins, labels=False, duplicates=\"drop\")\n",
    "    bins['gc'] = pd.qcut(df_ctrls['gc'].rank(method='first'), n_bins, labels=False, duplicates=\"drop\")\n",
    "\n",
    "    # create combined bin\n",
    "    bins['combined_mfa_gc']=bins['mfa']* 10 + bins['gc']\n",
    "    \n",
    "    return bins"
   ]
  },
  {
   "cell_type": "code",
   "execution_count": null,
   "id": "32ee6588-21ab-4b5e-90b0-0e765ad357ec",
   "metadata": {},
   "outputs": [],
   "source": [
    "def rand_peaks(row,df=None,b=1000):\n",
    "\n",
    "    ''' Function applied row-wise to select random peaks.\n",
    "    \n",
    "    Parameters\n",
    "    ----------\n",
    "    row : row of pd.DataFrame\n",
    "        A row of a pd.DataFrame containing ['combined_mfa_gc'] (bin ID) column and\n",
    "        ['index_x'] (peak indices).\n",
    "    df : pd.DataFrame\n",
    "        DataFrame of length (#bins) where each value corresponds to a list containing \n",
    "        all possible ['index_x'] (peak indices) for a given MFA and GC bin.\n",
    "    b : int\n",
    "        Number of desired random peaks for each putative peak. (B)\n",
    "    \n",
    "    Returns\n",
    "    ----------\n",
    "    row_rand_peaks : np.array\n",
    "        Array of length (B,) with randomly sampled peaks for the given row.\n",
    "    \n",
    "    '''  \n",
    "\n",
    "    # generate random peaks from combined_bins lists\n",
    "    row_bin = df.loc[row.combined_mfa_gc]\n",
    "    # exclude main peak\n",
    "    row_bin_copy = row_bin[row_bin!=row.name]\n",
    "    return random.sample(row_bin_copy['index_x'], k=b)"
   ]
  },
  {
   "cell_type": "code",
   "execution_count": null,
   "id": "8df015b5-0d3a-4331-b8aa-410f01949516",
   "metadata": {},
   "outputs": [],
   "source": [
    "def create_ctrl_peaks(peaks_df, atac_X,n_bins=5,n_peaks=1000):\n",
    "\n",
    "    ''' Finds control peaks for a given peak set.\n",
    "    \n",
    "    Parameters\n",
    "    ----------\n",
    "    peaks_df : pd.DataFrame\n",
    "        DataFrame of length (N) with column 'gene_ids' (peaks) and 'index_x' (peak indices).\n",
    "    atac_X : np.ndarray\n",
    "        Matrix of shape (M,N) containing peak accessibility values.\n",
    "    n_bins : int\n",
    "        Number of desired bins for MFA and GC groupings.\n",
    "    n_peaks : int\n",
    "        Number of desired random peaks for each putative peak. (B)\n",
    "    \n",
    "    Returns\n",
    "    ----------\n",
    "    ctrl_peaks : np.array\n",
    "        Matrix of length (M,B) where B is number of random peaks generated (1000 by default).\n",
    "    \n",
    "    '''\n",
    "    \n",
    "    bins = get_bins(peaks_df, atac_X,n_bins=5)\n",
    "    print('get_bins done.')\n",
    "    \n",
    "    # group indices for rand_peaks\n",
    "    bins_grouped = bins[['index_x','combined_mfa_gc']].groupby(['combined_mfa_gc']).agg(list)\n",
    "    \n",
    "    # generate random peaks\n",
    "    ctrl_peaks = bins.apply(rand_peaks,axis=1,df=bins_grouped,n=n_peaks)\n",
    "    print('rand_peaks done.')\n",
    "    \n",
    "    # make into array\n",
    "    ctrl_peaks = ctrl_peaks.apply(lambda x: np.array(x))\n",
    "    ctrl_peaks = np.vstack(ctrl_peaks.array)\n",
    "    print('array done.')\n",
    "    \n",
    "    return ctrl_peaks"
   ]
  },
  {
   "cell_type": "markdown",
   "id": "38929ea5-0626-412a-8bc3-5936fbde60a9",
   "metadata": {},
   "source": [
    "## Cell type specific"
   ]
  },
  {
   "cell_type": "code",
   "execution_count": null,
   "id": "2c8e6c0e-85e7-404d-8861-5b376f591409",
   "metadata": {},
   "outputs": [],
   "source": [
    "# Cell type labels\n",
    "labels = [\n",
    "    'CD4+ naïve T', 'CD4+ memory T', 'MAIT',\n",
    "    'CD8+ naïve T', 'CD8+ activated T', 'NK',\n",
    "    'naïve B', 'memory B',\n",
    "    'CD14 mono', 'intermediate mono', 'mDC', 'pDC']"
   ]
  },
  {
   "cell_type": "code",
   "execution_count": 5,
   "id": "a15d7bcc-c7c8-4721-bcf0-bc420ec73bea",
   "metadata": {},
   "outputs": [],
   "source": [
    "# might want to run after running example section so all defaults are loaded\n",
    "def ct_corr_pval(ct_num, rna_Xs_ = rna_Xs, atac_Xs_ = atac_Xs, raw_atac_X_ = raw_atac_X, raw_rna_X_ = raw_rna_X,\n",
    "                 corr_others_ = corr_others, ctrl_corr_other_ = ctrl_corr_other,\n",
    "                 ctrl_corr_ct_ = ctrl_corr_ct,links_df = peak_gene_pairs, additional = 'distance'):\n",
    "    \n",
    "    ''' Calculates correlation and p-value for a given CT.\n",
    "\n",
    "    Note: In the future, I hope to implement this as an object (since it is very messy and requires many inputs),\n",
    "    but I'm not sure what's the best way yet.\n",
    "    \n",
    "    Parameters\n",
    "    ----------\n",
    "    ct_num : int\n",
    "        The index corresponding to the CT label in list 'labels'.\n",
    "    ...\n",
    "    \n",
    "    Returns\n",
    "    ----------\n",
    "    ct_dict : Dictionary\n",
    "        A dictionary containing the gene_ids, gene_name, distance, delta_corr,\n",
    "        and pval_method for the given CT.\n",
    "    lowexp_mask : Boolean mask\n",
    "        Mask of shape (#all peak-gene pairs,) for downstream filtering.\n",
    "    corr_ct[1] : Boolean mask\n",
    "        Mask of shape (#number of Trues in lowexp_mask,) for downstream filtering.\n",
    "        \n",
    "    '''\n",
    "    \n",
    "    # Select samples of focal CT\n",
    "    ct_mask = (rna.obs.celltype.values == labels[ct_num]) & (atac.obs.celltype.values == labels[ct_num])\n",
    "    ct_rnaX, ct_atacX = rna_Xs_[ct_mask,:], atac_Xs_[ct_mask,:]\n",
    "    \n",
    "    # Extract lowly accessible/expressed peak-genes from both matrices\n",
    "    # AND genes in which fewer than 10 cells express it\n",
    "    lowexp_mask = ((ct_atacX.mean(axis=0) > 0.1) & (ct_rnaX.mean(axis=0) > 0.1)) & \\\n",
    "                   ((raw_atac_X_[ct_mask,:].getnnz(axis=0) > 10) & \\\n",
    "                    (raw_rna_X_[ct_mask,:].getnnz(axis=0) > 10))\n",
    "    # Filter by this criteria\n",
    "    ct_rnaX, ct_atacX = ct_rnaX[:,lowexp_mask], ct_atacX[:,lowexp_mask]\n",
    "    \n",
    "    # Calculate their correlation\n",
    "    corr_ct = pearson_corr_sparse(ct_atacX, ct_rnaX, var_filter=True)\n",
    "    \n",
    "    # Calculate delta corr excluding lowly access./express.\n",
    "    _corr_others = corr_others_[ct_num][lowexp_mask][corr_ct[1]]\n",
    "    delta_corr =  corr_ct[0] - _corr_others\n",
    "    \n",
    "    # Delta corr of ctrl peaks\n",
    "    _ctrl_corr_ct = ctrl_corr_ct_[ct_num][lowexp_mask,:][corr_ct[1],:]\n",
    "    _ctrl_corr_other = ctrl_corr_other_[ct_num][lowexp_mask,:][corr_ct[1],:]\n",
    "    delta_corr_ctrl =  _ctrl_corr_ct - _ctrl_corr_other\n",
    "    \n",
    "    # Calculate p-value\n",
    "    mc_ct_pval = mc_pval(delta_corr_ctrl,delta_corr)\n",
    "    z_ct_pval = zscore_pval(delta_corr_ctrl,delta_corr)\n",
    "    full_mc_pval = full_mcpval(delta_corr_ctrl,delta_corr)\n",
    "    full_mc_qval = stats.multitest.multipletests(full_mc_pval, alpha=0.05, method='fdr_bh')[1]\n",
    "    \n",
    "    # Save info in dictionary\n",
    "    ct_dict = links_df[['gene_ids','gene_name',additional]].loc[lowexp_mask].loc[corr_ct[1]].to_dict('list')\n",
    "\n",
    "    ct_dict['corr'] = corr_ct[0]\n",
    "    ct_dict['corr_other'] = _corr_others\n",
    "    ct_dict['delta_corr'] = delta_corr\n",
    "    ct_dict['mc_pval'] = mc_ct_pval\n",
    "    ct_dict['z_pval'] = z_ct_pval\n",
    "    \n",
    "    ct_dict['full_mc_qval'] = full_mc_qval\n",
    "    ct_dict['full_mc_pval'] = full_mc_pval\n",
    "\n",
    "    ct_dict['corr_mcpval'] = mc_pval(_ctrl_corr_ct,corr_ct[0])\n",
    "    ct_dict['corr_zpval'] = zscore_pval(_ctrl_corr_ct,corr_ct[0])\n",
    "    \n",
    "    return ct_dict, lowexp_mask, corr_ct[1]"
   ]
  },
  {
   "cell_type": "markdown",
   "id": "12dfad16-952a-4b8c-ae50-8c3e7f95a874",
   "metadata": {},
   "source": [
    "# Examples\n",
    "\n",
    "The following files are needed to run this section:\n",
    "\n",
    "1. **'pbmc10k.h5mu'** file containing ATAC and RNA MuData objects.\n",
    "2. **'n_other.npy'** files for n->(0,11) corresponding to correlation across all peak-gene pairs across all samples EXCLUDING focal cell type *n*.\n",
    "3. **'n_ctrl_ct_1000x.npy'** files for n->(0,11) corresponding to correlation across all peak-gene pairs across samples of a focal cell type *n*.\n",
    "4. **'n_ctrl_other_1000x.npy'** files for n->(0,11) corresponding to correlation of control peaks to focal gene across all esamples EXCLUDING focal cell type *n*.\n",
    "\n",
    "All of which can be found in my folder, **'home/asprieto/10x_testing'**."
   ]
  },
  {
   "cell_type": "markdown",
   "id": "efea7fe9-80d8-411f-bb40-292451dcdc77",
   "metadata": {
    "jp-MarkdownHeadingCollapsed": true
   },
   "source": [
    "### Load muon data"
   ]
  },
  {
   "cell_type": "code",
   "execution_count": 6,
   "id": "dddd78e4-ed50-4bca-9946-d8031a37353b",
   "metadata": {},
   "outputs": [
    {
     "name": "stderr",
     "output_type": "stream",
     "text": [
      "/home/asprieto/miniconda3/envs/py39/lib/python3.9/site-packages/anndata/_core/anndata.py:522: FutureWarning: The dtype argument is deprecated and will be removed in late 2024.\n",
      "  warnings.warn(\n",
      "/home/asprieto/miniconda3/envs/py39/lib/python3.9/site-packages/anndata/_core/anndata.py:522: FutureWarning: The dtype argument is deprecated and will be removed in late 2024.\n",
      "  warnings.warn(\n"
     ]
    },
    {
     "data": {
      "text/html": [
       "<pre>MuData object with n_obs × n_vars = 11304 × 170224\n",
       "  var:\t&#x27;gene_ids&#x27;, &#x27;feature_types&#x27;, &#x27;genome&#x27;, &#x27;interval&#x27;, &#x27;n_cells_by_counts&#x27;, &#x27;mean_counts&#x27;, &#x27;pct_dropout_by_counts&#x27;, &#x27;total_counts&#x27;, &#x27;highly_variable&#x27;, &#x27;means&#x27;, &#x27;dispersions&#x27;, &#x27;dispersions_norm&#x27;, &#x27;mean&#x27;, &#x27;std&#x27;\n",
       "  2 modalities\n",
       "    rna:\t10899 x 26341\n",
       "      obs:\t&#x27;n_genes_by_counts&#x27;, &#x27;total_counts&#x27;, &#x27;total_counts_mt&#x27;, &#x27;pct_counts_mt&#x27;, &#x27;leiden&#x27;, &#x27;celltype&#x27;\n",
       "      var:\t&#x27;gene_ids&#x27;, &#x27;feature_types&#x27;, &#x27;genome&#x27;, &#x27;interval&#x27;, &#x27;mt&#x27;, &#x27;n_cells_by_counts&#x27;, &#x27;mean_counts&#x27;, &#x27;pct_dropout_by_counts&#x27;, &#x27;total_counts&#x27;, &#x27;highly_variable&#x27;, &#x27;means&#x27;, &#x27;dispersions&#x27;, &#x27;dispersions_norm&#x27;, &#x27;mean&#x27;, &#x27;std&#x27;\n",
       "      uns:\t&#x27;celltype_colors&#x27;, &#x27;hvg&#x27;, &#x27;leiden&#x27;, &#x27;leiden_colors&#x27;, &#x27;log1p&#x27;, &#x27;neighbors&#x27;, &#x27;pca&#x27;, &#x27;rank_genes_groups&#x27;, &#x27;umap&#x27;\n",
       "      obsm:\t&#x27;X_pca&#x27;, &#x27;X_umap&#x27;\n",
       "      varm:\t&#x27;PCs&#x27;\n",
       "      obsp:\t&#x27;connectivities&#x27;, &#x27;distances&#x27;\n",
       "    atac:\t10037 x 143883\n",
       "      obs:\t&#x27;n_genes_by_counts&#x27;, &#x27;total_counts&#x27;, &#x27;NS&#x27;, &#x27;nucleosome_signal&#x27;, &#x27;n_counts&#x27;, &#x27;leiden&#x27;, &#x27;leiden0.5&#x27;, &#x27;leiden_adj&#x27;, &#x27;celltype&#x27;\n",
       "      var:\t&#x27;gene_ids&#x27;, &#x27;feature_types&#x27;, &#x27;genome&#x27;, &#x27;interval&#x27;, &#x27;n_cells_by_counts&#x27;, &#x27;mean_counts&#x27;, &#x27;pct_dropout_by_counts&#x27;, &#x27;total_counts&#x27;, &#x27;highly_variable&#x27;, &#x27;means&#x27;, &#x27;dispersions&#x27;, &#x27;dispersions_norm&#x27;, &#x27;mean&#x27;, &#x27;std&#x27;\n",
       "      uns:\t&#x27;atac&#x27;, &#x27;celltype_colors&#x27;, &#x27;files&#x27;, &#x27;hvg&#x27;, &#x27;leiden&#x27;, &#x27;leiden0.5_colors&#x27;, &#x27;leiden_colors&#x27;, &#x27;log1p&#x27;, &#x27;lsi&#x27;, &#x27;neighbors&#x27;, &#x27;pca&#x27;, &#x27;rank_genes_groups&#x27;, &#x27;rank_genes_groups_adj&#x27;, &#x27;umap&#x27;\n",
       "      obsm:\t&#x27;X_lsi&#x27;, &#x27;X_pca&#x27;, &#x27;X_umap&#x27;\n",
       "      varm:\t&#x27;LSI&#x27;, &#x27;PCs&#x27;\n",
       "      layers:\t&#x27;counts&#x27;\n",
       "      obsp:\t&#x27;connectivities&#x27;, &#x27;distances&#x27;</pre>"
      ],
      "text/plain": [
       "MuData object with n_obs × n_vars = 11304 × 170224\n",
       "  var:\t'gene_ids', 'feature_types', 'genome', 'interval', 'n_cells_by_counts', 'mean_counts', 'pct_dropout_by_counts', 'total_counts', 'highly_variable', 'means', 'dispersions', 'dispersions_norm', 'mean', 'std'\n",
       "  2 modalities\n",
       "    rna:\t10899 x 26341\n",
       "      obs:\t'n_genes_by_counts', 'total_counts', 'total_counts_mt', 'pct_counts_mt', 'leiden', 'celltype'\n",
       "      var:\t'gene_ids', 'feature_types', 'genome', 'interval', 'mt', 'n_cells_by_counts', 'mean_counts', 'pct_dropout_by_counts', 'total_counts', 'highly_variable', 'means', 'dispersions', 'dispersions_norm', 'mean', 'std'\n",
       "      uns:\t'celltype_colors', 'hvg', 'leiden', 'leiden_colors', 'log1p', 'neighbors', 'pca', 'rank_genes_groups', 'umap'\n",
       "      obsm:\t'X_pca', 'X_umap'\n",
       "      varm:\t'PCs'\n",
       "      obsp:\t'connectivities', 'distances'\n",
       "    atac:\t10037 x 143883\n",
       "      obs:\t'n_genes_by_counts', 'total_counts', 'NS', 'nucleosome_signal', 'n_counts', 'leiden', 'leiden0.5', 'leiden_adj', 'celltype'\n",
       "      var:\t'gene_ids', 'feature_types', 'genome', 'interval', 'n_cells_by_counts', 'mean_counts', 'pct_dropout_by_counts', 'total_counts', 'highly_variable', 'means', 'dispersions', 'dispersions_norm', 'mean', 'std'\n",
       "      uns:\t'atac', 'celltype_colors', 'files', 'hvg', 'leiden', 'leiden0.5_colors', 'leiden_colors', 'log1p', 'lsi', 'neighbors', 'pca', 'rank_genes_groups', 'rank_genes_groups_adj', 'umap'\n",
       "      obsm:\t'X_lsi', 'X_pca', 'X_umap'\n",
       "      varm:\t'LSI', 'PCs'\n",
       "      layers:\t'counts'\n",
       "      obsp:\t'connectivities', 'distances'"
      ]
     },
     "execution_count": 6,
     "metadata": {},
     "output_type": "execute_result"
    }
   ],
   "source": [
    "# Since I preprocessed the data using Muon package, data is stored in Muon's hdf5-based .h5mu file.\n",
    "mdata = mu.read('pbmc10k.h5mu')\n",
    "mdata"
   ]
  },
  {
   "cell_type": "code",
   "execution_count": 7,
   "id": "7c5c7216-b682-4293-b792-fa7476358aaf",
   "metadata": {},
   "outputs": [],
   "source": [
    "# Use intersect_obs to only retain samples that passed QC in both RNA and ATAC modality.\n",
    "mu.pp.intersect_obs(mdata)\n",
    "rna = mdata.mod['rna']\n",
    "atac = mdata.mod['atac']"
   ]
  },
  {
   "cell_type": "markdown",
   "id": "78f8d24d-3371-44ad-b88c-4fdbf681e0ea",
   "metadata": {
    "jp-MarkdownHeadingCollapsed": true
   },
   "source": [
    "### Aligning peak-gene pairs"
   ]
  },
  {
   "cell_type": "code",
   "execution_count": 8,
   "id": "6291ed5a-dba4-4706-813b-6dadfb3b55d0",
   "metadata": {},
   "outputs": [],
   "source": [
    "# Normalized log1p data is stored in atac.X and rna.X as numpy arrays.\n",
    "# We convert them to sparse arrays.\n",
    "atac_X = sp.sparse.csc_array(atac.X)\n",
    "rna_X = sp.sparse.csc_array(rna.X)"
   ]
  },
  {
   "cell_type": "code",
   "execution_count": 9,
   "id": "d5e7a2d9-f9d4-42ae-812d-46bddf687d7d",
   "metadata": {},
   "outputs": [
    {
     "data": {
      "text/html": [
       "<div>\n",
       "<style scoped>\n",
       "    .dataframe tbody tr th:only-of-type {\n",
       "        vertical-align: middle;\n",
       "    }\n",
       "\n",
       "    .dataframe tbody tr th {\n",
       "        vertical-align: top;\n",
       "    }\n",
       "\n",
       "    .dataframe thead th {\n",
       "        text-align: right;\n",
       "    }\n",
       "</style>\n",
       "<table border=\"1\" class=\"dataframe\">\n",
       "  <thead>\n",
       "    <tr style=\"text-align: right;\">\n",
       "      <th></th>\n",
       "      <th>index_x</th>\n",
       "      <th>gene_ids</th>\n",
       "      <th>gene_name</th>\n",
       "      <th>peak</th>\n",
       "      <th>distance</th>\n",
       "      <th>peak_type</th>\n",
       "      <th>index_y</th>\n",
       "      <th>0</th>\n",
       "    </tr>\n",
       "  </thead>\n",
       "  <tbody>\n",
       "    <tr>\n",
       "      <th>1</th>\n",
       "      <td>1</td>\n",
       "      <td>chr1:180599-181702</td>\n",
       "      <td>AL627309.5</td>\n",
       "      <td>chr1:180599-181702</td>\n",
       "      <td>-6738</td>\n",
       "      <td>distal</td>\n",
       "      <td>1.0</td>\n",
       "      <td>AL627309.5</td>\n",
       "    </tr>\n",
       "    <tr>\n",
       "      <th>2</th>\n",
       "      <td>2</td>\n",
       "      <td>chr1:191168-192093</td>\n",
       "      <td>AL627309.5</td>\n",
       "      <td>chr1:191168-192093</td>\n",
       "      <td>-17307</td>\n",
       "      <td>distal</td>\n",
       "      <td>1.0</td>\n",
       "      <td>AL627309.5</td>\n",
       "    </tr>\n",
       "    <tr>\n",
       "      <th>10</th>\n",
       "      <td>10</td>\n",
       "      <td>chr1:774742-775615</td>\n",
       "      <td>LINC01409</td>\n",
       "      <td>chr1:774742-775615</td>\n",
       "      <td>-3143</td>\n",
       "      <td>distal</td>\n",
       "      <td>4.0</td>\n",
       "      <td>LINC01409</td>\n",
       "    </tr>\n",
       "    <tr>\n",
       "      <th>11</th>\n",
       "      <td>11</td>\n",
       "      <td>chr1:778283-779200</td>\n",
       "      <td>LINC01409</td>\n",
       "      <td>chr1:778283-779200</td>\n",
       "      <td>0</td>\n",
       "      <td>promoter</td>\n",
       "      <td>4.0</td>\n",
       "      <td>LINC01409</td>\n",
       "    </tr>\n",
       "    <tr>\n",
       "      <th>12</th>\n",
       "      <td>12</td>\n",
       "      <td>chr1:816877-817776</td>\n",
       "      <td>FAM87B</td>\n",
       "      <td>chr1:816877-817776</td>\n",
       "      <td>0</td>\n",
       "      <td>promoter</td>\n",
       "      <td>5.0</td>\n",
       "      <td>FAM87B</td>\n",
       "    </tr>\n",
       "  </tbody>\n",
       "</table>\n",
       "</div>"
      ],
      "text/plain": [
       "    index_x            gene_ids   gene_name                peak  distance  \\\n",
       "1         1  chr1:180599-181702  AL627309.5  chr1:180599-181702     -6738   \n",
       "2         2  chr1:191168-192093  AL627309.5  chr1:191168-192093    -17307   \n",
       "10       10  chr1:774742-775615   LINC01409  chr1:774742-775615     -3143   \n",
       "11       11  chr1:778283-779200   LINC01409  chr1:778283-779200         0   \n",
       "12       12  chr1:816877-817776      FAM87B  chr1:816877-817776         0   \n",
       "\n",
       "   peak_type  index_y           0  \n",
       "1     distal      1.0  AL627309.5  \n",
       "2     distal      1.0  AL627309.5  \n",
       "10    distal      4.0   LINC01409  \n",
       "11  promoter      4.0   LINC01409  \n",
       "12  promoter      5.0      FAM87B  "
      ]
     },
     "execution_count": 9,
     "metadata": {},
     "output_type": "execute_result"
    }
   ],
   "source": [
    "# We merge the peak annotations (closest gene to ATAC peak) provided by 10X genomics\n",
    "# Reset index to maintain original atac.X index for reference\n",
    "peak_gene_labels = pd.merge(atac.var[['gene_ids']].reset_index(drop=True).reset_index(), \\\n",
    "                            atac.uns['atac']['peak_annotation'].reset_index(), \\\n",
    "                            how='left',left_on='gene_ids',right_on='peak')\n",
    "\n",
    "# Duplicates for multiple peaks per gene, but skips ones not observed in RNA\n",
    "# Reset index to maintain original rna.X index for reference\n",
    "peak_gene_pairs = pd.merge(peak_gene_labels,rna.var_names.to_frame(index=False).reset_index(), \\\n",
    "                           how='left',left_on='gene_name',right_on=0).dropna()\n",
    "peak_gene_pairs.head()"
   ]
  },
  {
   "cell_type": "code",
   "execution_count": 10,
   "id": "1d6b2c55-5ba2-4196-a9b4-e126e1aea0f0",
   "metadata": {},
   "outputs": [],
   "source": [
    "# We choose columns that overlap with RNAseq genes AND repeat those \n",
    "# that have multiple genes assigned by CellRanger\n",
    "occurences_x = peak_gene_pairs['index_x'].astype(int).values\n",
    "atac_Xs = atac_X[:,occurences_x]"
   ]
  },
  {
   "cell_type": "code",
   "execution_count": 11,
   "id": "7911f226-4cd3-4f1a-95bb-9091ff8d3b66",
   "metadata": {},
   "outputs": [],
   "source": [
    "# We choose columns that overlap with RNAseq genes AND repeat those \n",
    "# that have multiple peaks in ATAC modality\n",
    "occurences_y = peak_gene_pairs['index_y'].astype(int).values\n",
    "rna_Xs = rna_X[:,occurences_y]"
   ]
  },
  {
   "cell_type": "code",
   "execution_count": 12,
   "id": "0d1290a8-b033-42e1-a02f-56e6e4226f23",
   "metadata": {},
   "outputs": [
    {
     "name": "stdout",
     "output_type": "stream",
     "text": [
      "(9632, 161697) (9632, 161697)\n"
     ]
    }
   ],
   "source": [
    "# Now, shape should be same.\n",
    "print(atac_Xs.shape, rna_Xs.shape)"
   ]
  },
  {
   "cell_type": "markdown",
   "id": "272e52a8-96d1-43c7-a3cf-097a7f03bd9f",
   "metadata": {
    "jp-MarkdownHeadingCollapsed": true
   },
   "source": [
    "### Creating control peaks"
   ]
  },
  {
   "cell_type": "code",
   "execution_count": null,
   "id": "f4386c49-c294-44ed-a824-98a700655084",
   "metadata": {},
   "outputs": [],
   "source": [
    "# Take original peaks as well as their indices\n",
    "original_peaks = atac.var[['gene_ids']].reset_index(drop=True).reset_index()\n",
    "original_peaks = original_peaks.rename(columns={'index':'index_x'})"
   ]
  },
  {
   "cell_type": "code",
   "execution_count": null,
   "id": "ff272444-3e3e-42eb-ba12-cd62d5f51dcd",
   "metadata": {},
   "outputs": [],
   "source": [
    "# Find control peaks\n",
    "ctrl_peaks = create_ctrl_peaks(original_peaks, atac_X,n_bins=5,n_peaks=1000)"
   ]
  },
  {
   "cell_type": "markdown",
   "id": "6797a12b-92b2-4633-b930-8bb3096993a6",
   "metadata": {
    "jp-MarkdownHeadingCollapsed": true
   },
   "source": [
    "### Precomputed correlations\n",
    "If you would like to use my precomputed correlations for CT control peaks, other control peaks, and other focal peaks, you can load them here:"
   ]
  },
  {
   "cell_type": "code",
   "execution_count": 13,
   "id": "48f8e788-b75e-4b5a-9c34-d3f5ef7fb4e0",
   "metadata": {},
   "outputs": [],
   "source": [
    "# Load correlation for focal peak across all samples except focal CT.\n",
    "corr_others = []\n",
    "for x in np.arange(12):\n",
    "    corr_others += [np.load('090324_n_other/' + str(x) + '_other.npy')]"
   ]
  },
  {
   "cell_type": "code",
   "execution_count": 14,
   "id": "af90ec45-345f-4dbf-8d7c-617ca0530d98",
   "metadata": {},
   "outputs": [],
   "source": [
    "# Load correlation for control peak across samples of focal CT.\n",
    "ctrl_corr_ct = []\n",
    "for x in np.arange(12):\n",
    "    ctrl_corr_ct += [np.load('080324_n_ctrl_ct_1000x/' + str(x) + '_ctrl_ct_1000x.npy')]"
   ]
  },
  {
   "cell_type": "code",
   "execution_count": 15,
   "id": "18c49e5d-065f-4c51-a200-0540082810d9",
   "metadata": {},
   "outputs": [],
   "source": [
    "# Load correlation for control peak across all samples except focal CT.\n",
    "ctrl_corr_other = []\n",
    "for x in np.arange(12):\n",
    "    ctrl_corr_other += [np.load('160324_n_ctrl_other_1000x/' + str(x) + '_ctrl_other_1000x.npy')]"
   ]
  },
  {
   "cell_type": "code",
   "execution_count": 16,
   "id": "a88ea852-65ab-485e-a351-e92c82f32621",
   "metadata": {},
   "outputs": [],
   "source": [
    "# Load correlation for control peak across all samples.\n",
    "ctrl_corr_all = np.load('ctrl_corr_1000x.npy')"
   ]
  },
  {
   "cell_type": "code",
   "execution_count": 18,
   "id": "0a79d4e0-b82f-48e1-93e4-6f182a9dbdfe",
   "metadata": {},
   "outputs": [
    {
     "ename": "NameError",
     "evalue": "name 'pearson_corr_sparse' is not defined",
     "output_type": "error",
     "traceback": [
      "\u001b[0;31m---------------------------------------------------------------------------\u001b[0m",
      "\u001b[0;31mNameError\u001b[0m                                 Traceback (most recent call last)",
      "Cell \u001b[0;32mIn[18], line 2\u001b[0m\n\u001b[1;32m      1\u001b[0m \u001b[38;5;66;03m# Correlation across all cells\u001b[39;00m\n\u001b[0;32m----> 2\u001b[0m corr \u001b[38;5;241m=\u001b[39m \u001b[43mpearson_corr_sparse\u001b[49m(atac_Xs, rna_Xs, var_filter\u001b[38;5;241m=\u001b[39m\u001b[38;5;28;01mTrue\u001b[39;00m)\n",
      "\u001b[0;31mNameError\u001b[0m: name 'pearson_corr_sparse' is not defined"
     ]
    }
   ],
   "source": [
    "# Correlation across all cells\n",
    "corr = pearson_corr_sparse(atac_Xs, rna_Xs, var_filter=True)"
   ]
  },
  {
   "cell_type": "code",
   "execution_count": null,
   "id": "0cea98b1-c56b-4d5e-8411-0ddb227fb59c",
   "metadata": {},
   "outputs": [],
   "source": [
    "all_corr_df = pd.DataFrame(data={'peak_name':peak_gene_pairs.loc[corr[1]].gene_ids.values, \\\n",
    "                                  'gene_name':peak_gene_pairs.loc[corr[1]].gene_name.values, \\\n",
    "                                  'distance':peak_gene_pairs.loc[corr[1]].distance.values, \\\n",
    "                                  'corr':corr[0], \\\n",
    "                                  'mc_pval':mc_pval(ctrl_corr_all[corr[1]],corr[0]), \\\n",
    "                                  'z_pval':zscore_pval(ctrl_corr_all[corr[1]],corr[0]) \\\n",
    "                                })\n",
    "all_corr_df"
   ]
  },
  {
   "cell_type": "markdown",
   "id": "50e74fda-5cda-41d2-a92b-e18a7fd8a012",
   "metadata": {
    "jp-MarkdownHeadingCollapsed": true
   },
   "source": [
    "### CT specific example"
   ]
  },
  {
   "cell_type": "code",
   "execution_count": null,
   "id": "0190d0df-1a01-4dfc-bc18-5e6570fbf2f8",
   "metadata": {},
   "outputs": [],
   "source": [
    "# Generate result for CD4 naive T cells\n",
    "cd4nt_dict = ct_corr_pval(0)\n",
    "pd.DataFrame(cd4nt_dict[0]).sort_values(['delta_corr'],ascending=False)"
   ]
  }
 ],
 "metadata": {
  "kernelspec": {
   "display_name": "py39",
   "language": "python",
   "name": "py39"
  },
  "language_info": {
   "codemirror_mode": {
    "name": "ipython",
    "version": 3
   },
   "file_extension": ".py",
   "mimetype": "text/x-python",
   "name": "python",
   "nbconvert_exporter": "python",
   "pygments_lexer": "ipython3",
   "version": "3.9.18"
  }
 },
 "nbformat": 4,
 "nbformat_minor": 5
}
