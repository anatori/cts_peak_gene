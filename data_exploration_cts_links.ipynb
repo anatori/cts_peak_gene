{
 "cells": [
  {
   "cell_type": "markdown",
   "id": "1fc4e52c",
   "metadata": {},
   "source": [
    "# Data exploration of 10X PBMC Multiome data"
   ]
  },
  {
   "cell_type": "markdown",
   "id": "22fcf44d",
   "metadata": {},
   "source": [
    "The following files are needed to run this notebook:\n",
    "1. **'pbmc10k.h5mu'** file containing ATAC and RNA MuData objects.\n",
    "2. **'ctrl_peaks_1000x.npy'** file containing correlation of control peaks to focal gene.\n",
    "3. **'n_ctrl_ct_1000x.npy'** files for n->(0,11) corresponding to correlation of control peaks to focal gene within each cell type."
   ]
  },
  {
   "cell_type": "markdown",
   "id": "f4f5d0c7",
   "metadata": {},
   "source": [
    "## Load preprocessed data"
   ]
  },
  {
   "cell_type": "code",
   "execution_count": 71,
   "id": "dc0c1a4f",
   "metadata": {},
   "outputs": [],
   "source": [
    "# Importing libraries\n",
    "import numpy as np\n",
    "import pandas as pd \n",
    "import statsmodels.stats as stats\n",
    "import matplotlib.pyplot as plt\n",
    "import seaborn as sns\n",
    "import scipy as sp\n",
    "import scdrs\n",
    "import math\n",
    "\n",
    "import anndata as ad\n",
    "import scanpy as sc\n",
    "import muon as mu"
   ]
  },
  {
   "cell_type": "code",
   "execution_count": 72,
   "id": "9604d19b",
   "metadata": {},
   "outputs": [
    {
     "ename": "KeyboardInterrupt",
     "evalue": "",
     "output_type": "error",
     "traceback": [
      "\u001b[0;31m---------------------------------------------------------------------------\u001b[0m",
      "\u001b[0;31mKeyboardInterrupt\u001b[0m                         Traceback (most recent call last)",
      "Cell \u001b[0;32mIn[72], line 2\u001b[0m\n\u001b[1;32m      1\u001b[0m \u001b[38;5;66;03m# Since I preprocessed the data using Muon package, data is stored in Muon's hdf5-based .h5mu file.\u001b[39;00m\n\u001b[0;32m----> 2\u001b[0m mdata \u001b[38;5;241m=\u001b[39m \u001b[43mmu\u001b[49m\u001b[38;5;241;43m.\u001b[39;49m\u001b[43mread\u001b[49m\u001b[43m(\u001b[49m\u001b[38;5;124;43m'\u001b[39;49m\u001b[38;5;124;43mpbmc10k.h5mu\u001b[39;49m\u001b[38;5;124;43m'\u001b[39;49m\u001b[43m)\u001b[49m\n\u001b[1;32m      3\u001b[0m mdata\n",
      "File \u001b[0;32m~/miniconda3/envs/py39/lib/python3.9/site-packages/mudata/_core/io.py:599\u001b[0m, in \u001b[0;36mread\u001b[0;34m(filename, **kwargs)\u001b[0m\n\u001b[1;32m    596\u001b[0m \u001b[38;5;28;01mif\u001b[39;00m m[\u001b[38;5;241m1\u001b[39m] \u001b[38;5;241m==\u001b[39m \u001b[38;5;124m\"\u001b[39m\u001b[38;5;124mh5mu\u001b[39m\u001b[38;5;124m\"\u001b[39m:\n\u001b[1;32m    597\u001b[0m     \u001b[38;5;28;01mif\u001b[39;00m \u001b[38;5;28mall\u001b[39m(i \u001b[38;5;241m==\u001b[39m \u001b[38;5;241m0\u001b[39m \u001b[38;5;28;01mfor\u001b[39;00m i \u001b[38;5;129;01min\u001b[39;00m \u001b[38;5;28mmap\u001b[39m(\u001b[38;5;28mlen\u001b[39m, m[\u001b[38;5;241m2\u001b[39m:])):\n\u001b[1;32m    598\u001b[0m         \u001b[38;5;66;03m# Ends with .h5mu\u001b[39;00m\n\u001b[0;32m--> 599\u001b[0m         \u001b[38;5;28;01mreturn\u001b[39;00m \u001b[43mread_h5mu\u001b[49m\u001b[43m(\u001b[49m\u001b[43mfilepath\u001b[49m\u001b[43m,\u001b[49m\u001b[43m \u001b[49m\u001b[38;5;241;43m*\u001b[39;49m\u001b[38;5;241;43m*\u001b[39;49m\u001b[43mkwargs\u001b[49m\u001b[43m)\u001b[49m\n\u001b[1;32m    600\u001b[0m     \u001b[38;5;28;01melif\u001b[39;00m m[\u001b[38;5;241m3\u001b[39m] \u001b[38;5;241m==\u001b[39m \u001b[38;5;124m\"\u001b[39m\u001b[38;5;124m\"\u001b[39m:\n\u001b[1;32m    601\u001b[0m         \u001b[38;5;66;03m# .h5mu/<modality>\u001b[39;00m\n\u001b[1;32m    602\u001b[0m         \u001b[38;5;28;01mreturn\u001b[39;00m read_h5ad(filepath, m[\u001b[38;5;241m2\u001b[39m], \u001b[38;5;241m*\u001b[39m\u001b[38;5;241m*\u001b[39mkwargs)\n",
      "File \u001b[0;32m~/miniconda3/envs/py39/lib/python3.9/site-packages/mudata/_core/io.py:380\u001b[0m, in \u001b[0;36mread_h5mu\u001b[0;34m(filename, backed)\u001b[0m\n\u001b[1;32m    378\u001b[0m gmods \u001b[38;5;241m=\u001b[39m f[k]\n\u001b[1;32m    379\u001b[0m \u001b[38;5;28;01mfor\u001b[39;00m m \u001b[38;5;129;01min\u001b[39;00m gmods\u001b[38;5;241m.\u001b[39mkeys():\n\u001b[0;32m--> 380\u001b[0m     ad \u001b[38;5;241m=\u001b[39m \u001b[43m_read_h5mu_mod\u001b[49m\u001b[43m(\u001b[49m\u001b[43mgmods\u001b[49m\u001b[43m[\u001b[49m\u001b[43mm\u001b[49m\u001b[43m]\u001b[49m\u001b[43m,\u001b[49m\u001b[43m \u001b[49m\u001b[43mmanager\u001b[49m\u001b[43m,\u001b[49m\u001b[43m \u001b[49m\u001b[43mbacked\u001b[49m\u001b[43m \u001b[49m\u001b[38;5;129;43;01mnot\u001b[39;49;00m\u001b[43m \u001b[49m\u001b[38;5;129;43;01min\u001b[39;49;00m\u001b[43m \u001b[49m\u001b[43m(\u001b[49m\u001b[38;5;28;43;01mNone\u001b[39;49;00m\u001b[43m,\u001b[49m\u001b[43m \u001b[49m\u001b[38;5;28;43;01mFalse\u001b[39;49;00m\u001b[43m)\u001b[49m\u001b[43m)\u001b[49m\n\u001b[1;32m    381\u001b[0m     mods[m] \u001b[38;5;241m=\u001b[39m ad\n\u001b[1;32m    383\u001b[0m mod_order \u001b[38;5;241m=\u001b[39m \u001b[38;5;28;01mNone\u001b[39;00m\n",
      "File \u001b[0;32m~/miniconda3/envs/py39/lib/python3.9/site-packages/mudata/_core/io.py:512\u001b[0m, in \u001b[0;36m_read_h5mu_mod\u001b[0;34m(g, manager, backed)\u001b[0m\n\u001b[1;32m    510\u001b[0m             d[\u001b[38;5;124m\"\u001b[39m\u001b[38;5;124mX\u001b[39m\u001b[38;5;124m\"\u001b[39m] \u001b[38;5;241m=\u001b[39m read_elem(X)\n\u001b[1;32m    511\u001b[0m     \u001b[38;5;28;01melif\u001b[39;00m k \u001b[38;5;241m!=\u001b[39m \u001b[38;5;124m\"\u001b[39m\u001b[38;5;124mraw\u001b[39m\u001b[38;5;124m\"\u001b[39m:\n\u001b[0;32m--> 512\u001b[0m         d[k] \u001b[38;5;241m=\u001b[39m \u001b[43mread_elem\u001b[49m\u001b[43m(\u001b[49m\u001b[43mg\u001b[49m\u001b[43m[\u001b[49m\u001b[43mk\u001b[49m\u001b[43m]\u001b[49m\u001b[43m)\u001b[49m\n\u001b[1;32m    513\u001b[0m ad \u001b[38;5;241m=\u001b[39m AnnData(\u001b[38;5;241m*\u001b[39m\u001b[38;5;241m*\u001b[39md)\n\u001b[1;32m    514\u001b[0m \u001b[38;5;28;01mif\u001b[39;00m manager \u001b[38;5;129;01mis\u001b[39;00m \u001b[38;5;129;01mnot\u001b[39;00m \u001b[38;5;28;01mNone\u001b[39;00m:\n",
      "File \u001b[0;32m~/miniconda3/envs/py39/lib/python3.9/site-packages/anndata/_io/specs/registry.py:341\u001b[0m, in \u001b[0;36mread_elem\u001b[0;34m(elem)\u001b[0m\n\u001b[1;32m    329\u001b[0m \u001b[38;5;28;01mdef\u001b[39;00m \u001b[38;5;21mread_elem\u001b[39m(elem: StorageType) \u001b[38;5;241m-\u001b[39m\u001b[38;5;241m>\u001b[39m Any:\n\u001b[1;32m    330\u001b[0m \u001b[38;5;250m    \u001b[39m\u001b[38;5;124;03m\"\"\"\u001b[39;00m\n\u001b[1;32m    331\u001b[0m \u001b[38;5;124;03m    Read an element from a store.\u001b[39;00m\n\u001b[1;32m    332\u001b[0m \n\u001b[0;32m   (...)\u001b[0m\n\u001b[1;32m    339\u001b[0m \u001b[38;5;124;03m        The stored element.\u001b[39;00m\n\u001b[1;32m    340\u001b[0m \u001b[38;5;124;03m    \"\"\"\u001b[39;00m\n\u001b[0;32m--> 341\u001b[0m     \u001b[38;5;28;01mreturn\u001b[39;00m \u001b[43mReader\u001b[49m\u001b[43m(\u001b[49m\u001b[43m_REGISTRY\u001b[49m\u001b[43m)\u001b[49m\u001b[38;5;241;43m.\u001b[39;49m\u001b[43mread_elem\u001b[49m\u001b[43m(\u001b[49m\u001b[43melem\u001b[49m\u001b[43m)\u001b[49m\n",
      "File \u001b[0;32m~/miniconda3/envs/py39/lib/python3.9/site-packages/anndata/_io/utils.py:205\u001b[0m, in \u001b[0;36mreport_read_key_on_error.<locals>.func_wrapper\u001b[0;34m(*args, **kwargs)\u001b[0m\n\u001b[1;32m    203\u001b[0m         \u001b[38;5;28;01mbreak\u001b[39;00m\n\u001b[1;32m    204\u001b[0m \u001b[38;5;28;01mtry\u001b[39;00m:\n\u001b[0;32m--> 205\u001b[0m     \u001b[38;5;28;01mreturn\u001b[39;00m \u001b[43mfunc\u001b[49m\u001b[43m(\u001b[49m\u001b[38;5;241;43m*\u001b[39;49m\u001b[43margs\u001b[49m\u001b[43m,\u001b[49m\u001b[43m \u001b[49m\u001b[38;5;241;43m*\u001b[39;49m\u001b[38;5;241;43m*\u001b[39;49m\u001b[43mkwargs\u001b[49m\u001b[43m)\u001b[49m\n\u001b[1;32m    206\u001b[0m \u001b[38;5;28;01mexcept\u001b[39;00m \u001b[38;5;167;01mException\u001b[39;00m \u001b[38;5;28;01mas\u001b[39;00m e:\n\u001b[1;32m    207\u001b[0m     add_key_note(e, elem, elem\u001b[38;5;241m.\u001b[39mname, \u001b[38;5;124m\"\u001b[39m\u001b[38;5;124mread\u001b[39m\u001b[38;5;124m\"\u001b[39m)\n",
      "File \u001b[0;32m~/miniconda3/envs/py39/lib/python3.9/site-packages/anndata/_io/specs/registry.py:251\u001b[0m, in \u001b[0;36mReader.read_elem\u001b[0;34m(self, elem, modifiers)\u001b[0m\n\u001b[1;32m    249\u001b[0m     \u001b[38;5;28;01mreturn\u001b[39;00m \u001b[38;5;28mself\u001b[39m\u001b[38;5;241m.\u001b[39mcallback(read_func, elem\u001b[38;5;241m.\u001b[39mname, elem, iospec\u001b[38;5;241m=\u001b[39mget_spec(elem))\n\u001b[1;32m    250\u001b[0m \u001b[38;5;28;01melse\u001b[39;00m:\n\u001b[0;32m--> 251\u001b[0m     \u001b[38;5;28;01mreturn\u001b[39;00m \u001b[43mread_func\u001b[49m\u001b[43m(\u001b[49m\u001b[43melem\u001b[49m\u001b[43m)\u001b[49m\n",
      "File \u001b[0;32m~/miniconda3/envs/py39/lib/python3.9/site-packages/anndata/_io/specs/methods.py:304\u001b[0m, in \u001b[0;36mread_mapping\u001b[0;34m(elem, _reader)\u001b[0m\n\u001b[1;32m    301\u001b[0m \u001b[38;5;129m@_REGISTRY\u001b[39m\u001b[38;5;241m.\u001b[39mregister_read(H5Group, IOSpec(\u001b[38;5;124m\"\u001b[39m\u001b[38;5;124mdict\u001b[39m\u001b[38;5;124m\"\u001b[39m, \u001b[38;5;124m\"\u001b[39m\u001b[38;5;124m0.1.0\u001b[39m\u001b[38;5;124m\"\u001b[39m))\n\u001b[1;32m    302\u001b[0m \u001b[38;5;129m@_REGISTRY\u001b[39m\u001b[38;5;241m.\u001b[39mregister_read(ZarrGroup, IOSpec(\u001b[38;5;124m\"\u001b[39m\u001b[38;5;124mdict\u001b[39m\u001b[38;5;124m\"\u001b[39m, \u001b[38;5;124m\"\u001b[39m\u001b[38;5;124m0.1.0\u001b[39m\u001b[38;5;124m\"\u001b[39m))\n\u001b[1;32m    303\u001b[0m \u001b[38;5;28;01mdef\u001b[39;00m \u001b[38;5;21mread_mapping\u001b[39m(elem, _reader):\n\u001b[0;32m--> 304\u001b[0m     \u001b[38;5;28;01mreturn\u001b[39;00m {k: _reader\u001b[38;5;241m.\u001b[39mread_elem(v) \u001b[38;5;28;01mfor\u001b[39;00m k, v \u001b[38;5;129;01min\u001b[39;00m elem\u001b[38;5;241m.\u001b[39mitems()}\n",
      "File \u001b[0;32m~/miniconda3/envs/py39/lib/python3.9/site-packages/anndata/_io/specs/methods.py:304\u001b[0m, in \u001b[0;36m<dictcomp>\u001b[0;34m(.0)\u001b[0m\n\u001b[1;32m    301\u001b[0m \u001b[38;5;129m@_REGISTRY\u001b[39m\u001b[38;5;241m.\u001b[39mregister_read(H5Group, IOSpec(\u001b[38;5;124m\"\u001b[39m\u001b[38;5;124mdict\u001b[39m\u001b[38;5;124m\"\u001b[39m, \u001b[38;5;124m\"\u001b[39m\u001b[38;5;124m0.1.0\u001b[39m\u001b[38;5;124m\"\u001b[39m))\n\u001b[1;32m    302\u001b[0m \u001b[38;5;129m@_REGISTRY\u001b[39m\u001b[38;5;241m.\u001b[39mregister_read(ZarrGroup, IOSpec(\u001b[38;5;124m\"\u001b[39m\u001b[38;5;124mdict\u001b[39m\u001b[38;5;124m\"\u001b[39m, \u001b[38;5;124m\"\u001b[39m\u001b[38;5;124m0.1.0\u001b[39m\u001b[38;5;124m\"\u001b[39m))\n\u001b[1;32m    303\u001b[0m \u001b[38;5;28;01mdef\u001b[39;00m \u001b[38;5;21mread_mapping\u001b[39m(elem, _reader):\n\u001b[0;32m--> 304\u001b[0m     \u001b[38;5;28;01mreturn\u001b[39;00m {k: \u001b[43m_reader\u001b[49m\u001b[38;5;241;43m.\u001b[39;49m\u001b[43mread_elem\u001b[49m\u001b[43m(\u001b[49m\u001b[43mv\u001b[49m\u001b[43m)\u001b[49m \u001b[38;5;28;01mfor\u001b[39;00m k, v \u001b[38;5;129;01min\u001b[39;00m elem\u001b[38;5;241m.\u001b[39mitems()}\n",
      "File \u001b[0;32m~/miniconda3/envs/py39/lib/python3.9/site-packages/anndata/_io/utils.py:205\u001b[0m, in \u001b[0;36mreport_read_key_on_error.<locals>.func_wrapper\u001b[0;34m(*args, **kwargs)\u001b[0m\n\u001b[1;32m    203\u001b[0m         \u001b[38;5;28;01mbreak\u001b[39;00m\n\u001b[1;32m    204\u001b[0m \u001b[38;5;28;01mtry\u001b[39;00m:\n\u001b[0;32m--> 205\u001b[0m     \u001b[38;5;28;01mreturn\u001b[39;00m \u001b[43mfunc\u001b[49m\u001b[43m(\u001b[49m\u001b[38;5;241;43m*\u001b[39;49m\u001b[43margs\u001b[49m\u001b[43m,\u001b[49m\u001b[43m \u001b[49m\u001b[38;5;241;43m*\u001b[39;49m\u001b[38;5;241;43m*\u001b[39;49m\u001b[43mkwargs\u001b[49m\u001b[43m)\u001b[49m\n\u001b[1;32m    206\u001b[0m \u001b[38;5;28;01mexcept\u001b[39;00m \u001b[38;5;167;01mException\u001b[39;00m \u001b[38;5;28;01mas\u001b[39;00m e:\n\u001b[1;32m    207\u001b[0m     add_key_note(e, elem, elem\u001b[38;5;241m.\u001b[39mname, \u001b[38;5;124m\"\u001b[39m\u001b[38;5;124mread\u001b[39m\u001b[38;5;124m\"\u001b[39m)\n",
      "File \u001b[0;32m~/miniconda3/envs/py39/lib/python3.9/site-packages/anndata/_io/specs/registry.py:251\u001b[0m, in \u001b[0;36mReader.read_elem\u001b[0;34m(self, elem, modifiers)\u001b[0m\n\u001b[1;32m    249\u001b[0m     \u001b[38;5;28;01mreturn\u001b[39;00m \u001b[38;5;28mself\u001b[39m\u001b[38;5;241m.\u001b[39mcallback(read_func, elem\u001b[38;5;241m.\u001b[39mname, elem, iospec\u001b[38;5;241m=\u001b[39mget_spec(elem))\n\u001b[1;32m    250\u001b[0m \u001b[38;5;28;01melse\u001b[39;00m:\n\u001b[0;32m--> 251\u001b[0m     \u001b[38;5;28;01mreturn\u001b[39;00m \u001b[43mread_func\u001b[49m\u001b[43m(\u001b[49m\u001b[43melem\u001b[49m\u001b[43m)\u001b[49m\n",
      "File \u001b[0;32m~/miniconda3/envs/py39/lib/python3.9/site-packages/anndata/_io/specs/methods.py:304\u001b[0m, in \u001b[0;36mread_mapping\u001b[0;34m(elem, _reader)\u001b[0m\n\u001b[1;32m    301\u001b[0m \u001b[38;5;129m@_REGISTRY\u001b[39m\u001b[38;5;241m.\u001b[39mregister_read(H5Group, IOSpec(\u001b[38;5;124m\"\u001b[39m\u001b[38;5;124mdict\u001b[39m\u001b[38;5;124m\"\u001b[39m, \u001b[38;5;124m\"\u001b[39m\u001b[38;5;124m0.1.0\u001b[39m\u001b[38;5;124m\"\u001b[39m))\n\u001b[1;32m    302\u001b[0m \u001b[38;5;129m@_REGISTRY\u001b[39m\u001b[38;5;241m.\u001b[39mregister_read(ZarrGroup, IOSpec(\u001b[38;5;124m\"\u001b[39m\u001b[38;5;124mdict\u001b[39m\u001b[38;5;124m\"\u001b[39m, \u001b[38;5;124m\"\u001b[39m\u001b[38;5;124m0.1.0\u001b[39m\u001b[38;5;124m\"\u001b[39m))\n\u001b[1;32m    303\u001b[0m \u001b[38;5;28;01mdef\u001b[39;00m \u001b[38;5;21mread_mapping\u001b[39m(elem, _reader):\n\u001b[0;32m--> 304\u001b[0m     \u001b[38;5;28;01mreturn\u001b[39;00m {k: _reader\u001b[38;5;241m.\u001b[39mread_elem(v) \u001b[38;5;28;01mfor\u001b[39;00m k, v \u001b[38;5;129;01min\u001b[39;00m elem\u001b[38;5;241m.\u001b[39mitems()}\n",
      "File \u001b[0;32m~/miniconda3/envs/py39/lib/python3.9/site-packages/anndata/_io/specs/methods.py:304\u001b[0m, in \u001b[0;36m<dictcomp>\u001b[0;34m(.0)\u001b[0m\n\u001b[1;32m    301\u001b[0m \u001b[38;5;129m@_REGISTRY\u001b[39m\u001b[38;5;241m.\u001b[39mregister_read(H5Group, IOSpec(\u001b[38;5;124m\"\u001b[39m\u001b[38;5;124mdict\u001b[39m\u001b[38;5;124m\"\u001b[39m, \u001b[38;5;124m\"\u001b[39m\u001b[38;5;124m0.1.0\u001b[39m\u001b[38;5;124m\"\u001b[39m))\n\u001b[1;32m    302\u001b[0m \u001b[38;5;129m@_REGISTRY\u001b[39m\u001b[38;5;241m.\u001b[39mregister_read(ZarrGroup, IOSpec(\u001b[38;5;124m\"\u001b[39m\u001b[38;5;124mdict\u001b[39m\u001b[38;5;124m\"\u001b[39m, \u001b[38;5;124m\"\u001b[39m\u001b[38;5;124m0.1.0\u001b[39m\u001b[38;5;124m\"\u001b[39m))\n\u001b[1;32m    303\u001b[0m \u001b[38;5;28;01mdef\u001b[39;00m \u001b[38;5;21mread_mapping\u001b[39m(elem, _reader):\n\u001b[0;32m--> 304\u001b[0m     \u001b[38;5;28;01mreturn\u001b[39;00m {k: \u001b[43m_reader\u001b[49m\u001b[38;5;241;43m.\u001b[39;49m\u001b[43mread_elem\u001b[49m\u001b[43m(\u001b[49m\u001b[43mv\u001b[49m\u001b[43m)\u001b[49m \u001b[38;5;28;01mfor\u001b[39;00m k, v \u001b[38;5;129;01min\u001b[39;00m elem\u001b[38;5;241m.\u001b[39mitems()}\n",
      "File \u001b[0;32m~/miniconda3/envs/py39/lib/python3.9/site-packages/anndata/_io/utils.py:205\u001b[0m, in \u001b[0;36mreport_read_key_on_error.<locals>.func_wrapper\u001b[0;34m(*args, **kwargs)\u001b[0m\n\u001b[1;32m    203\u001b[0m         \u001b[38;5;28;01mbreak\u001b[39;00m\n\u001b[1;32m    204\u001b[0m \u001b[38;5;28;01mtry\u001b[39;00m:\n\u001b[0;32m--> 205\u001b[0m     \u001b[38;5;28;01mreturn\u001b[39;00m \u001b[43mfunc\u001b[49m\u001b[43m(\u001b[49m\u001b[38;5;241;43m*\u001b[39;49m\u001b[43margs\u001b[49m\u001b[43m,\u001b[49m\u001b[43m \u001b[49m\u001b[38;5;241;43m*\u001b[39;49m\u001b[38;5;241;43m*\u001b[39;49m\u001b[43mkwargs\u001b[49m\u001b[43m)\u001b[49m\n\u001b[1;32m    206\u001b[0m \u001b[38;5;28;01mexcept\u001b[39;00m \u001b[38;5;167;01mException\u001b[39;00m \u001b[38;5;28;01mas\u001b[39;00m e:\n\u001b[1;32m    207\u001b[0m     add_key_note(e, elem, elem\u001b[38;5;241m.\u001b[39mname, \u001b[38;5;124m\"\u001b[39m\u001b[38;5;124mread\u001b[39m\u001b[38;5;124m\"\u001b[39m)\n",
      "File \u001b[0;32m~/miniconda3/envs/py39/lib/python3.9/site-packages/anndata/_io/specs/registry.py:251\u001b[0m, in \u001b[0;36mReader.read_elem\u001b[0;34m(self, elem, modifiers)\u001b[0m\n\u001b[1;32m    249\u001b[0m     \u001b[38;5;28;01mreturn\u001b[39;00m \u001b[38;5;28mself\u001b[39m\u001b[38;5;241m.\u001b[39mcallback(read_func, elem\u001b[38;5;241m.\u001b[39mname, elem, iospec\u001b[38;5;241m=\u001b[39mget_spec(elem))\n\u001b[1;32m    250\u001b[0m \u001b[38;5;28;01melse\u001b[39;00m:\n\u001b[0;32m--> 251\u001b[0m     \u001b[38;5;28;01mreturn\u001b[39;00m \u001b[43mread_func\u001b[49m\u001b[43m(\u001b[49m\u001b[43melem\u001b[49m\u001b[43m)\u001b[49m\n",
      "File \u001b[0;32m~/miniconda3/envs/py39/lib/python3.9/site-packages/anndata/_io/specs/methods.py:463\u001b[0m, in \u001b[0;36mread_recarray\u001b[0;34m(d, _reader)\u001b[0m\n\u001b[1;32m    461\u001b[0m value \u001b[38;5;241m=\u001b[39m _from_fixed_length_strings(value)\n\u001b[1;32m    462\u001b[0m \u001b[38;5;28;01mif\u001b[39;00m H5PY_V3:\n\u001b[0;32m--> 463\u001b[0m     value \u001b[38;5;241m=\u001b[39m \u001b[43m_decode_structured_array\u001b[49m\u001b[43m(\u001b[49m\u001b[43mvalue\u001b[49m\u001b[43m,\u001b[49m\u001b[43m \u001b[49m\u001b[43mdtype\u001b[49m\u001b[38;5;241;43m=\u001b[39;49m\u001b[43mdtype\u001b[49m\u001b[43m)\u001b[49m\n\u001b[1;32m    464\u001b[0m \u001b[38;5;28;01mreturn\u001b[39;00m value\n",
      "File \u001b[0;32m~/miniconda3/envs/py39/lib/python3.9/site-packages/anndata/compat/__init__.py:231\u001b[0m, in \u001b[0;36m_decode_structured_array\u001b[0;34m(arr, dtype, copy)\u001b[0m\n\u001b[1;32m    229\u001b[0m     check \u001b[38;5;241m=\u001b[39m h5py\u001b[38;5;241m.\u001b[39mcheck_string_dtype(dt)\n\u001b[1;32m    230\u001b[0m     \u001b[38;5;28;01mif\u001b[39;00m check \u001b[38;5;129;01mis\u001b[39;00m \u001b[38;5;129;01mnot\u001b[39;00m \u001b[38;5;28;01mNone\u001b[39;00m \u001b[38;5;129;01mand\u001b[39;00m check\u001b[38;5;241m.\u001b[39mencoding \u001b[38;5;241m==\u001b[39m \u001b[38;5;124m\"\u001b[39m\u001b[38;5;124mutf-8\u001b[39m\u001b[38;5;124m\"\u001b[39m:\n\u001b[0;32m--> 231\u001b[0m         \u001b[43mdecode\u001b[49m\u001b[43m(\u001b[49m\u001b[43marr\u001b[49m\u001b[43m[\u001b[49m\u001b[43mk\u001b[49m\u001b[43m]\u001b[49m\u001b[43m,\u001b[49m\u001b[43m \u001b[49m\u001b[43mout\u001b[49m\u001b[38;5;241;43m=\u001b[39;49m\u001b[43marr\u001b[49m\u001b[43m[\u001b[49m\u001b[43mk\u001b[49m\u001b[43m]\u001b[49m\u001b[43m)\u001b[49m\n\u001b[1;32m    232\u001b[0m \u001b[38;5;28;01mreturn\u001b[39;00m arr\n",
      "File \u001b[0;32m~/miniconda3/envs/py39/lib/python3.9/site-packages/anndata/compat/__init__.py:227\u001b[0m, in \u001b[0;36m_decode_structured_array.<locals>.<lambda>\u001b[0;34m(x)\u001b[0m\n\u001b[1;32m    225\u001b[0m     dtype \u001b[38;5;241m=\u001b[39m arr\u001b[38;5;241m.\u001b[39mdtype\n\u001b[1;32m    226\u001b[0m \u001b[38;5;66;03m# codecs.decode is 2x slower than this lambda, go figure\u001b[39;00m\n\u001b[0;32m--> 227\u001b[0m decode \u001b[38;5;241m=\u001b[39m np\u001b[38;5;241m.\u001b[39mfrompyfunc(\u001b[38;5;28;01mlambda\u001b[39;00m x: \u001b[43mx\u001b[49m\u001b[38;5;241;43m.\u001b[39;49m\u001b[43mdecode\u001b[49m\u001b[43m(\u001b[49m\u001b[38;5;124;43m\"\u001b[39;49m\u001b[38;5;124;43mutf-8\u001b[39;49m\u001b[38;5;124;43m\"\u001b[39;49m\u001b[43m)\u001b[49m, \u001b[38;5;241m1\u001b[39m, \u001b[38;5;241m1\u001b[39m)\n\u001b[1;32m    228\u001b[0m \u001b[38;5;28;01mfor\u001b[39;00m k, (dt, _) \u001b[38;5;129;01min\u001b[39;00m dtype\u001b[38;5;241m.\u001b[39mfields\u001b[38;5;241m.\u001b[39mitems():\n\u001b[1;32m    229\u001b[0m     check \u001b[38;5;241m=\u001b[39m h5py\u001b[38;5;241m.\u001b[39mcheck_string_dtype(dt)\n",
      "\u001b[0;31mKeyboardInterrupt\u001b[0m: "
     ]
    }
   ],
   "source": [
    "# Since I preprocessed the data using Muon package, data is stored in Muon's hdf5-based .h5mu file.\n",
    "mdata = mu.read('pbmc10k.h5mu')\n",
    "mdata"
   ]
  },
  {
   "cell_type": "code",
   "execution_count": 3,
   "id": "2860ecbf",
   "metadata": {},
   "outputs": [],
   "source": [
    "# Use intersect_obs to only retain samples that passed QC in both RNA and ATAC modality.\n",
    "mu.pp.intersect_obs(mdata)\n",
    "rna = mdata.mod['rna']\n",
    "atac = mdata.mod['atac']"
   ]
  },
  {
   "cell_type": "markdown",
   "id": "65b62a47",
   "metadata": {},
   "source": [
    "## Aligning peak-gene pair ATAC and RNA values\n",
    "Normalized log1p data. Run this section to get gene labels for each peak and select the subset of peak-gene pairs present in both modalities."
   ]
  },
  {
   "cell_type": "code",
   "execution_count": 4,
   "id": "38ae78e0",
   "metadata": {},
   "outputs": [],
   "source": [
    "# Normalized log1p data is stored in atac.X and rna.X as numpy arrays.\n",
    "# We convert them to sparse arrays.\n",
    "atac_Xs = sp.sparse.csc_array(atac.X)\n",
    "rna_Xs = sp.sparse.csc_array(rna.X)"
   ]
  },
  {
   "cell_type": "code",
   "execution_count": 5,
   "id": "5a1023d9",
   "metadata": {},
   "outputs": [
    {
     "data": {
      "text/html": [
       "<div>\n",
       "<style scoped>\n",
       "    .dataframe tbody tr th:only-of-type {\n",
       "        vertical-align: middle;\n",
       "    }\n",
       "\n",
       "    .dataframe tbody tr th {\n",
       "        vertical-align: top;\n",
       "    }\n",
       "\n",
       "    .dataframe thead th {\n",
       "        text-align: right;\n",
       "    }\n",
       "</style>\n",
       "<table border=\"1\" class=\"dataframe\">\n",
       "  <thead>\n",
       "    <tr style=\"text-align: right;\">\n",
       "      <th></th>\n",
       "      <th>gene_ids</th>\n",
       "      <th>gene_name</th>\n",
       "      <th>peak</th>\n",
       "      <th>distance</th>\n",
       "      <th>peak_type</th>\n",
       "    </tr>\n",
       "  </thead>\n",
       "  <tbody>\n",
       "    <tr>\n",
       "      <th>0</th>\n",
       "      <td>chr1:9790-10675</td>\n",
       "      <td>MIR1302-2HG</td>\n",
       "      <td>chr1:9790-10675</td>\n",
       "      <td>-18879</td>\n",
       "      <td>distal</td>\n",
       "    </tr>\n",
       "    <tr>\n",
       "      <th>1</th>\n",
       "      <td>chr1:180599-181702</td>\n",
       "      <td>AL627309.5</td>\n",
       "      <td>chr1:180599-181702</td>\n",
       "      <td>-6738</td>\n",
       "      <td>distal</td>\n",
       "    </tr>\n",
       "    <tr>\n",
       "      <th>2</th>\n",
       "      <td>chr1:191168-192093</td>\n",
       "      <td>AL627309.5</td>\n",
       "      <td>chr1:191168-192093</td>\n",
       "      <td>-17307</td>\n",
       "      <td>distal</td>\n",
       "    </tr>\n",
       "    <tr>\n",
       "      <th>3</th>\n",
       "      <td>chr1:267565-268455</td>\n",
       "      <td>AP006222.2</td>\n",
       "      <td>chr1:267565-268455</td>\n",
       "      <td>711</td>\n",
       "      <td>distal</td>\n",
       "    </tr>\n",
       "    <tr>\n",
       "      <th>4</th>\n",
       "      <td>chr1:270876-271770</td>\n",
       "      <td>AP006222.2</td>\n",
       "      <td>chr1:270876-271770</td>\n",
       "      <td>4022</td>\n",
       "      <td>distal</td>\n",
       "    </tr>\n",
       "  </tbody>\n",
       "</table>\n",
       "</div>"
      ],
      "text/plain": [
       "             gene_ids    gene_name                peak  distance peak_type\n",
       "0     chr1:9790-10675  MIR1302-2HG     chr1:9790-10675    -18879    distal\n",
       "1  chr1:180599-181702   AL627309.5  chr1:180599-181702     -6738    distal\n",
       "2  chr1:191168-192093   AL627309.5  chr1:191168-192093    -17307    distal\n",
       "3  chr1:267565-268455   AP006222.2  chr1:267565-268455       711    distal\n",
       "4  chr1:270876-271770   AP006222.2  chr1:270876-271770      4022    distal"
      ]
     },
     "execution_count": 5,
     "metadata": {},
     "output_type": "execute_result"
    }
   ],
   "source": [
    "# We merge the peak annotations (closest gene to ATAC peak) provided by 10X genomics\n",
    "peak_gene_labels = pd.merge(atac.var[['gene_ids']],atac.uns['atac']['peak_annotation'].reset_index(),how='left',left_on='gene_ids',right_on='peak')\n",
    "peak_gene_labels = peak_gene_labels.drop_duplicates(subset='peak').reset_index(drop=True)\n",
    "peak_gene_labels.head()"
   ]
  },
  {
   "cell_type": "code",
   "execution_count": 6,
   "id": "40456993",
   "metadata": {},
   "outputs": [
    {
     "data": {
      "text/html": [
       "<div>\n",
       "<style scoped>\n",
       "    .dataframe tbody tr th:only-of-type {\n",
       "        vertical-align: middle;\n",
       "    }\n",
       "\n",
       "    .dataframe tbody tr th {\n",
       "        vertical-align: top;\n",
       "    }\n",
       "\n",
       "    .dataframe thead th {\n",
       "        text-align: right;\n",
       "    }\n",
       "</style>\n",
       "<table border=\"1\" class=\"dataframe\">\n",
       "  <thead>\n",
       "    <tr style=\"text-align: right;\">\n",
       "      <th></th>\n",
       "      <th>gene_ids</th>\n",
       "      <th>gene_name</th>\n",
       "      <th>peak</th>\n",
       "      <th>distance</th>\n",
       "      <th>peak_type</th>\n",
       "      <th>index</th>\n",
       "      <th>0</th>\n",
       "    </tr>\n",
       "  </thead>\n",
       "  <tbody>\n",
       "    <tr>\n",
       "      <th>1</th>\n",
       "      <td>chr1:180599-181702</td>\n",
       "      <td>AL627309.5</td>\n",
       "      <td>chr1:180599-181702</td>\n",
       "      <td>-6738</td>\n",
       "      <td>distal</td>\n",
       "      <td>1.0</td>\n",
       "      <td>AL627309.5</td>\n",
       "    </tr>\n",
       "    <tr>\n",
       "      <th>2</th>\n",
       "      <td>chr1:191168-192093</td>\n",
       "      <td>AL627309.5</td>\n",
       "      <td>chr1:191168-192093</td>\n",
       "      <td>-17307</td>\n",
       "      <td>distal</td>\n",
       "      <td>1.0</td>\n",
       "      <td>AL627309.5</td>\n",
       "    </tr>\n",
       "    <tr>\n",
       "      <th>10</th>\n",
       "      <td>chr1:774742-775615</td>\n",
       "      <td>LINC01409</td>\n",
       "      <td>chr1:774742-775615</td>\n",
       "      <td>-3143</td>\n",
       "      <td>distal</td>\n",
       "      <td>4.0</td>\n",
       "      <td>LINC01409</td>\n",
       "    </tr>\n",
       "    <tr>\n",
       "      <th>11</th>\n",
       "      <td>chr1:778283-779200</td>\n",
       "      <td>LINC01409</td>\n",
       "      <td>chr1:778283-779200</td>\n",
       "      <td>0</td>\n",
       "      <td>promoter</td>\n",
       "      <td>4.0</td>\n",
       "      <td>LINC01409</td>\n",
       "    </tr>\n",
       "    <tr>\n",
       "      <th>12</th>\n",
       "      <td>chr1:816877-817776</td>\n",
       "      <td>FAM87B</td>\n",
       "      <td>chr1:816877-817776</td>\n",
       "      <td>0</td>\n",
       "      <td>promoter</td>\n",
       "      <td>5.0</td>\n",
       "      <td>FAM87B</td>\n",
       "    </tr>\n",
       "    <tr>\n",
       "      <th>...</th>\n",
       "      <td>...</td>\n",
       "      <td>...</td>\n",
       "      <td>...</td>\n",
       "      <td>...</td>\n",
       "      <td>...</td>\n",
       "      <td>...</td>\n",
       "      <td>...</td>\n",
       "    </tr>\n",
       "    <tr>\n",
       "      <th>143867</th>\n",
       "      <td>KI270721.1:2092-2983</td>\n",
       "      <td>AC004556.3</td>\n",
       "      <td>KI270721.1:2092-2983</td>\n",
       "      <td>0</td>\n",
       "      <td>promoter</td>\n",
       "      <td>26338.0</td>\n",
       "      <td>AC004556.3</td>\n",
       "    </tr>\n",
       "    <tr>\n",
       "      <th>143868</th>\n",
       "      <td>KI270721.1:3646-4418</td>\n",
       "      <td>AC004556.3</td>\n",
       "      <td>KI270721.1:3646-4418</td>\n",
       "      <td>1062</td>\n",
       "      <td>distal</td>\n",
       "      <td>26338.0</td>\n",
       "      <td>AC004556.3</td>\n",
       "    </tr>\n",
       "    <tr>\n",
       "      <th>143869</th>\n",
       "      <td>KI270721.1:8382-9256</td>\n",
       "      <td>AC004556.3</td>\n",
       "      <td>KI270721.1:8382-9256</td>\n",
       "      <td>5798</td>\n",
       "      <td>distal</td>\n",
       "      <td>26338.0</td>\n",
       "      <td>AC004556.3</td>\n",
       "    </tr>\n",
       "    <tr>\n",
       "      <th>143873</th>\n",
       "      <td>KI270711.1:7923-8714</td>\n",
       "      <td>AC240274.1</td>\n",
       "      <td>KI270711.1:7923-8714</td>\n",
       "      <td>15936</td>\n",
       "      <td>distal</td>\n",
       "      <td>26337.0</td>\n",
       "      <td>AC240274.1</td>\n",
       "    </tr>\n",
       "    <tr>\n",
       "      <th>143874</th>\n",
       "      <td>KI270711.1:8965-9597</td>\n",
       "      <td>AC240274.1</td>\n",
       "      <td>KI270711.1:8965-9597</td>\n",
       "      <td>15053</td>\n",
       "      <td>distal</td>\n",
       "      <td>26337.0</td>\n",
       "      <td>AC240274.1</td>\n",
       "    </tr>\n",
       "  </tbody>\n",
       "</table>\n",
       "<p>127357 rows × 7 columns</p>\n",
       "</div>"
      ],
      "text/plain": [
       "                    gene_ids   gene_name                  peak  distance  \\\n",
       "1         chr1:180599-181702  AL627309.5    chr1:180599-181702     -6738   \n",
       "2         chr1:191168-192093  AL627309.5    chr1:191168-192093    -17307   \n",
       "10        chr1:774742-775615   LINC01409    chr1:774742-775615     -3143   \n",
       "11        chr1:778283-779200   LINC01409    chr1:778283-779200         0   \n",
       "12        chr1:816877-817776      FAM87B    chr1:816877-817776         0   \n",
       "...                      ...         ...                   ...       ...   \n",
       "143867  KI270721.1:2092-2983  AC004556.3  KI270721.1:2092-2983         0   \n",
       "143868  KI270721.1:3646-4418  AC004556.3  KI270721.1:3646-4418      1062   \n",
       "143869  KI270721.1:8382-9256  AC004556.3  KI270721.1:8382-9256      5798   \n",
       "143873  KI270711.1:7923-8714  AC240274.1  KI270711.1:7923-8714     15936   \n",
       "143874  KI270711.1:8965-9597  AC240274.1  KI270711.1:8965-9597     15053   \n",
       "\n",
       "       peak_type    index           0  \n",
       "1         distal      1.0  AL627309.5  \n",
       "2         distal      1.0  AL627309.5  \n",
       "10        distal      4.0   LINC01409  \n",
       "11      promoter      4.0   LINC01409  \n",
       "12      promoter      5.0      FAM87B  \n",
       "...          ...      ...         ...  \n",
       "143867  promoter  26338.0  AC004556.3  \n",
       "143868    distal  26338.0  AC004556.3  \n",
       "143869    distal  26338.0  AC004556.3  \n",
       "143873    distal  26337.0  AC240274.1  \n",
       "143874    distal  26337.0  AC240274.1  \n",
       "\n",
       "[127357 rows x 7 columns]"
      ]
     },
     "execution_count": 6,
     "metadata": {},
     "output_type": "execute_result"
    }
   ],
   "source": [
    "# Duplicates for multiple peaks per gene, but skips ones not observed in RNA\n",
    "peak_gene_pairs = pd.merge(peak_gene_labels,rna.var_names.to_frame(index=False).reset_index(),how='left',left_on='gene_name',right_on=0).dropna(subset=0)\n",
    "peak_gene_pairs"
   ]
  },
  {
   "cell_type": "code",
   "execution_count": 7,
   "id": "02ea2d98",
   "metadata": {},
   "outputs": [
    {
     "data": {
      "text/plain": [
       "<9632x127357 sparse array of type '<class 'numpy.float32'>'\n",
       "\twith 1226702624 stored elements in Compressed Sparse Column format>"
      ]
     },
     "execution_count": 7,
     "metadata": {},
     "output_type": "execute_result"
    }
   ],
   "source": [
    "# We choose the columns which overlap with RNAseq genes\n",
    "atac_Xs = atac_Xs[:,peak_gene_pairs.index.values]\n",
    "atac_Xs"
   ]
  },
  {
   "cell_type": "code",
   "execution_count": 8,
   "id": "2467d7ac",
   "metadata": {},
   "outputs": [],
   "source": [
    "# We choose columns that overlap with RNAseq genes AND repeat those \n",
    "# that have multiple peaks in ATAC modality\n",
    "occurences = peak_gene_pairs['index'].astype(int).values\n",
    "rna_Xs = rna_Xs[:,occurences]"
   ]
  },
  {
   "cell_type": "code",
   "execution_count": 9,
   "id": "ffcfd5b6",
   "metadata": {},
   "outputs": [
    {
     "name": "stdout",
     "output_type": "stream",
     "text": [
      "(9632, 127357) (9632, 127357)\n"
     ]
    }
   ],
   "source": [
    "# Now, shape should be same.\n",
    "print(atac_Xs.shape, rna_Xs.shape)"
   ]
  },
  {
   "cell_type": "markdown",
   "id": "abf32ac9",
   "metadata": {},
   "source": [
    "## Raw data\n",
    "Non-normalized log1p data. I used this to plot my data rather than the normalized atac_Xs and rna_Xs."
   ]
  },
  {
   "cell_type": "code",
   "execution_count": 10,
   "id": "8df5bcba",
   "metadata": {},
   "outputs": [
    {
     "name": "stdout",
     "output_type": "stream",
     "text": [
      "(9632, 127357) (9632, 127357)\n"
     ]
    }
   ],
   "source": [
    "# Non-normalized data is also stored in atac.raw.X as sparse matrices\n",
    "raw_atac_X = atac.raw.X[:,peak_gene_pairs.index.values]\n",
    "raw_rna_X = rna.raw.X[:,occurences]\n",
    "print(raw_atac_X.shape,raw_rna_X.shape)"
   ]
  },
  {
   "cell_type": "markdown",
   "id": "ed9e6712",
   "metadata": {},
   "source": [
    "## Pearson correlation\n",
    "This is our implementation of pearson correlation."
   ]
  },
  {
   "cell_type": "code",
   "execution_count": 24,
   "id": "83d958fe",
   "metadata": {},
   "outputs": [],
   "source": [
    "# from Martin (original from scdrs)\n",
    "\n",
    "def pearson_corr_sparse(mat_X, mat_Y, var_filter=False):\n",
    "    \"\"\"Pairwise Pearson's correlation between columns in mat_X and mat_Y (sparse matrix)\n",
    "\n",
    "    Parameters\n",
    "    ----------\n",
    "    mat_X : np.ndarray\n",
    "        First matrix of shape (N,M).\n",
    "    mat_Y : np.ndarray\n",
    "        Second matrix of shape (N,M).\n",
    "    * Added:\n",
    "    var_filter : boolean\n",
    "        Dictates whether to filter out columns with little to no variance.\n",
    "\n",
    "    Returns\n",
    "    -------\n",
    "    mat_corr : np.ndarray\n",
    "        Correlation array of shape (M,).\n",
    "    * Added:\n",
    "    no_var : np.ndarray\n",
    "        A boolean mask where False represents excluded columns of mat_X and mat_Y of shape (N,M).\n",
    "        \n",
    "    \"\"\"\n",
    "\n",
    "    # Reshape\n",
    "    if len(mat_X.shape) == 1:\n",
    "        mat_X = mat_X.reshape([-1, 1])\n",
    "    if len(mat_Y.shape) == 1:\n",
    "        mat_Y = mat_Y.reshape([-1, 1])\n",
    "\n",
    "    # Convert to sparse matrix if not already sparse\n",
    "    if sp.sparse.issparse(mat_X) is False:\n",
    "        mat_X = sp.sparse.csr_matrix(mat_X)\n",
    "    if sp.sparse.issparse(mat_Y) is False:\n",
    "        mat_Y = sp.sparse.csr_matrix(mat_Y)\n",
    "    \n",
    "    # Compute v_mean,v_var\n",
    "    \n",
    "    v_X_mean, v_X_var = scdrs.pp._get_mean_var(mat_X, axis=0)\n",
    "    v_Y_mean, v_Y_var = scdrs.pp._get_mean_var(mat_Y, axis=0) \n",
    "    \n",
    "    no_var = (v_X_var <= 1e-6) | (v_Y_var <= 1e-6)\n",
    "    \n",
    "    # This section removes columns with little to no variance.\n",
    "    if var_filter and np.any(no_var):\n",
    "\n",
    "        mat_X, mat_Y = mat_X[:,~no_var], mat_Y[:,~no_var]\n",
    "        v_X_mean, v_X_var = v_X_mean[~no_var], v_X_var[~no_var]\n",
    "        v_Y_mean, v_Y_var = v_Y_mean[~no_var], v_Y_var[~no_var]\n",
    "        \n",
    "    v_X_sd = np.sqrt(v_X_var)\n",
    "    v_Y_sd = np.sqrt(v_Y_var)\n",
    "    \n",
    "    # Adjusted for column pairwise correlation only\n",
    "    mat_corr = mat_X.multiply(mat_Y).mean(axis=0)\n",
    "    mat_corr = mat_corr - v_X_mean * v_Y_mean\n",
    "    mat_corr = mat_corr / v_X_sd / v_Y_sd\n",
    "\n",
    "    mat_corr = np.array(mat_corr, dtype=np.float32)\n",
    "\n",
    "    if (mat_X.shape[1] == 1) | (mat_Y.shape[1] == 1):\n",
    "        return mat_corr.reshape([-1])\n",
    "    if var_filter:\n",
    "        return mat_corr, ~no_var\n",
    "\n",
    "    return mat_corr"
   ]
  },
  {
   "cell_type": "markdown",
   "id": "7f9eda16",
   "metadata": {},
   "source": [
    "# P-value calculation"
   ]
  },
  {
   "cell_type": "code",
   "execution_count": 25,
   "id": "71f0ce40",
   "metadata": {},
   "outputs": [],
   "source": [
    "def mc_pval(del_cctrl,del_c):\n",
    "    \n",
    "    ''' Calculates Monte Carlo p-value\n",
    "    \n",
    "    Parameters\n",
    "    ----------\n",
    "    del_cctrl : np.ndarray\n",
    "        Matrix of shape (gene#,n) where n is number of rand samples.\n",
    "    del_c : np.ndarray\n",
    "        Vector of shape (gene#,), which gets reshaped to (gene#,1).\n",
    "    \n",
    "    Returns\n",
    "    ----------\n",
    "    Vector of shape (gene#,) corresponding to the Monte Carlo p-value of each statistic.\n",
    "    \n",
    "    '''\n",
    "\n",
    "    indicator = np.sum(np.abs(del_cctrl) >= np.abs(del_c.reshape(-1, 1)), axis=1)\n",
    "    return (1+indicator)/(1+del_cctrl.shape[1])"
   ]
  },
  {
   "cell_type": "code",
   "execution_count": null,
   "id": "86c719ca",
   "metadata": {},
   "outputs": [],
   "source": [
    "def zscore_pval(del_cctrl,del_c):\n",
    "\n",
    "    ''' Calculates Z-score based p-value.\n",
    "    \n",
    "    Parameters\n",
    "    ----------\n",
    "    del_cctrl : np.ndarray\n",
    "        Matrix of shape (gene#,n) where n is number of rand samples.\n",
    "    del_c : np.ndarray\n",
    "        Vector of shape (gene#,), which gets reshaped to (gene#,1).\n",
    "    \n",
    "    Returns\n",
    "    ----------\n",
    "    Vector of shape (gene#,) corresponding to the Z-score based p-value of each statistic.\n",
    "    \n",
    "    '''\n",
    "\n",
    "    mean = np.mean(del_cctrl,axis=1)\n",
    "    sd = np.std(del_cctrl,axis=1)\n",
    "    z = (del_c - mean)/sd\n",
    "    \n",
    "    return 1-sp.stats.norm.cdf(z)"
   ]
  },
  {
   "cell_type": "markdown",
   "id": "c1df4f8f",
   "metadata": {},
   "source": [
    "## Calculating correlation and MC p-value across all cells\n",
    "If you would like to use my precomputed control peaks you can load them here:"
   ]
  },
  {
   "cell_type": "code",
   "execution_count": 75,
   "id": "5568ef61",
   "metadata": {},
   "outputs": [
    {
     "data": {
      "text/plain": [
       "(127357, 1000)"
      ]
     },
     "execution_count": 75,
     "metadata": {},
     "output_type": "execute_result"
    }
   ],
   "source": [
    "ctrl_corr = np.load('ctrl_peaks/ctrl_peaks_1000x.npy')\n",
    "ctrl_corr.shape"
   ]
  },
  {
   "cell_type": "code",
   "execution_count": 28,
   "id": "9e580ff1",
   "metadata": {},
   "outputs": [],
   "source": [
    "# Setting var_filter = True excludes variables that have little to no variance\n",
    "corr = pearson_corr_sparse(atac_Xs, rna_Xs, var_filter=True)"
   ]
  },
  {
   "cell_type": "code",
   "execution_count": 31,
   "id": "524336cb",
   "metadata": {},
   "outputs": [
    {
     "name": "stderr",
     "output_type": "stream",
     "text": [
      "/home/asprieto/miniconda3/envs/py39/lib/python3.9/site-packages/seaborn/_oldcore.py:1119: FutureWarning: use_inf_as_na option is deprecated and will be removed in a future version. Convert inf values to NaN before operating instead.\n",
      "  with pd.option_context('mode.use_inf_as_na', True):\n"
     ]
    },
    {
     "data": {
      "image/png": "[encoded data removed]",
      "text/plain": [
       "<Figure size 640x480 with 1 Axes>"
      ]
     },
     "metadata": {},
     "output_type": "display_data"
    }
   ],
   "source": [
    "all_pval = mc_pval(ctrl_corr[corr[1],:],corr[0])\n",
    "all_qvals = stats.multitest.multipletests(all_pval, alpha=0.05, method='fdr_bh')\n",
    "sns.histplot(data=all_pval);"
   ]
  },
  {
   "cell_type": "code",
   "execution_count": 34,
   "id": "586fa849",
   "metadata": {},
   "outputs": [
    {
     "data": {
      "text/html": [
       "<div>\n",
       "<style scoped>\n",
       "    .dataframe tbody tr th:only-of-type {\n",
       "        vertical-align: middle;\n",
       "    }\n",
       "\n",
       "    .dataframe tbody tr th {\n",
       "        vertical-align: top;\n",
       "    }\n",
       "\n",
       "    .dataframe thead th {\n",
       "        text-align: right;\n",
       "    }\n",
       "</style>\n",
       "<table border=\"1\" class=\"dataframe\">\n",
       "  <thead>\n",
       "    <tr style=\"text-align: right;\">\n",
       "      <th></th>\n",
       "      <th>peak_name</th>\n",
       "      <th>gene_name</th>\n",
       "      <th>distance</th>\n",
       "      <th>all_pval</th>\n",
       "      <th>all_qval</th>\n",
       "      <th>corr</th>\n",
       "    </tr>\n",
       "  </thead>\n",
       "  <tbody>\n",
       "    <tr>\n",
       "      <th>0</th>\n",
       "      <td>chr1:180599-181702</td>\n",
       "      <td>AL627309.5</td>\n",
       "      <td>-6738</td>\n",
       "      <td>0.344655</td>\n",
       "      <td>0.804434</td>\n",
       "      <td>-0.019674</td>\n",
       "    </tr>\n",
       "    <tr>\n",
       "      <th>1</th>\n",
       "      <td>chr1:191168-192093</td>\n",
       "      <td>AL627309.5</td>\n",
       "      <td>-17307</td>\n",
       "      <td>0.908092</td>\n",
       "      <td>0.988823</td>\n",
       "      <td>0.007619</td>\n",
       "    </tr>\n",
       "    <tr>\n",
       "      <th>2</th>\n",
       "      <td>chr1:774742-775615</td>\n",
       "      <td>LINC01409</td>\n",
       "      <td>-3143</td>\n",
       "      <td>0.857143</td>\n",
       "      <td>0.981292</td>\n",
       "      <td>-0.001954</td>\n",
       "    </tr>\n",
       "    <tr>\n",
       "      <th>3</th>\n",
       "      <td>chr1:778283-779200</td>\n",
       "      <td>LINC01409</td>\n",
       "      <td>0</td>\n",
       "      <td>0.022977</td>\n",
       "      <td>0.318173</td>\n",
       "      <td>-0.021723</td>\n",
       "    </tr>\n",
       "    <tr>\n",
       "      <th>4</th>\n",
       "      <td>chr1:816877-817776</td>\n",
       "      <td>FAM87B</td>\n",
       "      <td>0</td>\n",
       "      <td>0.985015</td>\n",
       "      <td>0.997730</td>\n",
       "      <td>0.000783</td>\n",
       "    </tr>\n",
       "  </tbody>\n",
       "</table>\n",
       "</div>"
      ],
      "text/plain": [
       "            peak_name   gene_name  distance  all_pval  all_qval      corr\n",
       "0  chr1:180599-181702  AL627309.5     -6738  0.344655  0.804434 -0.019674\n",
       "1  chr1:191168-192093  AL627309.5    -17307  0.908092  0.988823  0.007619\n",
       "2  chr1:774742-775615   LINC01409     -3143  0.857143  0.981292 -0.001954\n",
       "3  chr1:778283-779200   LINC01409         0  0.022977  0.318173 -0.021723\n",
       "4  chr1:816877-817776      FAM87B         0  0.985015  0.997730  0.000783"
      ]
     },
     "execution_count": 34,
     "metadata": {},
     "output_type": "execute_result"
    }
   ],
   "source": [
    "# A labelled DataFrame of peak-gene pair results\n",
    "all_pvals_df = pd.DataFrame(data={'peak_name':peak_gene_pairs.loc[corr[1]].gene_ids.values, \\\n",
    "                                  'gene_name':peak_gene_pairs.loc[corr[1]].gene_name.values, \\\n",
    "                                  'distance':peak_gene_pairs.loc[corr[1]].distance.values, \\\n",
    "                                  'all_pval':all_pval,'all_qval':all_qvals[1],'corr':corr[0]})\n",
    "all_pvals_df.head()"
   ]
  },
  {
   "cell_type": "markdown",
   "id": "25de8260",
   "metadata": {},
   "source": [
    "## Calculating correlation and MC p-value for each CT"
   ]
  },
  {
   "cell_type": "code",
   "execution_count": 40,
   "id": "30925b4d",
   "metadata": {},
   "outputs": [],
   "source": [
    "labels = [\n",
    "    'CD4+ naïve T', 'CD4+ memory T', 'MAIT',\n",
    "    'CD8+ naïve T', 'CD8+ activated T', 'NK',\n",
    "    'naïve B', 'memory B',\n",
    "    'CD14 mono', 'intermediate mono', 'mDC', 'pDC']"
   ]
  },
  {
   "cell_type": "code",
   "execution_count": 59,
   "id": "f026e4aa",
   "metadata": {},
   "outputs": [],
   "source": [
    "def ct_corr_pval(ct_label,ctrl_corr_npy,pval_method=mc_pval):\n",
    "    \n",
    "    ''' Calculates correlation and p-value for a given CT.\n",
    "    \n",
    "    Parameters\n",
    "    ----------\n",
    "    ct_label : list of strings\n",
    "        A list of length (# of CTs) corresponding to the CT label.\n",
    "    ctrl_corr_npy : string\n",
    "        A string corresponding to the .npy file in which CT-specific\n",
    "        control peak-gene correlations are stored. Must specify path.\n",
    "    pval_method : function\n",
    "        A function that takes in two np.ndarrays of length (N,B) and (N,)\n",
    "        to calculate p-value.\n",
    "    \n",
    "    Returns\n",
    "    ----------\n",
    "    ct_dict : Dictionary\n",
    "        A dictionary containing the gene_ids, gene_name, distance, delta_corr,\n",
    "        and pval_method for the given CT.\n",
    "        \n",
    "    '''\n",
    "    \n",
    "    # Select samples of focal CT\n",
    "    ct_mask = (rna.obs.celltype.values == ct_label) & (atac.obs.celltype.values == ct_label)\n",
    "    ct_rnaX, ct_atacX = rna_Xs[ct_mask,:], atac_Xs[ct_mask,:]\n",
    "    \n",
    "    # Remove lowly accessible/expressed peak-genes from both matrices\n",
    "    lowexp_mask = (ct_atacX.mean(axis=0) > 0.1) & (ct_rnaX.mean(axis=0) > 0.1)\n",
    "    ct_rnaX, ct_atacX = ct_rnaX[:,lowexp_mask], ct_atacX[:,lowexp_mask]\n",
    "    \n",
    "    # Calculate their correlation\n",
    "    corr_ct = pearson_corr_sparse(ct_atacX, ct_rnaX, var_filter=True)\n",
    "    \n",
    "    # Calculate delta corr while filtering out lowly access./express.\n",
    "    corr_all = pearson_corr_sparse(atac_Xs[:,lowexp_mask], rna_Xs[:,lowexp_mask])\n",
    "    delta_corr = corr_all[corr_ct[1]] - corr_ct[0]\n",
    "    # Delta corr of ctrl peaks\n",
    "    ctrl_corr_ct = np.load(ctrl_corr_npy)[lowexp_mask,:][corr_ct[1],:]\n",
    "    delta_corr_ctrl = ctrl_corr[lowexp_mask,:][corr_ct[1],:] - ctrl_corr_ct\n",
    "    \n",
    "    # MC pvalue\n",
    "    ct_mc_pval = pval_method(delta_corr_ctrl,delta_corr)\n",
    "    \n",
    "    # Save info in dictionary\n",
    "    ct_dict = peak_gene_pairs[['gene_ids','gene_name','distance']].loc[lowexp_mask].loc[corr_ct[1]].to_dict('list')\n",
    "\n",
    "    ct_dict['delta_corr'] = delta_corr\n",
    "    ct_dict[pval_method.__name__] = ct_mc_pval\n",
    "    \n",
    "    return ct_dict\n",
    "        "
   ]
  },
  {
   "cell_type": "code",
   "execution_count": 74,
   "id": "73e86519",
   "metadata": {},
   "outputs": [
    {
     "data": {
      "text/html": [
       "<div>\n",
       "<style scoped>\n",
       "    .dataframe tbody tr th:only-of-type {\n",
       "        vertical-align: middle;\n",
       "    }\n",
       "\n",
       "    .dataframe tbody tr th {\n",
       "        vertical-align: top;\n",
       "    }\n",
       "\n",
       "    .dataframe thead th {\n",
       "        text-align: right;\n",
       "    }\n",
       "</style>\n",
       "<table border=\"1\" class=\"dataframe\">\n",
       "  <thead>\n",
       "    <tr style=\"text-align: right;\">\n",
       "      <th></th>\n",
       "      <th>gene_ids</th>\n",
       "      <th>gene_name</th>\n",
       "      <th>distance</th>\n",
       "      <th>delta_corr</th>\n",
       "      <th>mc_pval</th>\n",
       "    </tr>\n",
       "  </thead>\n",
       "  <tbody>\n",
       "    <tr>\n",
       "      <th>0</th>\n",
       "      <td>chr1:2227386-2228299</td>\n",
       "      <td>SKI</td>\n",
       "      <td>-20</td>\n",
       "      <td>0.028787</td>\n",
       "      <td>0.317682</td>\n",
       "    </tr>\n",
       "    <tr>\n",
       "      <th>1</th>\n",
       "      <td>chr1:2230816-2231568</td>\n",
       "      <td>SKI</td>\n",
       "      <td>2498</td>\n",
       "      <td>0.022315</td>\n",
       "      <td>0.455544</td>\n",
       "    </tr>\n",
       "    <tr>\n",
       "      <th>2</th>\n",
       "      <td>chr1:2231702-2232553</td>\n",
       "      <td>SKI</td>\n",
       "      <td>3384</td>\n",
       "      <td>0.024093</td>\n",
       "      <td>0.489510</td>\n",
       "    </tr>\n",
       "    <tr>\n",
       "      <th>3</th>\n",
       "      <td>chr1:2236949-2237824</td>\n",
       "      <td>SKI</td>\n",
       "      <td>8631</td>\n",
       "      <td>0.062700</td>\n",
       "      <td>0.066933</td>\n",
       "    </tr>\n",
       "    <tr>\n",
       "      <th>4</th>\n",
       "      <td>chr1:2240132-2240993</td>\n",
       "      <td>SKI</td>\n",
       "      <td>11814</td>\n",
       "      <td>-0.024016</td>\n",
       "      <td>0.388611</td>\n",
       "    </tr>\n",
       "    <tr>\n",
       "      <th>...</th>\n",
       "      <td>...</td>\n",
       "      <td>...</td>\n",
       "      <td>...</td>\n",
       "      <td>...</td>\n",
       "      <td>...</td>\n",
       "    </tr>\n",
       "    <tr>\n",
       "      <th>4018</th>\n",
       "      <td>chrX:136689214-136690057</td>\n",
       "      <td>CD40LG</td>\n",
       "      <td>40988</td>\n",
       "      <td>0.045199</td>\n",
       "      <td>0.267732</td>\n",
       "    </tr>\n",
       "    <tr>\n",
       "      <th>4019</th>\n",
       "      <td>chrX:136880313-136881143</td>\n",
       "      <td>RBMX</td>\n",
       "      <td>0</td>\n",
       "      <td>-0.001706</td>\n",
       "      <td>0.953047</td>\n",
       "    </tr>\n",
       "    <tr>\n",
       "      <th>4020</th>\n",
       "      <td>chrX:154476665-154477465</td>\n",
       "      <td>LAGE3</td>\n",
       "      <td>1792</td>\n",
       "      <td>0.009717</td>\n",
       "      <td>0.738262</td>\n",
       "    </tr>\n",
       "    <tr>\n",
       "      <th>4021</th>\n",
       "      <td>GL000219.1:42163-43054</td>\n",
       "      <td>AL592183.1</td>\n",
       "      <td>40257</td>\n",
       "      <td>0.034363</td>\n",
       "      <td>0.272727</td>\n",
       "    </tr>\n",
       "    <tr>\n",
       "      <th>4022</th>\n",
       "      <td>GL000219.1:99255-100162</td>\n",
       "      <td>AL592183.1</td>\n",
       "      <td>-15945</td>\n",
       "      <td>-0.003212</td>\n",
       "      <td>0.936064</td>\n",
       "    </tr>\n",
       "  </tbody>\n",
       "</table>\n",
       "<p>4023 rows × 5 columns</p>\n",
       "</div>"
      ],
      "text/plain": [
       "                      gene_ids   gene_name  distance  delta_corr   mc_pval\n",
       "0         chr1:2227386-2228299         SKI       -20    0.028787  0.317682\n",
       "1         chr1:2230816-2231568         SKI      2498    0.022315  0.455544\n",
       "2         chr1:2231702-2232553         SKI      3384    0.024093  0.489510\n",
       "3         chr1:2236949-2237824         SKI      8631    0.062700  0.066933\n",
       "4         chr1:2240132-2240993         SKI     11814   -0.024016  0.388611\n",
       "...                        ...         ...       ...         ...       ...\n",
       "4018  chrX:136689214-136690057      CD40LG     40988    0.045199  0.267732\n",
       "4019  chrX:136880313-136881143        RBMX         0   -0.001706  0.953047\n",
       "4020  chrX:154476665-154477465       LAGE3      1792    0.009717  0.738262\n",
       "4021    GL000219.1:42163-43054  AL592183.1     40257    0.034363  0.272727\n",
       "4022   GL000219.1:99255-100162  AL592183.1    -15945   -0.003212  0.936064\n",
       "\n",
       "[4023 rows x 5 columns]"
      ]
     },
     "execution_count": 74,
     "metadata": {},
     "output_type": "execute_result"
    }
   ],
   "source": [
    "cd4nt_dict = ct_corr_pval(labels[0],'ctrl_peaks/0_ctrl_ct_1000x.npy')\n",
    "pd.DataFrame(cd4nt_dict)"
   ]
  },
  {
   "cell_type": "code",
   "execution_count": 69,
   "id": "9e331c7a",
   "metadata": {},
   "outputs": [],
   "source": [
    "ct_dicts = []\n",
    "\n",
    "for k in np.arange(12):\n",
    "    ct_dicts += [ct_corr_pval(labels[k], 'ctrl_peaks/'+str(k)+'_ctrl_ct_1000x.npy')]"
   ]
  },
  {
   "cell_type": "code",
   "execution_count": 70,
   "id": "e8c22256",
   "metadata": {},
   "outputs": [
    {
     "data": {
      "image/png": "[encoded data removed]",
      "text/plain": [
       "<Figure size 2000x1500 with 12 Axes>"
      ]
     },
     "metadata": {},
     "output_type": "display_data"
    }
   ],
   "source": [
    "fig, axs = plt.subplots(3,4,layout='constrained')\n",
    "\n",
    "fig.set_figheight(15)\n",
    "fig.set_figwidth(20)\n",
    "\n",
    "k=0\n",
    "for ax in axs.reshape(-1):\n",
    "    ax.hist(ct_dicts[k]['mc_pval'],bins=20)\n",
    "    ax.set_title(labels[k])\n",
    "    k+=1\n",
    "\n",
    "plt.show()"
   ]
  }
 ],
 "metadata": {
  "kernelspec": {
   "display_name": "py39",
   "language": "python",
   "name": "py39"
  },
  "language_info": {
   "codemirror_mode": {
    "name": "ipython",
    "version": 3
   },
   "file_extension": ".py",
   "mimetype": "text/x-python",
   "name": "python",
   "nbconvert_exporter": "python",
   "pygments_lexer": "ipython3",
   "version": "3.9.18"
  }
 },
 "nbformat": 4,
 "nbformat_minor": 5
}
