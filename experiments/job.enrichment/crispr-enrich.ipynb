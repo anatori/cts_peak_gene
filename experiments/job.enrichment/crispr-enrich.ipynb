{
 "cells": [
  {
   "cell_type": "markdown",
   "id": "34f9f808-f56c-4ae5-8bb9-b3cfd664259a",
   "metadata": {},
   "source": [
    "# CRISPRi FlowFISH Validation"
   ]
  },
  {
   "cell_type": "code",
   "execution_count": 2,
   "id": "9198f7a8-2b37-41fb-bac0-b941a097e581",
   "metadata": {},
   "outputs": [],
   "source": [
    "import pandas as pd\n",
    "import numpy as np\n",
    "import ctar\n",
    "import anndata as ad"
   ]
  },
  {
   "cell_type": "code",
   "execution_count": 3,
   "id": "5b465861-a7ff-49b6-a80c-04c4839d2eb2",
   "metadata": {},
   "outputs": [],
   "source": [
    "import pybedtools\n",
    "pybedtools.helpers.set_bedtools_path(\n",
    "    '/projects/zhanglab/users/ana/bedtools2/bin/')"
   ]
  },
  {
   "cell_type": "markdown",
   "id": "41bb69b7-7b14-4d4d-85b5-a9fcb2291d3e",
   "metadata": {},
   "source": [
    "### Load results\n",
    "Replace SCENT with method of choice."
   ]
  },
  {
   "cell_type": "code",
   "execution_count": 4,
   "id": "cba71042-7d40-4428-a858-e6da792c9915",
   "metadata": {},
   "outputs": [],
   "source": [
    "# load scent results\n",
    "scent_file = '/projects/zhanglab/users/ana/multiome/results/scent/Pubic-PBMC_allqced_bootpkg_nopc_allCT.FDR0.10.txt'\n",
    "scent_df = pd.read_csv(scent_file, sep='\\t')\n",
    "# parse regions\n",
    "scent_df[['CHROM', 'START', 'END']] = scent_df['peak'].str.split('-',expand=True)\n",
    "scent_df.dropna(subset=['CHROM', 'START', 'END'], inplace=True)"
   ]
  },
  {
   "cell_type": "code",
   "execution_count": 5,
   "id": "a0cf53ac-6f28-456d-a367-809366506488",
   "metadata": {},
   "outputs": [],
   "source": [
    "# convert to bed\n",
    "scent_bed = pybedtools.BedTool.from_dataframe(scent_df[['CHROM', 'START', 'END', 'gene']])"
   ]
  },
  {
   "cell_type": "markdown",
   "id": "12585ab8-c20c-4f90-9121-d2d4345fbef7",
   "metadata": {},
   "source": [
    "### Load CRISPRi FlowFISH results"
   ]
  },
  {
   "cell_type": "code",
   "execution_count": 6,
   "id": "643747bb-3052-4205-96bb-2a5b34b69a87",
   "metadata": {},
   "outputs": [],
   "source": [
    "# load crispri flowfish results containing lifted over locations\n",
    "crispr_file = '/projects/zhanglab/users/ana/multiome/validation/crispr-flowfish-supp5_edited.csv'\n",
    "crispr_df = pd.read_csv(crispr_file,index_col=0)"
   ]
  },
  {
   "cell_type": "code",
   "execution_count": 7,
   "id": "d4904ffc-e2ae-460f-a42e-5d0dfbeda37f",
   "metadata": {},
   "outputs": [
    {
     "name": "stdout",
     "output_type": "stream",
     "text": [
      "Positive links: 283\n",
      "Negative links: 5472\n"
     ]
    }
   ],
   "source": [
    "# same amount of positive and negative links as reported by SCENT\n",
    "print('Positive links:',crispr_df[crispr_df.Regulated == True].shape[0])\n",
    "print('Negative links:',crispr_df[crispr_df.Regulated == False].shape[0])"
   ]
  },
  {
   "cell_type": "code",
   "execution_count": 8,
   "id": "5e4183d0-4aed-4579-870d-3907654365b3",
   "metadata": {},
   "outputs": [],
   "source": [
    "# convert to bed\n",
    "columns = ['hg38_chr','hg38_start','hg38_end','GeneSymbol']\n",
    "crispr_pos_bed = pybedtools.BedTool.from_dataframe(crispr_df[crispr_df.Regulated == True][columns])\n",
    "crispr_neg_bed = pybedtools.BedTool.from_dataframe(crispr_df[crispr_df.Regulated == False][columns])"
   ]
  },
  {
   "cell_type": "markdown",
   "id": "6e754e96-90a2-4e30-99a7-7613c3d22384",
   "metadata": {},
   "source": [
    "### Intersection"
   ]
  },
  {
   "cell_type": "code",
   "execution_count": 9,
   "id": "4bc236e1-1f2f-4f7e-ad66-3ed96705bcc7",
   "metadata": {},
   "outputs": [
    {
     "data": {
      "text/plain": [
       "(39, 8)"
      ]
     },
     "execution_count": 9,
     "metadata": {},
     "output_type": "execute_result"
    }
   ],
   "source": [
    "positive_links = scent_bed.intersect(crispr_pos_bed, wa=True, wb=True)\n",
    "positive_links = positive_links.to_dataframe(index_col=False,names=['CHROM', 'START', 'END', 'GENE', 'CF_CHROM', 'CF_START', 'CF_END', 'CF_GENE'])\n",
    "positive_links[positive_links.GENE == positive_links.CF_GENE].shape"
   ]
  },
  {
   "cell_type": "code",
   "execution_count": 10,
   "id": "49396da6-28cf-449b-a2a5-b127539a4c89",
   "metadata": {},
   "outputs": [
    {
     "data": {
      "text/plain": [
       "(83, 8)"
      ]
     },
     "execution_count": 10,
     "metadata": {},
     "output_type": "execute_result"
    }
   ],
   "source": [
    "negative_links = scent_bed.intersect(crispr_neg_bed, wa=True, wb=True)\n",
    "negative_links = negative_links.to_dataframe(index_col=False,names=['CHROM', 'START', 'END', 'GENE', 'CF_CHROM', 'CF_START', 'CF_END', 'CF_GENE'])\n",
    "negative_links[negative_links.GENE == negative_links.CF_GENE].shape"
   ]
  },
  {
   "cell_type": "code",
   "execution_count": null,
   "id": "104a3415-c42a-4a00-a62b-f63d61c80b61",
   "metadata": {},
   "outputs": [],
   "source": []
  }
 ],
 "metadata": {
  "kernelspec": {
   "display_name": "py39",
   "language": "python",
   "name": "py39"
  },
  "language_info": {
   "codemirror_mode": {
    "name": "ipython",
    "version": 3
   },
   "file_extension": ".py",
   "mimetype": "text/x-python",
   "name": "python",
   "nbconvert_exporter": "python",
   "pygments_lexer": "ipython3",
   "version": "3.9.19"
  }
 },
 "nbformat": 4,
 "nbformat_minor": 5
}
