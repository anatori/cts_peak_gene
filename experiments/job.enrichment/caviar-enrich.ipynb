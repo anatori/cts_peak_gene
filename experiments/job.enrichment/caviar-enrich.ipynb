{
 "cells": [
  {
   "cell_type": "markdown",
   "id": "41d7e34e-99d0-4535-ae57-804748b6022a",
   "metadata": {},
   "source": [
    "Notebooks to reproduce SCENT Fig3a by Junxi, edited by Ana."
   ]
  },
  {
   "cell_type": "code",
   "execution_count": 1,
   "id": "f5458e5a",
   "metadata": {},
   "outputs": [],
   "source": [
    "import pybedtools\n",
    "pybedtools.helpers.set_bedtools_path(\n",
    "    '/projects/zhanglab/users/ana/bedtools2/bin/')"
   ]
  },
  {
   "cell_type": "markdown",
   "id": "e2e7d13d",
   "metadata": {},
   "source": [
    "## Step 1a: Load GTEx data and filter for fine-mapped variants with PIP > 0.2\n"
   ]
  },
  {
   "cell_type": "code",
   "execution_count": 2,
   "id": "f610f68e",
   "metadata": {},
   "outputs": [],
   "source": [
    "import pandas as pd\n",
    "# Step 1a: Load GTEx data and filter for fine-mapped variants with PIP > 0.2\n",
    "gtex_file = '/projects/zhanglab/users/ana/multiome/validation/originals/CAVIAR_Results_v8_GTEx_LD_ALL_NOCUTOFF_with_Allele.txt.gz'\n",
    "gtex_df = pd.read_csv(gtex_file, compression='gzip', sep='\\t')"
   ]
  },
  {
   "cell_type": "code",
   "execution_count": 3,
   "id": "6bbd157b-4649-47d0-9e6b-cb3b390b8ebf",
   "metadata": {},
   "outputs": [],
   "source": [
    "gtex_df['CHROM'] = 'chr' + gtex_df['CHROM'].astype(str) # added chr"
   ]
  },
  {
   "cell_type": "code",
   "execution_count": 4,
   "id": "1b1159e3-8d94-428b-b904-4753a73306bf",
   "metadata": {},
   "outputs": [],
   "source": [
    "gtex_df['gene'] = gtex_df.GENE.str.split('.',expand=True)[0] # added regular ensgid\n",
    "# gtex_df['gene_prob'] = gtex_df.gene + ',' + gtex_df.Probability.astype(str) # add probs\n",
    "# fine_mapped_variants = gtex_df[gtex_df['Probability'] > 0.2]\n",
    "# gtex_bed = pybedtools.BedTool.from_dataframe(fine_mapped_variants[['CHROM', 'POS', 'POS', 'gene_prob']])"
   ]
  },
  {
   "cell_type": "markdown",
   "id": "7ae802b6",
   "metadata": {},
   "source": [
    "## Step 1b: mapping the hgnc_symbols to ensembl IDs"
   ]
  },
  {
   "cell_type": "code",
   "execution_count": 5,
   "id": "ce574266-8474-4086-bf9f-004a63fc16dc",
   "metadata": {},
   "outputs": [],
   "source": [
    "from biomart import BiomartServer"
   ]
  },
  {
   "cell_type": "code",
   "execution_count": 6,
   "id": "a47f2ce1-26a7-4243-880f-f4f8e0c1cb1d",
   "metadata": {},
   "outputs": [],
   "source": [
    "server = BiomartServer(\"http://www.ensembl.org/biomart\")\n",
    "# select the dataset\n",
    "dataset = server.datasets['hsapiens_gene_ensembl']"
   ]
  },
  {
   "cell_type": "code",
   "execution_count": 7,
   "id": "10075525-ebcd-416a-b8d0-9fdd8220e14a",
   "metadata": {},
   "outputs": [],
   "source": [
    "# attributes to read\n",
    "attributes_all = ['ensembl_gene_id','hgnc_symbol']\n",
    "\n",
    "# obtain attributes and read\n",
    "response = dataset.search({'attributes': attributes_all})\n",
    "responses = response.raw.data.decode('ascii')\n",
    "\n",
    "# develop a dictionary to map positions\n",
    "gene_positions = {}\n",
    "for line in responses.splitlines():                                              \n",
    "    line = line.split('\\t')\n",
    "    gene_id = line[0] \n",
    "    gene_positions[gene_id] = line[1]"
   ]
  },
  {
   "cell_type": "code",
   "execution_count": 8,
   "id": "470001e4-c282-4b28-b595-59a81a4cd78c",
   "metadata": {},
   "outputs": [],
   "source": [
    "gtex_df['hgnc_symbol'] = gtex_df['gene'].map(gene_positions)"
   ]
  },
  {
   "cell_type": "code",
   "execution_count": 9,
   "id": "67170b5e-7f4f-4022-a332-a4a1cdbaf77d",
   "metadata": {},
   "outputs": [],
   "source": [
    "gtex_df['gene_prob'] = gtex_df.hgnc_symbol + ',' + gtex_df.Probability.astype(str) # add probs\n",
    "fine_mapped_variants = gtex_df[gtex_df['Probability'] > 0.2]\n",
    "gtex_bed = pybedtools.BedTool.from_dataframe(fine_mapped_variants[['CHROM', 'POS', 'POS', 'gene_prob']])"
   ]
  },
  {
   "cell_type": "markdown",
   "id": "8a545fc6",
   "metadata": {},
   "source": [
    "## Step 2: Load annotations and common variants"
   ]
  },
  {
   "cell_type": "code",
   "execution_count": 56,
   "id": "9c8c322a",
   "metadata": {},
   "outputs": [],
   "source": [
    "# Step 2: Load annotations\n",
    "annotations_file = '/projects/zhanglab/users/ana/multiome/results/scent/paper_results/Arthritis-tissue_allqced_bootpkg_nopc_allCT.FDR0.10.txt.gz'\n",
    "annotations_df = pd.read_csv(annotations_file,compression='gzip',sep='\\t')\n",
    "\n",
    "# # Parse peak regions\n",
    "annotations_df[['CHROM', 'START', 'END']] = annotations_df['peak'].str.split('-',expand=True)"
   ]
  },
  {
   "cell_type": "code",
   "execution_count": 57,
   "id": "4e7fbd8d-a4f1-446e-b208-f84c7a2d0862",
   "metadata": {},
   "outputs": [
    {
     "name": "stdout",
     "output_type": "stream",
     "text": [
      "chr2\t70086966\t70087166\tAAK1\n",
      " chr17\t42964386\t42964586\tAARSD1\n",
      " chr4\t56467473\t56467673\tAASDH\n",
      " chr9\t104991691\t104991891\tABCA1\n",
      " chr19\t1251416\t1251616\tABCA7\n",
      " chr7\t151341553\t151341753\tABCB8\n",
      " chr16\t15590981\t15591181\tABCC1\n",
      " chr4\t145179600\t145179800\tABCE1\n",
      " chr6\t30544742\t30544942\tABCF1\n",
      " chr6\t30720898\t30721098\tABCF1\n",
      " "
     ]
    }
   ],
   "source": [
    "# Convert annotations to BED format\n",
    "annotations_bed = pybedtools.BedTool.from_dataframe(annotations_df[['CHROM', 'START', 'END', 'gene']])\n",
    "annotations_bed.head()"
   ]
  },
  {
   "cell_type": "code",
   "execution_count": 6,
   "id": "7208c73d-8c62-4194-9b9b-fd3a827f57ff",
   "metadata": {},
   "outputs": [],
   "source": [
    "#### signac #####\n",
    "# annotations_df = pd.read_csv('/projects/zhanglab/users/ana/multiome/results/signac/signac_neatseq_links_edited.csv',index_col=0)\n",
    "# annotations_df = annotations_df[annotations_df.qvalue < 0.1].copy()\n",
    "# annotations_bed = pybedtools.BedTool.from_dataframe(annotations_df[['seqnames', 'start', 'end', 'gene']])"
   ]
  },
  {
   "cell_type": "code",
   "execution_count": null,
   "id": "57359a89-9262-4880-9096-0976bc164e22",
   "metadata": {},
   "outputs": [],
   "source": [
    "genomes_df = pd.read_csv('/projects/zhanglab/users/ana/bedtools2/ana_bedfiles/gen_truth/hg38/commonsnps_hg38.bed',header=None, sep='\\t')\n",
    "genomes_df.columns = ['CHROM','START','END','rsid']\n",
    "\n",
    "# annotations_bed = pybedtools.BedTool.from_dataframe(annotations_df.reset_index()[['chrom','start','end','gene']])\n",
    "common_variants_bed = pybedtools.BedTool.from_dataframe(genomes_df)\n",
    "common_variants_bed.head()"
   ]
  },
  {
   "cell_type": "markdown",
   "id": "c056f5a4",
   "metadata": {},
   "source": [
    "## Step 3: Precompute common variants in annotations"
   ]
  },
  {
   "cell_type": "code",
   "execution_count": 58,
   "id": "b5ef750d",
   "metadata": {},
   "outputs": [
    {
     "data": {
      "text/html": [
       "<div>\n",
       "<style scoped>\n",
       "    .dataframe tbody tr th:only-of-type {\n",
       "        vertical-align: middle;\n",
       "    }\n",
       "\n",
       "    .dataframe tbody tr th {\n",
       "        vertical-align: top;\n",
       "    }\n",
       "\n",
       "    .dataframe thead th {\n",
       "        text-align: right;\n",
       "    }\n",
       "</style>\n",
       "<table border=\"1\" class=\"dataframe\">\n",
       "  <thead>\n",
       "    <tr style=\"text-align: right;\">\n",
       "      <th></th>\n",
       "      <th>CHROM</th>\n",
       "      <th>POS</th>\n",
       "      <th>POS2</th>\n",
       "      <th>RSID</th>\n",
       "      <th>CHROM_ANN</th>\n",
       "      <th>START_ANN</th>\n",
       "      <th>END_ANN</th>\n",
       "      <th>GENE_ANN</th>\n",
       "    </tr>\n",
       "  </thead>\n",
       "  <tbody>\n",
       "    <tr>\n",
       "      <th>0</th>\n",
       "      <td>chr1</td>\n",
       "      <td>921177</td>\n",
       "      <td>921177</td>\n",
       "      <td>rs147866846</td>\n",
       "      <td>chr1</td>\n",
       "      <td>921133</td>\n",
       "      <td>921333</td>\n",
       "      <td>MXRA8</td>\n",
       "    </tr>\n",
       "    <tr>\n",
       "      <th>1</th>\n",
       "      <td>chr1</td>\n",
       "      <td>940387</td>\n",
       "      <td>940387</td>\n",
       "      <td>rs555840699</td>\n",
       "      <td>chr1</td>\n",
       "      <td>940339</td>\n",
       "      <td>940539</td>\n",
       "      <td>SAMD11</td>\n",
       "    </tr>\n",
       "    <tr>\n",
       "      <th>2</th>\n",
       "      <td>chr1</td>\n",
       "      <td>940390</td>\n",
       "      <td>940390</td>\n",
       "      <td>rs4970379</td>\n",
       "      <td>chr1</td>\n",
       "      <td>940339</td>\n",
       "      <td>940539</td>\n",
       "      <td>SAMD11</td>\n",
       "    </tr>\n",
       "    <tr>\n",
       "      <th>3</th>\n",
       "      <td>chr1</td>\n",
       "      <td>941767</td>\n",
       "      <td>941767</td>\n",
       "      <td>rs114982608</td>\n",
       "      <td>chr1</td>\n",
       "      <td>941705</td>\n",
       "      <td>941905</td>\n",
       "      <td>TNFRSF18</td>\n",
       "    </tr>\n",
       "    <tr>\n",
       "      <th>4</th>\n",
       "      <td>chr1</td>\n",
       "      <td>941767</td>\n",
       "      <td>941767</td>\n",
       "      <td>rs114982608</td>\n",
       "      <td>chr1</td>\n",
       "      <td>941705</td>\n",
       "      <td>941905</td>\n",
       "      <td>SAMD11</td>\n",
       "    </tr>\n",
       "  </tbody>\n",
       "</table>\n",
       "</div>"
      ],
      "text/plain": [
       "  CHROM     POS    POS2         RSID CHROM_ANN  START_ANN  END_ANN  GENE_ANN\n",
       "0  chr1  921177  921177  rs147866846      chr1     921133   921333     MXRA8\n",
       "1  chr1  940387  940387  rs555840699      chr1     940339   940539    SAMD11\n",
       "2  chr1  940390  940390    rs4970379      chr1     940339   940539    SAMD11\n",
       "3  chr1  941767  941767  rs114982608      chr1     941705   941905  TNFRSF18\n",
       "4  chr1  941767  941767  rs114982608      chr1     941705   941905    SAMD11"
      ]
     },
     "execution_count": 58,
     "metadata": {},
     "output_type": "execute_result"
    }
   ],
   "source": [
    "# Step 3: Precompute common variants in annotations\n",
    "common_var_in_annot = common_variants_bed.intersect(annotations_bed, wa=True, wb=True)\n",
    "common_var_in_annot = common_var_in_annot.to_dataframe(names=['CHROM', 'POS', 'POS2', 'CHROM_ANN', 'START_ANN', 'END_ANN', 'GENE_ANN'])\n",
    "common_var_in_annot = common_var_in_annot.reset_index() # added\n",
    "common_var_in_annot.columns = ['CHROM', 'POS', 'POS2', 'RSID', 'CHROM_ANN', 'START_ANN', 'END_ANN', 'GENE_ANN']\n",
    "common_var_in_annot.head()"
   ]
  },
  {
   "cell_type": "markdown",
   "id": "6162135c",
   "metadata": {},
   "source": [
    "## Step 4: Generate a dataframe with the TSS for each gene"
   ]
  },
  {
   "cell_type": "code",
   "execution_count": 34,
   "id": "8321ed25-5e7f-4da7-8b41-faa5df394e46",
   "metadata": {},
   "outputs": [],
   "source": [
    "import ctar"
   ]
  },
  {
   "cell_type": "code",
   "execution_count": null,
   "id": "3f94c638-4fff-4fc7-aa75-129a546ffb1a",
   "metadata": {},
   "outputs": [],
   "source": [
    "windows_df = ctar.data_loader.get_gene_coords(annotations_df,gene_col='gene',gene_id_type='hgnc_symbol')\n",
    "windows_df.dropna(subset=['chr', 'start', 'end'],inplace=True)\n",
    "\n",
    "windows_df['CIS_START'] = windows_df['start'].astype(int) - 500000\n",
    "windows_df['CIS_START'] = windows_df['CIS_START'].clip(lower=0)  # Ensure CIS_START is not negative\n",
    "windows_df['CIS_END'] = windows_df['end'].astype(int) + 500000\n",
    "windowsdf_bed = pybedtools.BedTool.from_dataframe(\n",
    "    windows_df[['chr', 'CIS_START', 'CIS_END', 'gene']]\n",
    ")\n",
    "windowsdf_bed.head()"
   ]
  },
  {
   "cell_type": "markdown",
   "id": "23e846a1",
   "metadata": {},
   "source": [
    "## Step 5: Calculate enrichment"
   ]
  },
  {
   "cell_type": "code",
   "execution_count": 63,
   "id": "8579ae33",
   "metadata": {},
   "outputs": [
    {
     "name": "stderr",
     "output_type": "stream",
     "text": [
      "100%|██████████| 7648/7648 [41:23<00:00,  3.08it/s]  "
     ]
    },
    {
     "name": "stdout",
     "output_type": "stream",
     "text": [
      "Overall Enrichment: 11.848383675427673\n"
     ]
    },
    {
     "name": "stderr",
     "output_type": "stream",
     "text": [
      "\n"
     ]
    }
   ],
   "source": [
    "from tqdm import tqdm\n",
    "enrichment_genei = []\n",
    "for gene_i in tqdm(set(fine_mapped_variants.hgnc_symbol) & set(annotations_df.gene)): # changed hgnc_symbols to gene\n",
    "    # causal variant linked to gene_i by CAVIAR\n",
    "    finemap_subset = fine_mapped_variants[fine_mapped_variants['hgnc_symbol']==gene_i] #\n",
    "    finemap_subset_bed = pybedtools.BedTool.from_dataframe(finemap_subset[['CHROM','POS','POS','gene_prob']])\n",
    "    # within a peak (intersect)\n",
    "    causal_var_in_annot = finemap_subset_bed.intersect(annotations_bed, wa=True, wb=True)\n",
    "    causal_var_in_annot = causal_var_in_annot.to_dataframe(names=['CHROM', 'POS', 'POS2', 'GENE_PIP' ,'CHROM_ANN', 'START_ANN', 'END_ANN', 'GENE_ANN'])\n",
    "    \n",
    "    if len(causal_var_in_annot)==0:\n",
    "        enrichment_genei.append(0)\n",
    "        continue\n",
    "\n",
    "    causal_var_in_annot[['GENE_FIN','PIP']] = causal_var_in_annot['GENE_PIP'].str.split(',',expand=True)\n",
    "    causal_var_in_annot['PIP'] = causal_var_in_annot['PIP'].astype(float)\n",
    "    \n",
    "    # linked to the same gene by SCENT as in GTEx\n",
    "    causal_var_in_annot = causal_var_in_annot[causal_var_in_annot['GENE_FIN']==causal_var_in_annot['GENE_ANN']]\n",
    "    pip_causal_var_in_annot_genei = sum(causal_var_in_annot.PIP)\n",
    "    \n",
    "    # common_var_in_annot: 1000G variant in a peak\n",
    "    num_common_var_in_annot_genei = len(common_var_in_annot[common_var_in_annot['GENE_ANN']==gene_i])\n",
    "    \n",
    "    if num_common_var_in_annot_genei == 0:\n",
    "        enrichment_genei.append(0)\n",
    "        continue\n",
    "    \n",
    "    numerator = pip_causal_var_in_annot_genei/num_common_var_in_annot_genei\n",
    "\n",
    "    # causal_var: causal variants linked to gene_i by CAVIAR\n",
    "    pip_causal_var_genei = sum(finemap_subset.Probability)\n",
    "\n",
    "    # common_var_in_cis: any 1000G variant within +/- 500kb of gene_i\n",
    "    gene = windows_df[windows_df['gene'] == gene_i]\n",
    "    chrom = gene['chr'].tolist()[0] # int()\n",
    "    start = gene['CIS_START'].tolist()[0]\n",
    "    end = gene['CIS_END'].tolist()[0]\n",
    "    common_var_in_cis = genomes_df[(genomes_df['CHROM']==chrom) & (genomes_df['START']>start) & (genomes_df['END']<end)]\n",
    "    num_common_var_in_cis_genei = len(common_var_in_cis)\n",
    "    if num_common_var_in_cis_genei == 0:\n",
    "        continue\n",
    "        \n",
    "    denominator = pip_causal_var_genei/num_common_var_in_cis_genei\n",
    "    \n",
    "    enrichment_genei.append(numerator/denominator)\n",
    "\n",
    "#Calculate overall enrichment score\n",
    "overall_enrichment = sum(enrichment_genei) / len(enrichment_genei) if len(enrichment_genei) > 0 else float('nan')\n",
    "print(f\"Overall Enrichment: {overall_enrichment}\")"
   ]
  },
  {
   "cell_type": "code",
   "execution_count": 166,
   "id": "25b24a6d",
   "metadata": {},
   "outputs": [
    {
     "data": {
      "text/plain": [
       "3.1259444353589907"
      ]
     },
     "execution_count": 166,
     "metadata": {},
     "output_type": "execute_result"
    }
   ],
   "source": [
    "# TSS\n",
    "# brain 4.24\n",
    "# arthritis 9.59\n",
    "# dogma 6.94\n",
    "# NEAT 10.9\n",
    "# NeurlIPS 8.73\n",
    "# Pituary 6.69\n",
    "# SHARE-seq 12.45\n",
    "# PBMC 7.06\n"
   ]
  },
  {
   "cell_type": "code",
   "execution_count": null,
   "id": "e7704042-9c0b-4f18-8fa1-8817348b0809",
   "metadata": {},
   "outputs": [],
   "source": [
    "# Gene body overall enrichment w PIP\n",
    "# brain 5.32\n",
    "# arthritis 11.85\n",
    "# dogma 8.70\n",
    "# NEAT 12.45\n",
    "# NeurlIPS 11.48\n",
    "# Pituary 10.00\n",
    "# SHARE-seq 16.47\n",
    "# PBMC 8.71"
   ]
  },
  {
   "cell_type": "code",
   "execution_count": null,
   "id": "f33f824c-b282-46e5-9929-7e34c70e0510",
   "metadata": {},
   "outputs": [],
   "source": [
    "# Gene body - NEAT\n",
    "# SCENT - 11.88\n",
    "# Signac - 3.95"
   ]
  },
  {
   "cell_type": "code",
   "execution_count": 67,
   "id": "2b3c5195-dd71-46ee-b114-3e311ea67dd5",
   "metadata": {},
   "outputs": [],
   "source": [
    "import matplotlib.pyplot as plt\n",
    "import seaborn as sns"
   ]
  },
  {
   "cell_type": "code",
   "execution_count": 68,
   "id": "387678ac-769b-4261-8d29-9f441d2ead43",
   "metadata": {},
   "outputs": [
    {
     "name": "stderr",
     "output_type": "stream",
     "text": [
      "/tmp/ipykernel_55255/1247219589.py:9: FutureWarning: \n",
      "\n",
      "The `ci` parameter is deprecated. Use `errorbar=None` for the same effect.\n",
      "\n",
      "  sns.barplot(x='Tissue', y='Enrichment', data=df, color='#56B4E9', ci=None)\n"
     ]
    },
    {
     "data": {
      "image/png": "[encoded data removed]",
      "text/plain": [
       "<Figure size 1000x600 with 1 Axes>"
      ]
     },
     "metadata": {},
     "output_type": "display_data"
    }
   ],
   "source": [
    "data = {\n",
    "    'Tissue': ['Arthritis', 'PBMC', 'NeurIPS', 'SHARE-seq', 'Dogma-seq', 'NEAT-seq', 'Brain', 'Pituitary'],\n",
    "    'Enrichment': [11.85, 8.71, 11.48, 16.47, 8.70, 12.45, 5.32, 10],\n",
    "}\n",
    "\n",
    "df = pd.DataFrame(data)\n",
    "\n",
    "plt.figure(figsize=(10, 6))\n",
    "sns.barplot(x='Tissue', y='Enrichment', data=df, color='#56B4E9', ci=None)\n",
    "\n",
    "# for i, value in enumerate(data['Enrichment']):\n",
    "#     plt.errorbar(i, value, yerr=1, fmt='o', color='k')  \n",
    "\n",
    "plt.ylim(0, 30)  # Set y-axis range to 0-30\n",
    "plt.title('Mean Causal Variant Enrichment for eQTL')\n",
    "plt.ylabel('Mean causal variant enrichment for eQTL')\n",
    "plt.xlabel('')\n",
    "plt.xticks(rotation=45)\n",
    "plt.tight_layout()\n",
    "plt.show()"
   ]
  },
  {
   "cell_type": "code",
   "execution_count": null,
   "id": "c924a09e-2ac7-4306-a033-ea548b80f7c5",
   "metadata": {},
   "outputs": [],
   "source": []
  },
  {
   "cell_type": "code",
   "execution_count": null,
   "id": "8a7caa3b-2d86-4bda-82b3-cea25693d10b",
   "metadata": {},
   "outputs": [],
   "source": []
  }
 ],
 "metadata": {
  "kernelspec": {
   "display_name": "py39",
   "language": "python",
   "name": "py39"
  },
  "language_info": {
   "codemirror_mode": {
    "name": "ipython",
    "version": 3
   },
   "file_extension": ".py",
   "mimetype": "text/x-python",
   "name": "python",
   "nbconvert_exporter": "python",
   "pygments_lexer": "ipython3",
   "version": "3.9.19"
  }
 },
 "nbformat": 4,
 "nbformat_minor": 5
}
