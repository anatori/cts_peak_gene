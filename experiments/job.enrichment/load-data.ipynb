{
 "cells": [
  {
   "cell_type": "markdown",
   "id": "5dbbf558-ef17-4f20-a53f-e2a6aae0230f",
   "metadata": {},
   "source": [
    "# NEATseq analysis and enrichment"
   ]
  },
  {
   "cell_type": "code",
   "execution_count": 1,
   "id": "f7cb1f4c-833d-4bcc-9759-af7a3d389c60",
   "metadata": {},
   "outputs": [],
   "source": [
    "import pandas as pd\n",
    "import numpy as np\n",
    "import ctar\n",
    "import anndata as ad"
   ]
  },
  {
   "cell_type": "markdown",
   "id": "3362b741-90c0-4de0-815c-8ba7f0618124",
   "metadata": {},
   "source": [
    "### Load NEATseq data\n",
    "These files were generated from the raw CD4T cell data.\n",
    "\n",
    "`neat_mu['rna']` contains the RNA gene expression. \\\n",
    "`neat_mu['atac']` contains the ATAC peak accessibility."
   ]
  },
  {
   "cell_type": "code",
   "execution_count": 2,
   "id": "c84fea12-8426-4d24-8540-d2b768ce12b3",
   "metadata": {},
   "outputs": [],
   "source": [
    "import muon as mu"
   ]
  },
  {
   "cell_type": "code",
   "execution_count": 3,
   "id": "6370692b-1fe4-4c8f-98f1-77a3e3dfcef7",
   "metadata": {},
   "outputs": [
    {
     "name": "stderr",
     "output_type": "stream",
     "text": [
      "/home/asprieto/miniconda3/envs/py39/lib/python3.9/site-packages/anndata/_core/anndata.py:522: FutureWarning: The dtype argument is deprecated and will be removed in late 2024.\n",
      "  warnings.warn(\n",
      "/home/asprieto/miniconda3/envs/py39/lib/python3.9/site-packages/anndata/_core/anndata.py:522: FutureWarning: The dtype argument is deprecated and will be removed in late 2024.\n",
      "  warnings.warn(\n",
      "/home/asprieto/miniconda3/envs/py39/lib/python3.9/site-packages/mudata/_core/mudata.py:491: UserWarning: Cannot join columns with the same name because var_names are intersecting.\n",
      "  warnings.warn(\n"
     ]
    }
   ],
   "source": [
    "neat_directory = '/projects/zhanglab/users/ana/multiome/raw/neatseq/'\n",
    "neat_mu = mu.read(neat_directory+'neat.h5mu')"
   ]
  },
  {
   "cell_type": "markdown",
   "id": "75f05ad7-be77-43c5-8124-9b9e8289b1f6",
   "metadata": {},
   "source": [
    "### Load CRISPRi FlowFISH"
   ]
  },
  {
   "cell_type": "markdown",
   "id": "eaea1ff3-a87d-4e67-a017-927b0fdb99df",
   "metadata": {},
   "source": [
    "The original table directly from the Nasser Nature 2021 paper can be found in `crispr_directory + 'originals/crispr-flowfish-supp5'`. The -`_edited` version simply contains the following additional columns:\n",
    "1. `ensgid`: the gene Ensembl IDs mapped using BioMart API\n",
    "2. `unique_id`: contains identifiers for specific enhancer-gene-celltype links\n",
    "3. `hg38_chr, hg38_start, hg38_end`: lifted over hg38 enhancer coordinates\n",
    "\n",
    "The LiftOver tool and `hg19ToHg38.over.chain.gz` file can be found in `/projects/zhanglab/users/ana/liftover/liftOver`."
   ]
  },
  {
   "cell_type": "code",
   "execution_count": 32,
   "id": "e19698a3-a086-48e8-adea-d5e184a111ba",
   "metadata": {},
   "outputs": [],
   "source": [
    "crispr_directory = '/projects/zhanglab/users/ana/multiome/validation/'\n",
    "crispr = pd.read_csv(crispr_directory+'crispr-flowfish-supp5_edited.csv',index_col=0)"
   ]
  },
  {
   "cell_type": "markdown",
   "id": "685049b4-49f4-4614-a3fb-2a87b85b6a99",
   "metadata": {},
   "source": [
    "According to SCENT paper,\n",
    "> We defined 283 positive enhancer element–gene links when they are ‘TRUE’ for ‘Regulated’ column (that is, the element–gene pair is significant and the effect size is negative) and 5,472 negative enhancer element–gene links when they are ‘FALSE’ for ‘Regulated’ column."
   ]
  },
  {
   "cell_type": "code",
   "execution_count": 33,
   "id": "a7bef5f6-e3e2-4d41-b83a-445119685f78",
   "metadata": {},
   "outputs": [
    {
     "name": "stdout",
     "output_type": "stream",
     "text": [
      "Positive links:  283\n",
      "Negative links:  5472\n"
     ]
    }
   ],
   "source": [
    "print('Positive links: ',crispr[crispr.Regulated == True].shape[0])\n",
    "print('Negative links: ',crispr[crispr.Regulated == False].shape[0])"
   ]
  },
  {
   "cell_type": "markdown",
   "id": "997f5cd3-f145-403e-af05-112c767c675a",
   "metadata": {},
   "source": [
    "# CTAR"
   ]
  },
  {
   "cell_type": "markdown",
   "id": "2510adf7-a24a-4436-ab0a-116e7423aee4",
   "metadata": {},
   "source": [
    "### Step 1 (optional) : Get peak-gene pairs with +/-500kb around the gene body.\n",
    "I already included `peak_gene_pairs` in `neat_mu.uns` but if you would like to do it from scratch the code is here."
   ]
  },
  {
   "cell_type": "code",
   "execution_count": null,
   "id": "94ce63ad-33ba-4160-8c0d-6c78bc1f3ac2",
   "metadata": {},
   "outputs": [],
   "source": [
    "# gets gene body coords and adds +/-500kb windows\n",
    "genes = ctar.data_loader.get_gene_coords(neat_mu['rna'].var)\n",
    "# adjust peak to bed format\n",
    "peaks = neat_mu['atac'].var.copy()\n",
    "peaks[['chr','start','end']] = peaks.peak.str.split(':|-',expand=True)\n",
    "# gets intersection of peaks and +/-500kb windows around genes\n",
    "peak_gene_pairs = ctar.data_loader.peak_to_gene(peaks,genes)\n",
    "# add this to mu_neat.uns\n",
    "neat_mu.uns['peak_gene_pairs'] = peak_gene_pairs\n",
    "# note: takes around 1-2min."
   ]
  },
  {
   "cell_type": "markdown",
   "id": "4de82334-f97c-44a7-914f-3235ce2ab5a5",
   "metadata": {},
   "source": [
    "### Step 2: Create AnnData object for regression analysis.\n",
    "Aligns peaks and genes according to `peak_gene_pairs`."
   ]
  },
  {
   "cell_type": "code",
   "execution_count": 4,
   "id": "7e631ff4-8a50-4901-a8be-18f7969f729f",
   "metadata": {},
   "outputs": [],
   "source": [
    "neat = ctar.method.build_adata(neat_mu,gene_col='gene',peak_col='peak',raw=True)"
   ]
  },
  {
   "cell_type": "code",
   "execution_count": 5,
   "id": "95e01344-e08b-4dd4-af04-637670e82166",
   "metadata": {},
   "outputs": [],
   "source": [
    "# filter out lowly expressed peaks or genes with < 5% cells expressing.\n",
    "neat,lowexp_mask = ctar.method.filter_vars(neat)"
   ]
  },
  {
   "cell_type": "markdown",
   "id": "72cc7ff6-11b8-4088-bd52-6d28a1e32b63",
   "metadata": {},
   "source": [
    "### Step 3: Get correlation coefficient."
   ]
  },
  {
   "cell_type": "code",
   "execution_count": 6,
   "id": "60ea5323-9165-4a78-9a30-b5077bbb422b",
   "metadata": {},
   "outputs": [
    {
     "name": "stderr",
     "output_type": "stream",
     "text": [
      "100%|██████████| 63677/63677 [07:46<00:00, 136.46it/s]\n"
     ]
    }
   ],
   "source": [
    "neat = ctar.method.get_poiss_coeff(neat)"
   ]
  },
  {
   "cell_type": "markdown",
   "id": "e0d29abe-1c80-41aa-aff4-56f3c23cd362",
   "metadata": {},
   "source": [
    "### Step 4: Get control peaks."
   ]
  },
  {
   "cell_type": "code",
   "execution_count": 7,
   "id": "5a651229-cd48-4b4a-b149-56cbf1d14cab",
   "metadata": {},
   "outputs": [
    {
     "name": "stdout",
     "output_type": "stream",
     "text": [
      "MFA done.\n",
      "Get_bins done.\n",
      "Rand_peaks done.\n",
      "Ctrl index array done.\n"
     ]
    },
    {
     "data": {
      "text/plain": [
       "array([[ 9166,  4294, 55416, ..., 35125, 37664, 16963],\n",
       "       [44462, 62710, 56222, ..., 59625, 41396, 47153],\n",
       "       [57558, 47313, 36189, ..., 62384, 35218, 53401],\n",
       "       ...,\n",
       "       [53072,  6914, 33308, ..., 60992, 16825, 56812],\n",
       "       [26955, 11562, 27104, ..., 10817, 21193,  6387],\n",
       "       [   20, 58346, 60147, ..., 21303, 42991, 23547]])"
      ]
     },
     "execution_count": 7,
     "metadata": {},
     "output_type": "execute_result"
    }
   ],
   "source": [
    "ctar.method.create_ctrl_peaks(neat,num_bins=10,gc=False,peak_col='peak')"
   ]
  },
  {
   "cell_type": "markdown",
   "id": "c404e696-6ff3-4112-ad33-99d9c7b69c59",
   "metadata": {},
   "source": [
    "This part takes very long. It would be better to use the script `/projects/zhanglab/users/ana/multiome/results/ctar/ctar.sbatch` which will run in batches."
   ]
  },
  {
   "cell_type": "code",
   "execution_count": null,
   "id": "63d51f41-eda2-4c95-802c-d462b6c85615",
   "metadata": {},
   "outputs": [],
   "source": [
    "# save data\n",
    "neat.write('neat.h5ad')"
   ]
  },
  {
   "cell_type": "code",
   "execution_count": 9,
   "id": "262980bb-530d-4de2-b52c-e38e16c5655e",
   "metadata": {},
   "outputs": [],
   "source": [
    "from tqdm import tqdm"
   ]
  },
  {
   "cell_type": "code",
   "execution_count": 10,
   "id": "1b10e200-26fe-4f99-9706-d205fd9476bf",
   "metadata": {},
   "outputs": [
    {
     "name": "stderr",
     "output_type": "stream",
     "text": [
      "  0%|          | 5/63677 [00:08<29:05:37,  1.64s/it]\n",
      "\n",
      "KeyboardInterrupt\n",
      "\n"
     ]
    }
   ],
   "source": [
    "atac = neat.layers['atac_raw'].A\n",
    "ctrl_coeff = []\n",
    "for i in tqdm(np.arange(atac.shape[1])):\n",
    "    ctrl_coeff_i = []\n",
    "    rna = neat[:,i].layers['rna_raw'].A\n",
    "    ind = neat[:,i].varm['control_peaks'][0].astype(int)\n",
    "    for j in np.arange(200): # generate coefficient for all controls in b = 200\n",
    "        ctrl_coeff_i.append(ctar.method.fit_poisson(atac[:,[ind[j]]],\n",
    "                                                    rna,return_none=False))\n",
    "    ctrl_coeff.append(ctrl_coeff_i)\n",
    "    \n",
    "ctrl_coeff = np.array(ctrl_coeff)"
   ]
  },
  {
   "cell_type": "code",
   "execution_count": null,
   "id": "bb24d9e5-b10b-4b3d-980a-c596db0e3477",
   "metadata": {},
   "outputs": [],
   "source": [
    "neat.varm['ctrl_poiss_coeff'] = ctrl_coeff"
   ]
  },
  {
   "cell_type": "markdown",
   "id": "c097a2e1-2689-41b0-a5a3-68fa32d3676e",
   "metadata": {},
   "source": [
    "### Precomputed results\n",
    "My results from this dataset."
   ]
  },
  {
   "cell_type": "code",
   "execution_count": 12,
   "id": "99e41c6b-cc22-4e95-ac77-9ff8494d6ac3",
   "metadata": {},
   "outputs": [
    {
     "data": {
      "text/plain": [
       "AnnData object with n_obs × n_vars = 8472 × 63677\n",
       "    obs: 'Sample', 'TSSEnrichment', 'ReadsInTSS', 'ReadsInPromoter', 'ReadsInBlacklist', 'PromoterRatio', 'PassQC', 'NucleosomeRatio', 'nMultiFrags', 'nMonoFrags', 'nFrags', 'nDiFrags', 'BlacklistRatio', 'Clusters', 'ReadsInPeaks', 'FRIP'\n",
       "    var: 'peak', 'gene', 'distance', 'index_z', 'index_x', 'index_y', 'poiss_coeff', 'mc_pval', 'mc_qval'\n",
       "    varm: 'control_peaks', 'control_poiss_coeff'\n",
       "    layers: 'atac_raw', 'rna_raw'"
      ]
     },
     "execution_count": 12,
     "metadata": {},
     "output_type": "execute_result"
    }
   ],
   "source": [
    "results_directory = '/projects/zhanglab/users/ana/multiome/results/ctar/'\n",
    "neat = ad.read_h5ad(results_directory+'neat.h5ad')\n",
    "neat"
   ]
  },
  {
   "cell_type": "markdown",
   "id": "0d51f4a4-be1f-4696-8703-c28b82dcf219",
   "metadata": {},
   "source": [
    "# SCENT and Signac\n",
    "SCENT and Signac must be run in R. Analysis is provided in the notebook `signac-scent.ipynb`. Precomputed results from those methods on the NEATseq dataset can be found here."
   ]
  },
  {
   "cell_type": "code",
   "execution_count": 19,
   "id": "b9b34b89-d84b-4c55-ba91-c6c1c56566bd",
   "metadata": {},
   "outputs": [],
   "source": [
    "scent_directory = '/projects/zhanglab/users/ana/multiome/results/scent/'\n",
    "scent_neat = pd.read_csv(scent_directory+'myscent_neatseq.txt',index_col=0)\n",
    "# FDR < 0.1 results form the paper, edited to include Ensembl IDs mapped with BioMart\n",
    "scent_neat_paper = pd.read_csv(scent_directory+'scentpaper_neatseq_edited.csv',index_col=0)"
   ]
  },
  {
   "cell_type": "code",
   "execution_count": 22,
   "id": "e600f5cf-21dd-40c3-8cb1-bad5571a8e95",
   "metadata": {},
   "outputs": [],
   "source": [
    "signac_directory = '/projects/zhanglab/users/ana/multiome/results/signac/'\n",
    "signac_neat = pd.read_csv(signac_directory+'signac_neatseq_links_edited.csv',index_col=0)"
   ]
  }
 ],
 "metadata": {
  "kernelspec": {
   "display_name": "py39",
   "language": "python",
   "name": "py39"
  },
  "language_info": {
   "codemirror_mode": {
    "name": "ipython",
    "version": 3
   },
   "file_extension": ".py",
   "mimetype": "text/x-python",
   "name": "python",
   "nbconvert_exporter": "python",
   "pygments_lexer": "ipython3",
   "version": "3.9.19"
  }
 },
 "nbformat": 4,
 "nbformat_minor": 5
}
