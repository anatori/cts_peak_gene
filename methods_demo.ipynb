{
 "cells": [
  {
   "cell_type": "markdown",
   "id": "ed3962ef-01ac-41e5-bccf-bcda633506d1",
   "metadata": {},
   "source": [
    "# Method functions demo\n",
    "This notebook demos ctar method functions. It requires the file `pbmc10k_csc.h5mu` which can be found in `./projects/zhanglab/users/ana`.\n",
    "\n",
    "In this notebook, you will create an AnnData object with:\n",
    "- aligned RNA and ATACseq data\n",
    "- correlations between defined peak-gene pairs\n",
    "- control correlations using random peaks matched for GC content and MFA\n",
    "- Monte Carlo p-value based on those controls\n",
    "\n",
    "The latter half of this notebook features some functions for CT-specific analysis that are still a work in progress."
   ]
  },
  {
   "cell_type": "code",
   "execution_count": 1,
   "id": "8286ef1f-d703-4865-baa3-e05fb9b81ac4",
   "metadata": {},
   "outputs": [],
   "source": [
    "# Importing libraries\n",
    "import numpy as np\n",
    "import pandas as pd \n",
    "import statsmodels.stats as stats\n",
    "import matplotlib.pyplot as plt\n",
    "import seaborn as sns\n",
    "import scipy as sp\n",
    "import scdrs\n",
    "import math\n",
    "import warnings\n",
    "import time\n",
    "import random\n",
    "from tqdm import tqdm\n",
    "\n",
    "import pybedtools\n",
    "from itertools import compress\n",
    "from Bio.SeqUtils import GC\n",
    "\n",
    "import anndata as ad\n",
    "import scanpy as sc\n",
    "import muon as mu\n",
    "\n",
    "import ctar"
   ]
  },
  {
   "cell_type": "code",
   "execution_count": 2,
   "id": "83082ca9-7216-4485-9f58-f21126679e27",
   "metadata": {},
   "outputs": [
    {
     "name": "stderr",
     "output_type": "stream",
     "text": [
      "/home/asprieto/miniconda3/envs/py39/lib/python3.9/site-packages/anndata/_core/anndata.py:522: FutureWarning: The dtype argument is deprecated and will be removed in late 2024.\n",
      "  warnings.warn(\n",
      "/home/asprieto/miniconda3/envs/py39/lib/python3.9/site-packages/anndata/_core/anndata.py:522: FutureWarning: The dtype argument is deprecated and will be removed in late 2024.\n",
      "  warnings.warn(\n"
     ]
    }
   ],
   "source": [
    "# Load muData object\n",
    "mdata = mu.read('pbmc10k_csc.h5mu')"
   ]
  },
  {
   "cell_type": "code",
   "execution_count": 3,
   "id": "94e7a60d-8cc9-48fe-8efb-61688cbdc33c",
   "metadata": {},
   "outputs": [],
   "source": [
    "# For the purposes of demo, take a small subset\n",
    "mini = mdata[:50,:]\n",
    "\n",
    "# Add cell type labels\n",
    "labels = {\n",
    "    0:'CD4+ naïve T', 1:'CD4+ memory T', 2:'MAIT',\n",
    "    3:'CD8+ naïve T', 4:'CD8+ activated T', 5:'NK',\n",
    "    6:'naïve B', 7:'memory B',\n",
    "    8:'CD14 mono', 9:'intermediate mono', 10:'mDC', 11:'pDC'}\n",
    "\n",
    "mini.uns['ct_labels'] = labels"
   ]
  },
  {
   "cell_type": "code",
   "execution_count": 4,
   "id": "8d4071e0-a0b8-4789-b2c0-5e12ac65643c",
   "metadata": {},
   "outputs": [
    {
     "name": "stdout",
     "output_type": "stream",
     "text": [
      "Using peak_annotation index as gene_name column.\n",
      "Using peak as gene_ids column.\n"
     ]
    },
    {
     "name": "stderr",
     "output_type": "stream",
     "text": [
      "/home/asprieto/cts_peak_gene/ctar/method.py:223: ImplicitModificationWarning: Trying to modify attribute `.var` of view, initializing view as actual.\n",
      "  mdata['atac'].var['index'] = range(len(atac.var))\n"
     ]
    },
    {
     "name": "stdout",
     "output_type": "stream",
     "text": [
      "Using rna.var index as gene_name column.\n"
     ]
    },
    {
     "data": {
      "text/html": [
       "<div>\n",
       "<style scoped>\n",
       "    .dataframe tbody tr th:only-of-type {\n",
       "        vertical-align: middle;\n",
       "    }\n",
       "\n",
       "    .dataframe tbody tr th {\n",
       "        vertical-align: top;\n",
       "    }\n",
       "\n",
       "    .dataframe thead th {\n",
       "        text-align: right;\n",
       "    }\n",
       "</style>\n",
       "<table border=\"1\" class=\"dataframe\">\n",
       "  <thead>\n",
       "    <tr style=\"text-align: right;\">\n",
       "      <th></th>\n",
       "      <th>gene_ids</th>\n",
       "      <th>index_x</th>\n",
       "      <th>gene_name</th>\n",
       "      <th>distance</th>\n",
       "      <th>peak_type</th>\n",
       "      <th>index_y</th>\n",
       "    </tr>\n",
       "  </thead>\n",
       "  <tbody>\n",
       "    <tr>\n",
       "      <th>1</th>\n",
       "      <td>chr1:180599-181702</td>\n",
       "      <td>1</td>\n",
       "      <td>AL627309.5</td>\n",
       "      <td>-6738</td>\n",
       "      <td>distal</td>\n",
       "      <td>1.0</td>\n",
       "    </tr>\n",
       "    <tr>\n",
       "      <th>2</th>\n",
       "      <td>chr1:191168-192093</td>\n",
       "      <td>2</td>\n",
       "      <td>AL627309.5</td>\n",
       "      <td>-17307</td>\n",
       "      <td>distal</td>\n",
       "      <td>1.0</td>\n",
       "    </tr>\n",
       "    <tr>\n",
       "      <th>10</th>\n",
       "      <td>chr1:774742-775615</td>\n",
       "      <td>10</td>\n",
       "      <td>LINC01409</td>\n",
       "      <td>-3143</td>\n",
       "      <td>distal</td>\n",
       "      <td>4.0</td>\n",
       "    </tr>\n",
       "    <tr>\n",
       "      <th>11</th>\n",
       "      <td>chr1:778283-779200</td>\n",
       "      <td>11</td>\n",
       "      <td>LINC01409</td>\n",
       "      <td>0</td>\n",
       "      <td>promoter</td>\n",
       "      <td>4.0</td>\n",
       "    </tr>\n",
       "    <tr>\n",
       "      <th>12</th>\n",
       "      <td>chr1:816877-817776</td>\n",
       "      <td>12</td>\n",
       "      <td>FAM87B</td>\n",
       "      <td>0</td>\n",
       "      <td>promoter</td>\n",
       "      <td>5.0</td>\n",
       "    </tr>\n",
       "  </tbody>\n",
       "</table>\n",
       "</div>"
      ],
      "text/plain": [
       "              gene_ids  index_x   gene_name  distance peak_type  index_y\n",
       "1   chr1:180599-181702        1  AL627309.5     -6738    distal      1.0\n",
       "2   chr1:191168-192093        2  AL627309.5    -17307    distal      1.0\n",
       "10  chr1:774742-775615       10   LINC01409     -3143    distal      4.0\n",
       "11  chr1:778283-779200       11   LINC01409         0  promoter      4.0\n",
       "12  chr1:816877-817776       12      FAM87B         0  promoter      5.0"
      ]
     },
     "execution_count": 4,
     "metadata": {},
     "output_type": "execute_result"
    }
   ],
   "source": [
    "# Get peak_gene_pairs from muData\n",
    "ctar.method.find_peak_gene_pairs(mini)\n",
    "mini.uns['peak_gene_pairs'].head()"
   ]
  },
  {
   "cell_type": "code",
   "execution_count": 5,
   "id": "5b91b693-005b-44d9-87c0-03e6c3a72d5d",
   "metadata": {},
   "outputs": [
    {
     "data": {
      "text/plain": [
       "AnnData object with n_obs × n_vars = 30 × 44230\n",
       "    obs: 'n_genes_by_counts', 'total_counts', 'NS', 'nucleosome_signal', 'n_counts', 'leiden', 'celltype'\n",
       "    var: 'gene_ids', 'index_x', 'gene_name', 'distance', 'peak_type', 'index_y', 'corr'\n",
       "    uns: 'ct_labels'\n",
       "    varm: 'lowexp_ct_mask'\n",
       "    layers: 'atac', 'rna', 'atac_raw', 'rna_raw'"
      ]
     },
     "execution_count": 5,
     "metadata": {},
     "output_type": "execute_result"
    }
   ],
   "source": [
    "# Build an AnnData object with aligned peak-gene pairs\n",
    "ctar_adata = ctar.method.build_adata(mini)\n",
    "# Add CT labels to this new AnnData too\n",
    "ctar_adata.uns['ct_labels'] = labels\n",
    "\n",
    "# Ensure all labels are unique (AnnData function)\n",
    "ctar_adata.var_names_make_unique()\n",
    "\n",
    "# Get correlation between atac and rna layers\n",
    "ctar_adata = ctar.method.get_corrs(ctar_adata)\n",
    "\n",
    "ctar_adata"
   ]
  },
  {
   "cell_type": "code",
   "execution_count": 6,
   "id": "e66a7fbf-8495-47d6-be99-961b709028c6",
   "metadata": {},
   "outputs": [
    {
     "name": "stdout",
     "output_type": "stream",
     "text": [
      "MFA done.\n",
      "GC done.\n",
      "Get_bins done.\n",
      "Rand_peaks done.\n",
      "Ctrl index array done.\n"
     ]
    },
    {
     "data": {
      "text/plain": [
       "array([[41925,   773, 15906, ...,  1154, 21427,   578],\n",
       "       [22655, 19327,  6547, ..., 42976, 42968,  4243],\n",
       "       [24070, 26372, 30659, ..., 21938, 10970, 21321],\n",
       "       ...,\n",
       "       [30148, 31861, 30684, ...,  2349,  8462, 40545],\n",
       "       [11486, 35205, 24963, ..., 23562, 35284,  8145],\n",
       "       [12697, 13003, 17175, ..., 42983, 16969, 22550]])"
      ]
     },
     "execution_count": 6,
     "metadata": {},
     "output_type": "execute_result"
    }
   ],
   "source": [
    "random.seed(6)\n",
    "\n",
    "# Add control peak indices to ctar_adata.varm\n",
    "# We will use this to calculate control corrs for matched random atac peaks\n",
    "# Note that fetching sequencing and recording GC content takes a bit long.\n",
    "ctar.method.create_ctrl_peaks(ctar_adata)"
   ]
  },
  {
   "cell_type": "code",
   "execution_count": 7,
   "id": "e0f8357e-cb43-473c-baf9-9ddb31ce113b",
   "metadata": {},
   "outputs": [
    {
     "name": "stderr",
     "output_type": "stream",
     "text": [
      "100%|██████████| 44230/44230 [00:48<00:00, 908.76it/s]\n"
     ]
    },
    {
     "data": {
      "text/plain": [
       "array([[-0.07072625,  0.35570648, -0.18710272, ..., -0.06760585,\n",
       "         0.0203484 , -0.11070114],\n",
       "       [-0.11630739,  0.03897239,  0.20377669, ..., -0.0617177 ,\n",
       "        -0.04831771,  0.22521447],\n",
       "       [-0.04961354, -0.03448276, -0.03448276, ...,  0.29227549,\n",
       "        -0.03448277,  1.00000036],\n",
       "       ...,\n",
       "       [-0.11471381,  0.1692903 ,  0.317931  , ..., -0.16466704,\n",
       "        -0.16258687, -0.16250041],\n",
       "       [-0.20475599,  0.05010165,  0.06129436, ...,  0.38961723,\n",
       "        -0.20574735,  0.43382499],\n",
       "       [ 0.14853226, -0.14865822, -0.21542181, ...,  0.09325566,\n",
       "        -0.03370514, -0.17493862]])"
      ]
     },
     "execution_count": 7,
     "metadata": {},
     "output_type": "execute_result"
    }
   ],
   "source": [
    "# Using ctar_adata.varm.control_peaks, calculate control corr\n",
    "# and add it to ctar_adata.varm\n",
    "ctar.method.control_corr(ctar_adata)"
   ]
  },
  {
   "cell_type": "code",
   "execution_count": 10,
   "id": "3ba7ea7b-e8c0-4b8d-8ccf-ccd72ccd3a27",
   "metadata": {},
   "outputs": [
    {
     "data": {
      "text/html": [
       "<div>\n",
       "<style scoped>\n",
       "    .dataframe tbody tr th:only-of-type {\n",
       "        vertical-align: middle;\n",
       "    }\n",
       "\n",
       "    .dataframe tbody tr th {\n",
       "        vertical-align: top;\n",
       "    }\n",
       "\n",
       "    .dataframe thead th {\n",
       "        text-align: right;\n",
       "    }\n",
       "</style>\n",
       "<table border=\"1\" class=\"dataframe\">\n",
       "  <thead>\n",
       "    <tr style=\"text-align: right;\">\n",
       "      <th></th>\n",
       "      <th>gene_ids</th>\n",
       "      <th>index_x</th>\n",
       "      <th>gene_name</th>\n",
       "      <th>distance</th>\n",
       "      <th>peak_type</th>\n",
       "      <th>index_y</th>\n",
       "      <th>corr</th>\n",
       "      <th>mc_pval</th>\n",
       "      <th>mc_qval</th>\n",
       "    </tr>\n",
       "    <tr>\n",
       "      <th>id</th>\n",
       "      <th></th>\n",
       "      <th></th>\n",
       "      <th></th>\n",
       "      <th></th>\n",
       "      <th></th>\n",
       "      <th></th>\n",
       "      <th></th>\n",
       "      <th></th>\n",
       "      <th></th>\n",
       "    </tr>\n",
       "  </thead>\n",
       "  <tbody>\n",
       "    <tr>\n",
       "      <th>chr1:778283-779200 , LINC01409</th>\n",
       "      <td>chr1:778283-779200</td>\n",
       "      <td>11</td>\n",
       "      <td>LINC01409</td>\n",
       "      <td>0</td>\n",
       "      <td>promoter</td>\n",
       "      <td>4.0</td>\n",
       "      <td>-0.240365</td>\n",
       "      <td>0.058160</td>\n",
       "      <td>0.999979</td>\n",
       "    </tr>\n",
       "    <tr>\n",
       "      <th>chr1:827066-827949 , LINC01128</th>\n",
       "      <td>chr1:827066-827949</td>\n",
       "      <td>16</td>\n",
       "      <td>LINC01128</td>\n",
       "      <td>0</td>\n",
       "      <td>promoter</td>\n",
       "      <td>6.0</td>\n",
       "      <td>0.275780</td>\n",
       "      <td>0.898466</td>\n",
       "      <td>0.999979</td>\n",
       "    </tr>\n",
       "    <tr>\n",
       "      <th>chr1:844161-845024 , LINC01128</th>\n",
       "      <td>chr1:844161-845024</td>\n",
       "      <td>19</td>\n",
       "      <td>LINC01128</td>\n",
       "      <td>-15203</td>\n",
       "      <td>distal</td>\n",
       "      <td>6.0</td>\n",
       "      <td>-0.049096</td>\n",
       "      <td>0.509170</td>\n",
       "      <td>0.999979</td>\n",
       "    </tr>\n",
       "    <tr>\n",
       "      <th>chr1:857911-858643 , LINC01128</th>\n",
       "      <td>chr1:857911-858643</td>\n",
       "      <td>21</td>\n",
       "      <td>LINC01128</td>\n",
       "      <td>-1584</td>\n",
       "      <td>distal</td>\n",
       "      <td>6.0</td>\n",
       "      <td>-0.049506</td>\n",
       "      <td>0.491017</td>\n",
       "      <td>0.999979</td>\n",
       "    </tr>\n",
       "    <tr>\n",
       "      <th>chr1:955171-956100 , NOC2L</th>\n",
       "      <td>chr1:955171-956100</td>\n",
       "      <td>36</td>\n",
       "      <td>NOC2L</td>\n",
       "      <td>3156</td>\n",
       "      <td>distal</td>\n",
       "      <td>12.0</td>\n",
       "      <td>-0.061435</td>\n",
       "      <td>0.443785</td>\n",
       "      <td>0.999979</td>\n",
       "    </tr>\n",
       "    <tr>\n",
       "      <th>...</th>\n",
       "      <td>...</td>\n",
       "      <td>...</td>\n",
       "      <td>...</td>\n",
       "      <td>...</td>\n",
       "      <td>...</td>\n",
       "      <td>...</td>\n",
       "      <td>...</td>\n",
       "      <td>...</td>\n",
       "      <td>...</td>\n",
       "    </tr>\n",
       "    <tr>\n",
       "      <th>GL000219.1:44638-45549 , AL592183.1</th>\n",
       "      <td>GL000219.1:44638-45549</td>\n",
       "      <td>143855</td>\n",
       "      <td>AL592183.1</td>\n",
       "      <td>37762</td>\n",
       "      <td>distal</td>\n",
       "      <td>26336.0</td>\n",
       "      <td>-0.114714</td>\n",
       "      <td>0.223689</td>\n",
       "      <td>0.999979</td>\n",
       "    </tr>\n",
       "    <tr>\n",
       "      <th>GL000219.1:99255-100162 , AL592183.1</th>\n",
       "      <td>GL000219.1:99255-100162</td>\n",
       "      <td>143860</td>\n",
       "      <td>AL592183.1</td>\n",
       "      <td>-15945</td>\n",
       "      <td>distal</td>\n",
       "      <td>26336.0</td>\n",
       "      <td>-0.259409</td>\n",
       "      <td>0.023385</td>\n",
       "      <td>0.999979</td>\n",
       "    </tr>\n",
       "    <tr>\n",
       "      <th>GL000219.1:132809-133702 , AL592183.1</th>\n",
       "      <td>GL000219.1:132809-133702</td>\n",
       "      <td>143862</td>\n",
       "      <td>AL592183.1</td>\n",
       "      <td>-49499</td>\n",
       "      <td>distal</td>\n",
       "      <td>26336.0</td>\n",
       "      <td>-0.114714</td>\n",
       "      <td>0.183113</td>\n",
       "      <td>0.999979</td>\n",
       "    </tr>\n",
       "    <tr>\n",
       "      <th>GL000219.1:147576-148506 , AL592183.1</th>\n",
       "      <td>GL000219.1:147576-148506</td>\n",
       "      <td>143863</td>\n",
       "      <td>AL592183.1</td>\n",
       "      <td>-64266</td>\n",
       "      <td>distal</td>\n",
       "      <td>26336.0</td>\n",
       "      <td>-0.114714</td>\n",
       "      <td>0.193257</td>\n",
       "      <td>0.999979</td>\n",
       "    </tr>\n",
       "    <tr>\n",
       "      <th>KI270721.1:2092-2983 , AC004556.3</th>\n",
       "      <td>KI270721.1:2092-2983</td>\n",
       "      <td>143867</td>\n",
       "      <td>AC004556.3</td>\n",
       "      <td>0</td>\n",
       "      <td>promoter</td>\n",
       "      <td>26338.0</td>\n",
       "      <td>-0.067476</td>\n",
       "      <td>0.311028</td>\n",
       "      <td>0.999979</td>\n",
       "    </tr>\n",
       "  </tbody>\n",
       "</table>\n",
       "<p>44230 rows × 9 columns</p>\n",
       "</div>"
      ],
      "text/plain": [
       "                                                       gene_ids  index_x  \\\n",
       "id                                                                         \n",
       "chr1:778283-779200 , LINC01409               chr1:778283-779200       11   \n",
       "chr1:827066-827949 , LINC01128               chr1:827066-827949       16   \n",
       "chr1:844161-845024 , LINC01128               chr1:844161-845024       19   \n",
       "chr1:857911-858643 , LINC01128               chr1:857911-858643       21   \n",
       "chr1:955171-956100 , NOC2L                   chr1:955171-956100       36   \n",
       "...                                                         ...      ...   \n",
       "GL000219.1:44638-45549 , AL592183.1      GL000219.1:44638-45549   143855   \n",
       "GL000219.1:99255-100162 , AL592183.1    GL000219.1:99255-100162   143860   \n",
       "GL000219.1:132809-133702 , AL592183.1  GL000219.1:132809-133702   143862   \n",
       "GL000219.1:147576-148506 , AL592183.1  GL000219.1:147576-148506   143863   \n",
       "KI270721.1:2092-2983 , AC004556.3          KI270721.1:2092-2983   143867   \n",
       "\n",
       "                                        gene_name  distance peak_type  \\\n",
       "id                                                                      \n",
       "chr1:778283-779200 , LINC01409          LINC01409         0  promoter   \n",
       "chr1:827066-827949 , LINC01128          LINC01128         0  promoter   \n",
       "chr1:844161-845024 , LINC01128          LINC01128    -15203    distal   \n",
       "chr1:857911-858643 , LINC01128          LINC01128     -1584    distal   \n",
       "chr1:955171-956100 , NOC2L                  NOC2L      3156    distal   \n",
       "...                                           ...       ...       ...   \n",
       "GL000219.1:44638-45549 , AL592183.1    AL592183.1     37762    distal   \n",
       "GL000219.1:99255-100162 , AL592183.1   AL592183.1    -15945    distal   \n",
       "GL000219.1:132809-133702 , AL592183.1  AL592183.1    -49499    distal   \n",
       "GL000219.1:147576-148506 , AL592183.1  AL592183.1    -64266    distal   \n",
       "KI270721.1:2092-2983 , AC004556.3      AC004556.3         0  promoter   \n",
       "\n",
       "                                       index_y      corr   mc_pval   mc_qval  \n",
       "id                                                                            \n",
       "chr1:778283-779200 , LINC01409             4.0 -0.240365  0.058160  0.999979  \n",
       "chr1:827066-827949 , LINC01128             6.0  0.275780  0.898466  0.999979  \n",
       "chr1:844161-845024 , LINC01128             6.0 -0.049096  0.509170  0.999979  \n",
       "chr1:857911-858643 , LINC01128             6.0 -0.049506  0.491017  0.999979  \n",
       "chr1:955171-956100 , NOC2L                12.0 -0.061435  0.443785  0.999979  \n",
       "...                                        ...       ...       ...       ...  \n",
       "GL000219.1:44638-45549 , AL592183.1    26336.0 -0.114714  0.223689  0.999979  \n",
       "GL000219.1:99255-100162 , AL592183.1   26336.0 -0.259409  0.023385  0.999979  \n",
       "GL000219.1:132809-133702 , AL592183.1  26336.0 -0.114714  0.183113  0.999979  \n",
       "GL000219.1:147576-148506 , AL592183.1  26336.0 -0.114714  0.193257  0.999979  \n",
       "KI270721.1:2092-2983 , AC004556.3      26338.0 -0.067476  0.311028  0.999979  \n",
       "\n",
       "[44230 rows x 9 columns]"
      ]
     },
     "execution_count": 10,
     "metadata": {},
     "output_type": "execute_result"
    }
   ],
   "source": [
    "# Obtain Monte Carlo p-value based on putative and control corrs\n",
    "ctar.method.get_pvals(ctar_adata)\n",
    "ctar_adata.var"
   ]
  },
  {
   "cell_type": "markdown",
   "id": "353168f6-629e-473a-baa0-0c135066e41e",
   "metadata": {},
   "source": [
    "## Cell type specific analysis"
   ]
  },
  {
   "cell_type": "code",
   "execution_count": 12,
   "id": "7c00b5ea-4df3-44de-a0b1-b8a4fe85015d",
   "metadata": {},
   "outputs": [
    {
     "data": {
      "text/plain": [
       "'CD4+ naïve T'"
      ]
     },
     "execution_count": 12,
     "metadata": {},
     "output_type": "execute_result"
    }
   ],
   "source": [
    "# Let's analyze CD4+ Naive T cells\n",
    "ctar_adata.uns['ct_labels'][0]"
   ]
  },
  {
   "cell_type": "code",
   "execution_count": 13,
   "id": "82ffbc27-68c8-42ac-8eee-5b3992a7fbba",
   "metadata": {},
   "outputs": [
    {
     "name": "stderr",
     "output_type": "stream",
     "text": [
      "/home/asprieto/cts_peak_gene/ctar/method.py:665: ImplicitModificationWarning: Trying to modify attribute `._uns` of view, initializing view as actual.\n",
      "  ct_adata.uns['original_atac'] = adata.layers['atac'][(adata.obs['celltype'] == ct),:]\n",
      "100%|██████████| 3/3 [00:00<00:00, 447.28it/s]\n",
      "100%|██████████| 3/3 [00:00<00:00, 479.84it/s]\n"
     ]
    },
    {
     "data": {
      "text/plain": [
       "array([[ 0.23777074, -0.1857129 , -0.01201359, ...,  0.34318352,\n",
       "        -0.03300482, -0.18880543],\n",
       "       [-0.34243852, -0.2996245 , -0.2098659 , ..., -0.20952232,\n",
       "        -0.47171083, -0.00985467],\n",
       "       [-0.35502446,  0.        , -0.3121056 , ..., -0.50428075,\n",
       "        -0.19550517,  0.17241183]])"
      ]
     },
     "execution_count": 13,
     "metadata": {},
     "output_type": "execute_result"
    }
   ],
   "source": [
    "# Build CT-specific and CT-excluded AnnData for CD4+ Naive T cells\n",
    "cd4nt_ctar = ctar.method.build_ct_adata(ctar_adata,0)\n",
    "cd4nt_ctar = ctar.method.get_corrs(cd4nt_ctar)\n",
    "cd4nt_other = ctar.method.build_other_adata(ctar_adata,0)\n",
    "cd4nt_other = ctar.method.get_corrs(cd4nt_other)\n",
    "\n",
    "# Find control using existing matched random peaks, but now only across CD4+ nT cells\n",
    "# Also, there are very few cells and genes at this point that fit our requirements (CT and highly expressed\n",
    "# in CT) so this will run quickly\n",
    "ctar.method.control_corr(cd4nt_other,ct=True)\n",
    "ctar.method.control_corr(cd4nt_ctar,ct=True)"
   ]
  },
  {
   "cell_type": "code",
   "execution_count": 15,
   "id": "dbb387ed-1fca-4b33-b2fd-d9b3c0ae4d3f",
   "metadata": {},
   "outputs": [
    {
     "data": {
      "text/plain": [
       "array([[ 0.3163319 ,  0.08213753, -0.22716037, ...,  0.41604015,\n",
       "         0.11178135, -0.63127795],\n",
       "       [-0.93861723, -0.47960043, -0.20346838, ..., -0.36112483,\n",
       "        -0.24382317, -0.24350478],\n",
       "       [-0.28752637, -0.15350766, -0.49064864, ..., -0.45471568,\n",
       "        -0.426753  , -0.01267682]])"
      ]
     },
     "execution_count": 15,
     "metadata": {},
     "output_type": "execute_result"
    }
   ],
   "source": [
    "# Get delta correlation\n",
    "ctar.method.get_deltas(cd4nt_ctar,cd4nt_other)\n",
    "# Get delta control correlation\n",
    "ctar.method.get_control_deltas(cd4nt_ctar,cd4nt_other)"
   ]
  },
  {
   "cell_type": "code",
   "execution_count": 18,
   "id": "2dc28a9a-a969-429c-bf80-1e210d455c15",
   "metadata": {},
   "outputs": [
    {
     "data": {
      "text/html": [
       "<div>\n",
       "<style scoped>\n",
       "    .dataframe tbody tr th:only-of-type {\n",
       "        vertical-align: middle;\n",
       "    }\n",
       "\n",
       "    .dataframe tbody tr th {\n",
       "        vertical-align: top;\n",
       "    }\n",
       "\n",
       "    .dataframe thead th {\n",
       "        text-align: right;\n",
       "    }\n",
       "</style>\n",
       "<table border=\"1\" class=\"dataframe\">\n",
       "  <thead>\n",
       "    <tr style=\"text-align: right;\">\n",
       "      <th></th>\n",
       "      <th>gene_ids</th>\n",
       "      <th>index_x</th>\n",
       "      <th>gene_name</th>\n",
       "      <th>distance</th>\n",
       "      <th>peak_type</th>\n",
       "      <th>index_y</th>\n",
       "      <th>mc_qval</th>\n",
       "      <th>corr</th>\n",
       "      <th>delta_corr</th>\n",
       "      <th>mc_pval</th>\n",
       "    </tr>\n",
       "    <tr>\n",
       "      <th>id</th>\n",
       "      <th></th>\n",
       "      <th></th>\n",
       "      <th></th>\n",
       "      <th></th>\n",
       "      <th></th>\n",
       "      <th></th>\n",
       "      <th></th>\n",
       "      <th></th>\n",
       "      <th></th>\n",
       "      <th></th>\n",
       "    </tr>\n",
       "  </thead>\n",
       "  <tbody>\n",
       "    <tr>\n",
       "      <th>chr12:92145507-92146436 , BTG1</th>\n",
       "      <td>chr12:92145507-92146436</td>\n",
       "      <td>32410</td>\n",
       "      <td>BTG1</td>\n",
       "      <td>0</td>\n",
       "      <td>promoter</td>\n",
       "      <td>16043.0</td>\n",
       "      <td>0.94002</td>\n",
       "      <td>0.330448</td>\n",
       "      <td>0.306604</td>\n",
       "      <td>0.826724</td>\n",
       "    </tr>\n",
       "    <tr>\n",
       "      <th>chr19:5680305-5681203 , RPL36</th>\n",
       "      <td>chr19:5680305-5681203</td>\n",
       "      <td>63231</td>\n",
       "      <td>RPL36</td>\n",
       "      <td>0</td>\n",
       "      <td>promoter</td>\n",
       "      <td>22404.0</td>\n",
       "      <td>0.94002</td>\n",
       "      <td>-0.129266</td>\n",
       "      <td>-0.099197</td>\n",
       "      <td>0.487171</td>\n",
       "    </tr>\n",
       "    <tr>\n",
       "      <th>chr22:40044059-40044996 , TNRC6B</th>\n",
       "      <td>chr22:40044059-40044996</td>\n",
       "      <td>87479</td>\n",
       "      <td>TNRC6B</td>\n",
       "      <td>0</td>\n",
       "      <td>promoter</td>\n",
       "      <td>25318.0</td>\n",
       "      <td>0.94002</td>\n",
       "      <td>0.369976</td>\n",
       "      <td>0.549274</td>\n",
       "      <td>0.940020</td>\n",
       "    </tr>\n",
       "  </tbody>\n",
       "</table>\n",
       "</div>"
      ],
      "text/plain": [
       "                                                 gene_ids  index_x gene_name  \\\n",
       "id                                                                             \n",
       "chr12:92145507-92146436 , BTG1    chr12:92145507-92146436    32410      BTG1   \n",
       "chr19:5680305-5681203 , RPL36       chr19:5680305-5681203    63231     RPL36   \n",
       "chr22:40044059-40044996 , TNRC6B  chr22:40044059-40044996    87479    TNRC6B   \n",
       "\n",
       "                                  distance peak_type  index_y  mc_qval  \\\n",
       "id                                                                       \n",
       "chr12:92145507-92146436 , BTG1           0  promoter  16043.0  0.94002   \n",
       "chr19:5680305-5681203 , RPL36            0  promoter  22404.0  0.94002   \n",
       "chr22:40044059-40044996 , TNRC6B         0  promoter  25318.0  0.94002   \n",
       "\n",
       "                                      corr  delta_corr   mc_pval  \n",
       "id                                                                \n",
       "chr12:92145507-92146436 , BTG1    0.330448    0.306604  0.826724  \n",
       "chr19:5680305-5681203 , RPL36    -0.129266   -0.099197  0.487171  \n",
       "chr22:40044059-40044996 , TNRC6B  0.369976    0.549274  0.940020  "
      ]
     },
     "execution_count": 18,
     "metadata": {},
     "output_type": "execute_result"
    }
   ],
   "source": [
    "# Get MC p-values\n",
    "ctar.method.get_pvals(cd4nt_ctar,metric='delta_corr',control_metric='delta_control_corr')\n",
    "cd4nt_ctar.var.head()"
   ]
  }
 ],
 "metadata": {
  "kernelspec": {
   "display_name": "py39",
   "language": "python",
   "name": "py39"
  },
  "language_info": {
   "codemirror_mode": {
    "name": "ipython",
    "version": 3
   },
   "file_extension": ".py",
   "mimetype": "text/x-python",
   "name": "python",
   "nbconvert_exporter": "python",
   "pygments_lexer": "ipython3",
   "version": "3.9.18"
  }
 },
 "nbformat": 4,
 "nbformat_minor": 5
}
