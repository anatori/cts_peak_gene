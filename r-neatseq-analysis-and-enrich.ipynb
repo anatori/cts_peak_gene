{
 "cells": [
  {
   "cell_type": "markdown",
   "id": "956e832a-84e5-4bff-b027-fcf4dc38ed2c",
   "metadata": {},
   "source": [
    "# NEATseq Analysis and Enrichment in R"
   ]
  },
  {
   "cell_type": "code",
   "execution_count": 1,
   "id": "bc4aa920-0e23-4fa6-8815-64fd6b98d713",
   "metadata": {},
   "outputs": [],
   "source": [
    "# read in the raw data from NEATseq\n",
    "library(Matrix)"
   ]
  },
  {
   "cell_type": "code",
   "execution_count": 2,
   "id": "a66c1955-c9e1-40a0-ad6e-f7cef64d425b",
   "metadata": {},
   "outputs": [],
   "source": [
    "directory <- '/projects/zhanglab/users/ana/multiome/raw/neatseq/'"
   ]
  },
  {
   "cell_type": "code",
   "execution_count": 3,
   "id": "5733bc11-d449-4fbc-8f3a-a187f053ee84",
   "metadata": {},
   "outputs": [
    {
     "data": {
      "text/html": [
       "<table class=\"dataframe\">\n",
       "<caption>A data.frame: 6 × 16</caption>\n",
       "<thead>\n",
       "\t<tr><th></th><th scope=col>Sample</th><th scope=col>TSSEnrichment</th><th scope=col>ReadsInTSS</th><th scope=col>ReadsInPromoter</th><th scope=col>ReadsInBlacklist</th><th scope=col>PromoterRatio</th><th scope=col>PassQC</th><th scope=col>NucleosomeRatio</th><th scope=col>nMultiFrags</th><th scope=col>nMonoFrags</th><th scope=col>nFrags</th><th scope=col>nDiFrags</th><th scope=col>BlacklistRatio</th><th scope=col>Clusters</th><th scope=col>ReadsInPeaks</th><th scope=col>FRIP</th></tr>\n",
       "\t<tr><th></th><th scope=col>&lt;chr&gt;</th><th scope=col>&lt;dbl&gt;</th><th scope=col>&lt;int&gt;</th><th scope=col>&lt;int&gt;</th><th scope=col>&lt;int&gt;</th><th scope=col>&lt;dbl&gt;</th><th scope=col>&lt;int&gt;</th><th scope=col>&lt;dbl&gt;</th><th scope=col>&lt;int&gt;</th><th scope=col>&lt;int&gt;</th><th scope=col>&lt;int&gt;</th><th scope=col>&lt;int&gt;</th><th scope=col>&lt;dbl&gt;</th><th scope=col>&lt;chr&gt;</th><th scope=col>&lt;int&gt;</th><th scope=col>&lt;dbl&gt;</th></tr>\n",
       "</thead>\n",
       "<tbody>\n",
       "\t<tr><th scope=row>lane1#AAACAGCCAACTGGCT-1</th><td>lane1</td><td>24.227</td><td>1615</td><td>1568</td><td>26</td><td>0.4045408</td><td>1</td><td>0.3823110</td><td>18</td><td>1402</td><td>1938</td><td> 518</td><td>0.006707946</td><td>C2</td><td>2662</td><td>0.6867905</td></tr>\n",
       "\t<tr><th scope=row>lane1#AAACATGCACAATTAC-1</th><td>lane1</td><td>16.511</td><td>2368</td><td>2160</td><td>44</td><td>0.3408015</td><td>1</td><td>0.4516720</td><td>20</td><td>2183</td><td>3169</td><td> 966</td><td>0.006942253</td><td>C2</td><td>4293</td><td>0.6775568</td></tr>\n",
       "\t<tr><th scope=row>lane1#AAACATGCAGCACGTT-1</th><td>lane1</td><td>18.530</td><td>1151</td><td>1110</td><td>14</td><td>0.3675497</td><td>1</td><td>0.3006029</td><td> 4</td><td>1161</td><td>1510</td><td> 345</td><td>0.004635762</td><td>C3</td><td>2216</td><td>0.7337748</td></tr>\n",
       "\t<tr><th scope=row>lane1#AAACATGCATATTGAC-1</th><td>lane1</td><td>22.239</td><td>1752</td><td>1597</td><td>34</td><td>0.3659487</td><td>1</td><td>0.3740554</td><td>12</td><td>1588</td><td>2182</td><td> 582</td><td>0.007791017</td><td>C6</td><td>3195</td><td>0.7321265</td></tr>\n",
       "\t<tr><th scope=row>lane1#AAACCAACAATAGCAA-1</th><td>lane1</td><td>19.625</td><td>1883</td><td>1630</td><td>32</td><td>0.3364988</td><td>1</td><td>0.4687690</td><td>17</td><td>1649</td><td>2422</td><td> 756</td><td>0.006606111</td><td>C4</td><td>3202</td><td>0.6610239</td></tr>\n",
       "\t<tr><th scope=row>lane1#AAACCAACAGGCTTCG-1</th><td>lane1</td><td>19.880</td><td>3564</td><td>3337</td><td>40</td><td>0.3834751</td><td>1</td><td>0.3273337</td><td>20</td><td>3278</td><td>4351</td><td>1053</td><td>0.004596644</td><td>C1</td><td>6327</td><td>0.7270742</td></tr>\n",
       "</tbody>\n",
       "</table>\n"
      ],
      "text/latex": [
       "A data.frame: 6 × 16\n",
       "\\begin{tabular}{r|llllllllllllllll}\n",
       "  & Sample & TSSEnrichment & ReadsInTSS & ReadsInPromoter & ReadsInBlacklist & PromoterRatio & PassQC & NucleosomeRatio & nMultiFrags & nMonoFrags & nFrags & nDiFrags & BlacklistRatio & Clusters & ReadsInPeaks & FRIP\\\\\n",
       "  & <chr> & <dbl> & <int> & <int> & <int> & <dbl> & <int> & <dbl> & <int> & <int> & <int> & <int> & <dbl> & <chr> & <int> & <dbl>\\\\\n",
       "\\hline\n",
       "\tlane1\\#AAACAGCCAACTGGCT-1 & lane1 & 24.227 & 1615 & 1568 & 26 & 0.4045408 & 1 & 0.3823110 & 18 & 1402 & 1938 &  518 & 0.006707946 & C2 & 2662 & 0.6867905\\\\\n",
       "\tlane1\\#AAACATGCACAATTAC-1 & lane1 & 16.511 & 2368 & 2160 & 44 & 0.3408015 & 1 & 0.4516720 & 20 & 2183 & 3169 &  966 & 0.006942253 & C2 & 4293 & 0.6775568\\\\\n",
       "\tlane1\\#AAACATGCAGCACGTT-1 & lane1 & 18.530 & 1151 & 1110 & 14 & 0.3675497 & 1 & 0.3006029 &  4 & 1161 & 1510 &  345 & 0.004635762 & C3 & 2216 & 0.7337748\\\\\n",
       "\tlane1\\#AAACATGCATATTGAC-1 & lane1 & 22.239 & 1752 & 1597 & 34 & 0.3659487 & 1 & 0.3740554 & 12 & 1588 & 2182 &  582 & 0.007791017 & C6 & 3195 & 0.7321265\\\\\n",
       "\tlane1\\#AAACCAACAATAGCAA-1 & lane1 & 19.625 & 1883 & 1630 & 32 & 0.3364988 & 1 & 0.4687690 & 17 & 1649 & 2422 &  756 & 0.006606111 & C4 & 3202 & 0.6610239\\\\\n",
       "\tlane1\\#AAACCAACAGGCTTCG-1 & lane1 & 19.880 & 3564 & 3337 & 40 & 0.3834751 & 1 & 0.3273337 & 20 & 3278 & 4351 & 1053 & 0.004596644 & C1 & 6327 & 0.7270742\\\\\n",
       "\\end{tabular}\n"
      ],
      "text/markdown": [
       "\n",
       "A data.frame: 6 × 16\n",
       "\n",
       "| <!--/--> | Sample &lt;chr&gt; | TSSEnrichment &lt;dbl&gt; | ReadsInTSS &lt;int&gt; | ReadsInPromoter &lt;int&gt; | ReadsInBlacklist &lt;int&gt; | PromoterRatio &lt;dbl&gt; | PassQC &lt;int&gt; | NucleosomeRatio &lt;dbl&gt; | nMultiFrags &lt;int&gt; | nMonoFrags &lt;int&gt; | nFrags &lt;int&gt; | nDiFrags &lt;int&gt; | BlacklistRatio &lt;dbl&gt; | Clusters &lt;chr&gt; | ReadsInPeaks &lt;int&gt; | FRIP &lt;dbl&gt; |\n",
       "|---|---|---|---|---|---|---|---|---|---|---|---|---|---|---|---|---|\n",
       "| lane1#AAACAGCCAACTGGCT-1 | lane1 | 24.227 | 1615 | 1568 | 26 | 0.4045408 | 1 | 0.3823110 | 18 | 1402 | 1938 |  518 | 0.006707946 | C2 | 2662 | 0.6867905 |\n",
       "| lane1#AAACATGCACAATTAC-1 | lane1 | 16.511 | 2368 | 2160 | 44 | 0.3408015 | 1 | 0.4516720 | 20 | 2183 | 3169 |  966 | 0.006942253 | C2 | 4293 | 0.6775568 |\n",
       "| lane1#AAACATGCAGCACGTT-1 | lane1 | 18.530 | 1151 | 1110 | 14 | 0.3675497 | 1 | 0.3006029 |  4 | 1161 | 1510 |  345 | 0.004635762 | C3 | 2216 | 0.7337748 |\n",
       "| lane1#AAACATGCATATTGAC-1 | lane1 | 22.239 | 1752 | 1597 | 34 | 0.3659487 | 1 | 0.3740554 | 12 | 1588 | 2182 |  582 | 0.007791017 | C6 | 3195 | 0.7321265 |\n",
       "| lane1#AAACCAACAATAGCAA-1 | lane1 | 19.625 | 1883 | 1630 | 32 | 0.3364988 | 1 | 0.4687690 | 17 | 1649 | 2422 |  756 | 0.006606111 | C4 | 3202 | 0.6610239 |\n",
       "| lane1#AAACCAACAGGCTTCG-1 | lane1 | 19.880 | 3564 | 3337 | 40 | 0.3834751 | 1 | 0.3273337 | 20 | 3278 | 4351 | 1053 | 0.004596644 | C1 | 6327 | 0.7270742 |\n",
       "\n"
      ],
      "text/plain": [
       "                         Sample TSSEnrichment ReadsInTSS ReadsInPromoter\n",
       "lane1#AAACAGCCAACTGGCT-1 lane1  24.227        1615       1568           \n",
       "lane1#AAACATGCACAATTAC-1 lane1  16.511        2368       2160           \n",
       "lane1#AAACATGCAGCACGTT-1 lane1  18.530        1151       1110           \n",
       "lane1#AAACATGCATATTGAC-1 lane1  22.239        1752       1597           \n",
       "lane1#AAACCAACAATAGCAA-1 lane1  19.625        1883       1630           \n",
       "lane1#AAACCAACAGGCTTCG-1 lane1  19.880        3564       3337           \n",
       "                         ReadsInBlacklist PromoterRatio PassQC NucleosomeRatio\n",
       "lane1#AAACAGCCAACTGGCT-1 26               0.4045408     1      0.3823110      \n",
       "lane1#AAACATGCACAATTAC-1 44               0.3408015     1      0.4516720      \n",
       "lane1#AAACATGCAGCACGTT-1 14               0.3675497     1      0.3006029      \n",
       "lane1#AAACATGCATATTGAC-1 34               0.3659487     1      0.3740554      \n",
       "lane1#AAACCAACAATAGCAA-1 32               0.3364988     1      0.4687690      \n",
       "lane1#AAACCAACAGGCTTCG-1 40               0.3834751     1      0.3273337      \n",
       "                         nMultiFrags nMonoFrags nFrags nDiFrags BlacklistRatio\n",
       "lane1#AAACAGCCAACTGGCT-1 18          1402       1938    518     0.006707946   \n",
       "lane1#AAACATGCACAATTAC-1 20          2183       3169    966     0.006942253   \n",
       "lane1#AAACATGCAGCACGTT-1  4          1161       1510    345     0.004635762   \n",
       "lane1#AAACATGCATATTGAC-1 12          1588       2182    582     0.007791017   \n",
       "lane1#AAACCAACAATAGCAA-1 17          1649       2422    756     0.006606111   \n",
       "lane1#AAACCAACAGGCTTCG-1 20          3278       4351   1053     0.004596644   \n",
       "                         Clusters ReadsInPeaks FRIP     \n",
       "lane1#AAACAGCCAACTGGCT-1 C2       2662         0.6867905\n",
       "lane1#AAACATGCACAATTAC-1 C2       4293         0.6775568\n",
       "lane1#AAACATGCAGCACGTT-1 C3       2216         0.7337748\n",
       "lane1#AAACATGCATATTGAC-1 C6       3195         0.7321265\n",
       "lane1#AAACCAACAATAGCAA-1 C4       3202         0.6610239\n",
       "lane1#AAACCAACAGGCTTCG-1 C1       6327         0.7270742"
      ]
     },
     "metadata": {},
     "output_type": "display_data"
    }
   ],
   "source": [
    "cells <- read.csv(file = paste(directory,'cd4t/GSM5396332_CD4cells.csv',sep=''),\n",
    "                    header=T,sep=',')\n",
    "head(cells)"
   ]
  },
  {
   "cell_type": "code",
   "execution_count": 4,
   "id": "991601a9-7697-488b-b414-7a194e1648d8",
   "metadata": {},
   "outputs": [
    {
     "data": {
      "text/html": [
       "TRUE"
      ],
      "text/latex": [
       "TRUE"
      ],
      "text/markdown": [
       "TRUE"
      ],
      "text/plain": [
       "[1] TRUE"
      ]
     },
     "metadata": {},
     "output_type": "display_data"
    }
   ],
   "source": [
    "all(cells$PassQC == TRUE) # they all pass QC"
   ]
  },
  {
   "cell_type": "code",
   "execution_count": 5,
   "id": "813cf6c9-40c8-471b-b9db-e2764ab217bc",
   "metadata": {},
   "outputs": [],
   "source": [
    "rna <- readRDS(file = paste(directory,'cd4t/GSM5396333_CD4_RNA_counts.rds',sep=''))"
   ]
  },
  {
   "cell_type": "code",
   "execution_count": 6,
   "id": "35f2a9bf-45f1-4c86-8203-0d757b2ddfb0",
   "metadata": {
    "scrolled": true
   },
   "outputs": [],
   "source": [
    "atac <- readRDS(file = paste(directory,'cd4t/GSM5396336_CD4_Peak_matrix.rds',sep=''))"
   ]
  },
  {
   "cell_type": "code",
   "execution_count": 7,
   "id": "00f5fff6-d56c-4bb1-a153-26dfde63f042",
   "metadata": {},
   "outputs": [],
   "source": [
    "atac <- t(atac)"
   ]
  },
  {
   "cell_type": "markdown",
   "id": "abfd9a74-34e3-4dab-aa13-921303890b7a",
   "metadata": {},
   "source": [
    "# Signac analysis"
   ]
  },
  {
   "cell_type": "code",
   "execution_count": 1,
   "id": "dd1f6935-a7b4-4400-8382-8bc996da0679",
   "metadata": {
    "scrolled": true
   },
   "outputs": [
    {
     "name": "stderr",
     "output_type": "stream",
     "text": [
      "Loading required package: BiocGenerics\n",
      "\n",
      "\n",
      "Attaching package: ‘BiocGenerics’\n",
      "\n",
      "\n",
      "The following objects are masked from ‘package:stats’:\n",
      "\n",
      "    IQR, mad, sd, var, xtabs\n",
      "\n",
      "\n",
      "The following objects are masked from ‘package:base’:\n",
      "\n",
      "    anyDuplicated, aperm, append, as.data.frame, basename, cbind,\n",
      "    colnames, dirname, do.call, duplicated, eval, evalq, Filter, Find,\n",
      "    get, grep, grepl, intersect, is.unsorted, lapply, Map, mapply,\n",
      "    match, mget, order, paste, pmax, pmax.int, pmin, pmin.int,\n",
      "    Position, rank, rbind, Reduce, rownames, sapply, setdiff, sort,\n",
      "    table, tapply, union, unique, unsplit, which.max, which.min\n",
      "\n",
      "\n",
      "Loading required package: S4Vectors\n",
      "\n",
      "Loading required package: stats4\n",
      "\n",
      "\n",
      "Attaching package: ‘S4Vectors’\n",
      "\n",
      "\n",
      "The following object is masked from ‘package:utils’:\n",
      "\n",
      "    findMatches\n",
      "\n",
      "\n",
      "The following objects are masked from ‘package:base’:\n",
      "\n",
      "    expand.grid, I, unname\n",
      "\n",
      "\n",
      "Loading required package: IRanges\n",
      "\n",
      "Loading required package: SeuratObject\n",
      "\n",
      "Loading required package: sp\n",
      "\n",
      "\n",
      "Attaching package: ‘sp’\n",
      "\n",
      "\n",
      "The following object is masked from ‘package:IRanges’:\n",
      "\n",
      "    %over%\n",
      "\n",
      "\n",
      "‘SeuratObject’ was built under R 4.3.2 but the current version is\n",
      "4.3.3; it is recomended that you reinstall ‘SeuratObject’ as the ABI\n",
      "for R may have changed\n",
      "\n",
      "‘SeuratObject’ was built with package ‘Matrix’ 1.6.3 but the current\n",
      "version is 1.6.5; it is recomended that you reinstall ‘SeuratObject’ as\n",
      "the ABI for ‘Matrix’ may have changed\n",
      "\n",
      "\n",
      "Attaching package: ‘SeuratObject’\n",
      "\n",
      "\n",
      "The following object is masked from ‘package:GenomeInfoDb’:\n",
      "\n",
      "    intersect\n",
      "\n",
      "\n",
      "The following object is masked from ‘package:IRanges’:\n",
      "\n",
      "    intersect\n",
      "\n",
      "\n",
      "The following object is masked from ‘package:S4Vectors’:\n",
      "\n",
      "    intersect\n",
      "\n",
      "\n",
      "The following object is masked from ‘package:BiocGenerics’:\n",
      "\n",
      "    intersect\n",
      "\n",
      "\n",
      "The following object is masked from ‘package:base’:\n",
      "\n",
      "    intersect\n",
      "\n",
      "\n",
      "Loading required package: ensembldb\n",
      "\n",
      "Loading required package: GenomicRanges\n",
      "\n",
      "Loading required package: GenomicFeatures\n",
      "\n",
      "Loading required package: AnnotationDbi\n",
      "\n",
      "Loading required package: Biobase\n",
      "\n",
      "Welcome to Bioconductor\n",
      "\n",
      "    Vignettes contain introductory material; view with\n",
      "    'browseVignettes()'. To cite Bioconductor, see\n",
      "    'citation(\"Biobase\")', and for packages 'citation(\"pkgname\")'.\n",
      "\n",
      "\n",
      "Loading required package: AnnotationFilter\n",
      "\n",
      "\n",
      "Attaching package: 'ensembldb'\n",
      "\n",
      "\n",
      "The following object is masked from 'package:stats':\n",
      "\n",
      "    filter\n",
      "\n",
      "\n",
      "Loading required package: BSgenome\n",
      "\n",
      "Loading required package: Biostrings\n",
      "\n",
      "Loading required package: XVector\n",
      "\n",
      "\n",
      "Attaching package: 'Biostrings'\n",
      "\n",
      "\n",
      "The following object is masked from 'package:base':\n",
      "\n",
      "    strsplit\n",
      "\n",
      "\n",
      "Loading required package: BiocIO\n",
      "\n",
      "Loading required package: rtracklayer\n",
      "\n",
      "\n",
      "Attaching package: 'rtracklayer'\n",
      "\n",
      "\n",
      "The following object is masked from 'package:BiocIO':\n",
      "\n",
      "    FileForFormat\n",
      "\n",
      "\n"
     ]
    }
   ],
   "source": [
    "library(GenomeInfoDb)\n",
    "library(Seurat)\n",
    "library(EnsDb.Hsapiens.v86)\n",
    "library(BSgenome.Hsapiens.UCSC.hg38)\n",
    "library(GenomicRanges)\n",
    "library(Signac)"
   ]
  },
  {
   "cell_type": "code",
   "execution_count": 40,
   "id": "2d050b8f-165f-4192-8eb4-b72666fad4fe",
   "metadata": {
    "collapsed": true,
    "jupyter": {
     "outputs_hidden": true
    },
    "scrolled": true
   },
   "outputs": [
    {
     "name": "stderr",
     "output_type": "stream",
     "text": [
      "Warning message in .merge_two_Seqinfo_objects(x, y):\n",
      "\"The 2 combined objects have no sequence levels in common. (Use\n",
      "  suppressWarnings() to suppress this warning.)\"\n",
      "Warning message in .merge_two_Seqinfo_objects(x, y):\n",
      "\"The 2 combined objects have no sequence levels in common. (Use\n",
      "  suppressWarnings() to suppress this warning.)\"\n",
      "Warning message in .merge_two_Seqinfo_objects(x, y):\n",
      "\"The 2 combined objects have no sequence levels in common. (Use\n",
      "  suppressWarnings() to suppress this warning.)\"\n",
      "Warning message in .merge_two_Seqinfo_objects(x, y):\n",
      "\"The 2 combined objects have no sequence levels in common. (Use\n",
      "  suppressWarnings() to suppress this warning.)\"\n",
      "Warning message in .merge_two_Seqinfo_objects(x, y):\n",
      "\"The 2 combined objects have no sequence levels in common. (Use\n",
      "  suppressWarnings() to suppress this warning.)\"\n",
      "Warning message in .merge_two_Seqinfo_objects(x, y):\n",
      "\"The 2 combined objects have no sequence levels in common. (Use\n",
      "  suppressWarnings() to suppress this warning.)\"\n",
      "Warning message in .merge_two_Seqinfo_objects(x, y):\n",
      "\"The 2 combined objects have no sequence levels in common. (Use\n",
      "  suppressWarnings() to suppress this warning.)\"\n",
      "Warning message in .merge_two_Seqinfo_objects(x, y):\n",
      "\"The 2 combined objects have no sequence levels in common. (Use\n",
      "  suppressWarnings() to suppress this warning.)\"\n",
      "Warning message in .merge_two_Seqinfo_objects(x, y):\n",
      "\"The 2 combined objects have no sequence levels in common. (Use\n",
      "  suppressWarnings() to suppress this warning.)\"\n",
      "Warning message in .merge_two_Seqinfo_objects(x, y):\n",
      "\"The 2 combined objects have no sequence levels in common. (Use\n",
      "  suppressWarnings() to suppress this warning.)\"\n",
      "Warning message in .merge_two_Seqinfo_objects(x, y):\n",
      "\"The 2 combined objects have no sequence levels in common. (Use\n",
      "  suppressWarnings() to suppress this warning.)\"\n",
      "Warning message in .merge_two_Seqinfo_objects(x, y):\n",
      "\"The 2 combined objects have no sequence levels in common. (Use\n",
      "  suppressWarnings() to suppress this warning.)\"\n",
      "Warning message in .merge_two_Seqinfo_objects(x, y):\n",
      "\"The 2 combined objects have no sequence levels in common. (Use\n",
      "  suppressWarnings() to suppress this warning.)\"\n",
      "Warning message in .merge_two_Seqinfo_objects(x, y):\n",
      "\"The 2 combined objects have no sequence levels in common. (Use\n",
      "  suppressWarnings() to suppress this warning.)\"\n",
      "Warning message in .merge_two_Seqinfo_objects(x, y):\n",
      "\"The 2 combined objects have no sequence levels in common. (Use\n",
      "  suppressWarnings() to suppress this warning.)\"\n",
      "Warning message in .merge_two_Seqinfo_objects(x, y):\n",
      "\"The 2 combined objects have no sequence levels in common. (Use\n",
      "  suppressWarnings() to suppress this warning.)\"\n",
      "Warning message in .merge_two_Seqinfo_objects(x, y):\n",
      "\"The 2 combined objects have no sequence levels in common. (Use\n",
      "  suppressWarnings() to suppress this warning.)\"\n",
      "Warning message in .merge_two_Seqinfo_objects(x, y):\n",
      "\"The 2 combined objects have no sequence levels in common. (Use\n",
      "  suppressWarnings() to suppress this warning.)\"\n",
      "Warning message in .merge_two_Seqinfo_objects(x, y):\n",
      "\"The 2 combined objects have no sequence levels in common. (Use\n",
      "  suppressWarnings() to suppress this warning.)\"\n",
      "Warning message in .merge_two_Seqinfo_objects(x, y):\n",
      "\"The 2 combined objects have no sequence levels in common. (Use\n",
      "  suppressWarnings() to suppress this warning.)\"\n",
      "Warning message in .merge_two_Seqinfo_objects(x, y):\n",
      "\"The 2 combined objects have no sequence levels in common. (Use\n",
      "  suppressWarnings() to suppress this warning.)\"\n",
      "Warning message in .merge_two_Seqinfo_objects(x, y):\n",
      "\"The 2 combined objects have no sequence levels in common. (Use\n",
      "  suppressWarnings() to suppress this warning.)\"\n",
      "Warning message in .merge_two_Seqinfo_objects(x, y):\n",
      "\"The 2 combined objects have no sequence levels in common. (Use\n",
      "  suppressWarnings() to suppress this warning.)\"\n",
      "Warning message in .merge_two_Seqinfo_objects(x, y):\n",
      "\"The 2 combined objects have no sequence levels in common. (Use\n",
      "  suppressWarnings() to suppress this warning.)\"\n"
     ]
    }
   ],
   "source": [
    "# get gene annotations for hg38\n",
    "annotation <- GetGRangesFromEnsDb(ensdb = EnsDb.Hsapiens.v86)\n",
    "seqlevels(annotation) <- paste0('chr', seqlevels(annotation))"
   ]
  },
  {
   "cell_type": "code",
   "execution_count": 58,
   "id": "5f4e897d-01b2-4084-a498-546136d7df01",
   "metadata": {},
   "outputs": [],
   "source": [
    "# create a Seurat object containing the RNA adata\n",
    "neat <- CreateSeuratObject(\n",
    "  counts = rna,\n",
    "  assay = \"RNA\"\n",
    ")"
   ]
  },
  {
   "cell_type": "code",
   "execution_count": 61,
   "id": "38c3866b-5e29-473f-9584-3434a2a01163",
   "metadata": {},
   "outputs": [
    {
     "name": "stderr",
     "output_type": "stream",
     "text": [
      "Normalizing layer: counts\n",
      "\n"
     ]
    }
   ],
   "source": [
    "# normalizedata\n",
    "DefaultAssay(neat) <- \"RNA\"\n",
    "neat <- NormalizeData(neat)"
   ]
  },
  {
   "cell_type": "markdown",
   "id": "e7f3be2e-5df5-49bc-a0fa-3eec37bcfd9e",
   "metadata": {},
   "source": [
    "Ran the following in terminal to generate tbi files.\n",
    "```\n",
    "gzip -d <fragment.tsv.gz>\n",
    "bgzip <fragment.tsv>\n",
    "tabix -p bed <fragment.tsv.gz>\n",
    "```"
   ]
  },
  {
   "cell_type": "code",
   "execution_count": 63,
   "id": "42cbf8ae-a428-444b-a2b2-95c172b77bab",
   "metadata": {},
   "outputs": [
    {
     "name": "stderr",
     "output_type": "stream",
     "text": [
      "Computing hash\n",
      "\n",
      "Computing hash\n",
      "\n"
     ]
    }
   ],
   "source": [
    "# create fragment objects for chromatin assay\n",
    "lane1_frags <- CreateFragmentObject(path = paste(directory,'GSM5396332_lane1_atac_fragments.tsv.gz',sep=''))\n",
    "lane2_frags <- CreateFragmentObject(path = paste(directory,'GSM5396336_lane2_atac_fragments.tsv.gz',sep=''))"
   ]
  },
  {
   "cell_type": "code",
   "execution_count": 64,
   "id": "a9ab5800-359e-46b1-99c6-6df3ac9aed12",
   "metadata": {},
   "outputs": [],
   "source": [
    "# create ATAC assay and add it to the object\n",
    "neat[['ATAC']] <- CreateChromatinAssay(\n",
    "  counts = atac,\n",
    "  sep = c(\":\", \"-\"),\n",
    "  fragments = list(lane1_frags,lane2_frags),\n",
    "  annotation = annotation\n",
    ")"
   ]
  },
  {
   "cell_type": "code",
   "execution_count": 65,
   "id": "0d7b24ac-2c53-4e7f-a3c8-44b6fc0617ce",
   "metadata": {},
   "outputs": [],
   "source": [
    "DefaultAssay(neat) <- \"ATAC\"\n",
    "# first compute the GC content for each peak\n",
    "neat <- RegionStats(neat, genome = BSgenome.Hsapiens.UCSC.hg38)"
   ]
  },
  {
   "cell_type": "code",
   "execution_count": null,
   "id": "0f61bcde-023d-47a5-910d-ed6d1ac97be1",
   "metadata": {},
   "outputs": [
    {
     "name": "stderr",
     "output_type": "stream",
     "text": [
      "Testing 16329 genes and 80566 peaks\n",
      "\n",
      "Found gene coordinates for 14141 genes\n",
      "\n"
     ]
    }
   ],
   "source": [
    "start.time <- Sys.time()\n",
    "# link peaks to genes\n",
    "neat <- LinkPeaks(\n",
    "  object = neat,\n",
    "  peak.assay = \"ATAC\",\n",
    "  expression.assay = \"RNA\",\n",
    "  gene.id = TRUE, # since this dataset uses ensemblIDs\n",
    "  pvalue_cutoff = 1, # max pvalue\n",
    "  score_cutoff = 0 # min pearson corr\n",
    ")\n",
    "# takes about 8hrs"
   ]
  },
  {
   "cell_type": "code",
   "execution_count": null,
   "id": "168ca083-f45d-45bf-a29b-d8623f476e38",
   "metadata": {},
   "outputs": [],
   "source": [
    "l = neat(Links)\n",
    "write.csv(l, file = \"signac_neatseq_links.csv\")"
   ]
  },
  {
   "cell_type": "markdown",
   "id": "4d76f2b6-26d2-4262-9cd3-0033670c1240",
   "metadata": {},
   "source": [
    "# SCENT analysis"
   ]
  },
  {
   "cell_type": "code",
   "execution_count": 154,
   "id": "2a7df7ff-1047-4158-84ca-0836132058c3",
   "metadata": {},
   "outputs": [],
   "source": [
    "library(SCENT)"
   ]
  },
  {
   "cell_type": "code",
   "execution_count": 10,
   "id": "2610afc3-dc1c-4f7c-9c4c-a2759572a40f",
   "metadata": {
    "scrolled": true
   },
   "outputs": [
    {
     "name": "stderr",
     "output_type": "stream",
     "text": [
      "Loading required package: SeuratObject\n",
      "\n",
      "Loading required package: sp\n",
      "\n",
      "‘SeuratObject’ was built under R 4.3.2 but the current version is\n",
      "4.3.3; it is recomended that you reinstall ‘SeuratObject’ as the ABI\n",
      "for R may have changed\n",
      "\n",
      "‘SeuratObject’ was built with package ‘Matrix’ 1.6.3 but the current\n",
      "version is 1.6.5; it is recomended that you reinstall ‘SeuratObject’ as\n",
      "the ABI for ‘Matrix’ may have changed\n",
      "\n",
      "\n",
      "Attaching package: ‘SeuratObject’\n",
      "\n",
      "\n",
      "The following object is masked from ‘package:base’:\n",
      "\n",
      "    intersect\n",
      "\n",
      "\n"
     ]
    }
   ],
   "source": [
    "library(Seurat)"
   ]
  },
  {
   "cell_type": "markdown",
   "id": "78a6d4fb-a8de-4af1-8a2d-3768d8a93639",
   "metadata": {},
   "source": [
    "Adding Metadata for covariates."
   ]
  },
  {
   "cell_type": "code",
   "execution_count": 159,
   "id": "e90dd5f0-b26c-4635-a5e2-8ba844277dd4",
   "metadata": {
    "scrolled": true
   },
   "outputs": [],
   "source": [
    "# adding mitochondrial genes\n",
    "rna_copy <- rna\n",
    "# List of mitochondrial genes\n",
    "mito_genes <- c('ENSG00000198888', 'ENSG00000198763', 'ENSG00000198804',\n",
    "                'ENSG00000198712', 'ENSG00000228253', 'ENSG00000198899',\n",
    "                'ENSG00000198938', 'ENSG00000198840', 'ENSG00000212907',\n",
    "                'ENSG00000198886', 'ENSG00000198786', 'ENSG00000198695',\n",
    "                'ENSG00000198727')\n",
    "\n",
    "# Add 'MT-' prefix to mitochondrial genes\n",
    "new_row_names <- rownames(rna_copy)\n",
    "new_row_names[rownames(rna_copy) %in% mito_genes] <- paste0('MT-', mito_genes)\n",
    "\n",
    "# Update row names in the dcgMatrix for the genes in mito_genes\n",
    "rownames(rna_copy) <- new_row_names"
   ]
  },
  {
   "cell_type": "code",
   "execution_count": 160,
   "id": "24b32d1e-93ad-4a07-8759-2d983a7bb859",
   "metadata": {},
   "outputs": [],
   "source": [
    "mito_rna <- CreateSeuratObject(rna_copy)"
   ]
  },
  {
   "cell_type": "code",
   "execution_count": 162,
   "id": "343d16e5-f9b4-4275-a936-6548d91149a4",
   "metadata": {},
   "outputs": [],
   "source": [
    "mito_rna[[\"percent.mt\"]] <- PercentageFeatureSet(object = mito_rna, pattern = \"^MT-\")"
   ]
  },
  {
   "cell_type": "code",
   "execution_count": 163,
   "id": "5b4e60ef-31fd-4c31-8ff1-479ae81a2a49",
   "metadata": {},
   "outputs": [],
   "source": [
    "mito_data <- mito_rna@meta.data$percent.mt"
   ]
  },
  {
   "cell_type": "code",
   "execution_count": 9,
   "id": "79c57041-3ad5-4ee6-a49c-1439e0193ce8",
   "metadata": {},
   "outputs": [],
   "source": [
    "# first we need to get the meta.data"
   ]
  },
  {
   "cell_type": "code",
   "execution_count": 164,
   "id": "4d73af30-e5bf-4286-85fc-43d32f9c1ff4",
   "metadata": {},
   "outputs": [],
   "source": [
    "cells$log_nFrags <- log(cells$nFrags)"
   ]
  },
  {
   "cell_type": "code",
   "execution_count": 165,
   "id": "78ae8c81-7dcb-4f04-aaae-3c74ca1fdd60",
   "metadata": {},
   "outputs": [],
   "source": [
    "cells$celltype <- 'CD4'"
   ]
  },
  {
   "cell_type": "code",
   "execution_count": 166,
   "id": "70d14148-9ee3-42e5-8dfd-c11c314fc278",
   "metadata": {},
   "outputs": [],
   "source": [
    "cells <- cbind(cell = rownames(cells), cells)\n",
    "rownames(cells) <- 1:nrow(cells)"
   ]
  },
  {
   "cell_type": "code",
   "execution_count": 167,
   "id": "eecdfdcb-e648-4a60-b528-499cebc56e02",
   "metadata": {},
   "outputs": [],
   "source": [
    "cells$mito <- mito_data"
   ]
  },
  {
   "cell_type": "code",
   "execution_count": 236,
   "id": "bfca772b-7dab-42cd-b34c-7a49ae329904",
   "metadata": {},
   "outputs": [],
   "source": [
    "SCENT_obj <- CreateSCENTObj(rna = rna, atac = atac, meta.data = cells[c('cell','celltype','Sample','log_nFrags','mito')],\n",
    "                            covariates = c('Sample','log_nFrags','mito'), \n",
    "                            celltypes = 'CD4')"
   ]
  },
  {
   "cell_type": "code",
   "execution_count": 190,
   "id": "5e6fdc02-6e9e-4862-8ec3-0f3f7f22f4be",
   "metadata": {},
   "outputs": [],
   "source": [
    "# create peak-gene links using windowed +/-500kb around genes\n",
    "directory <- '/projects/zhanglab/users/ana/bedtools2/ana_bedfiles/neatseq_beds/scent_hg38/scentpaper_genes_windowed.bed'"
   ]
  },
  {
   "cell_type": "code",
   "execution_count": 237,
   "id": "0d04dba6-9902-4a9c-bbec-0dea29dad1e1",
   "metadata": {},
   "outputs": [],
   "source": [
    "SCENT_obj <- SCENT::CreatePeakToGeneList(SCENT_obj, genebed = directory,nbatch = 1000,tmpfile=\"~/temporary_atac_peak.bed\",intersectedfile=\"~/temporary_atac_peak_intersected.bed.gz\")\n",
    "# scent's approach for adding peak gene links. must generate gene windows bed yourself."
   ]
  },
  {
   "cell_type": "code",
   "execution_count": 228,
   "id": "61b0d930-5e3d-48e4-8faa-9e0f99be5987",
   "metadata": {},
   "outputs": [
    {
     "name": "stdout",
     "output_type": "stream",
     "text": [
      "Formal class 'SCENT' [package \"SCENT\"] with 8 slots\n",
      "  ..@ rna           :Formal class 'dgCMatrix' [package \"Matrix\"] with 6 slots\n",
      "  ..@ atac          :Formal class 'dgCMatrix' [package \"Matrix\"] with 6 slots\n",
      "  ..@ meta.data     :'data.frame':\t8472 obs. of  4 variables:\n",
      "  ..@ peak.info     :'data.frame':\t0 obs. of  0 variables\n",
      "Formal class 'data.frame' [package \"methods\"] with 4 slots\n",
      "  ..@ peak.info.list:List of 10\n",
      "  ..@ covariates    : chr [1:3] \"Sample\" \"log_nFrags\" \"mito\"\n",
      "  ..@ celltypes     : chr \"CD4\"\n",
      "  ..@ SCENT.result  :'data.frame':\t0 obs. of  0 variables\n",
      "Formal class 'data.frame' [package \"methods\"] with 4 slots\n"
     ]
    }
   ],
   "source": [
    "str(SCENT_obj, max.level = 2)"
   ]
  },
  {
   "cell_type": "code",
   "execution_count": 250,
   "id": "5f386470-09e4-40eb-8d19-6699c5294ffd",
   "metadata": {},
   "outputs": [],
   "source": [
    "saveRDS(SCENT_obj, file = 'SCENT_neatseq.rds')"
   ]
  },
  {
   "cell_type": "markdown",
   "id": "197aba27-608a-4d1c-9a06-e213b75381a5",
   "metadata": {},
   "source": [
    "Run `parallelizedSCENT.sh` on this object in `/projects/zhanglab/users/ana/multiome/results/scent` for faster results. For batch size ~1000, takes about ~3days."
   ]
  },
  {
   "cell_type": "code",
   "execution_count": null,
   "id": "994ca54e-b5e0-4798-9498-c5b36ff4e578",
   "metadata": {},
   "outputs": [],
   "source": []
  }
 ],
 "metadata": {
  "kernelspec": {
   "display_name": "R",
   "language": "R",
   "name": "ir"
  },
  "language_info": {
   "codemirror_mode": "r",
   "file_extension": ".r",
   "mimetype": "text/x-r-source",
   "name": "R",
   "pygments_lexer": "r",
   "version": "4.3.3"
  }
 },
 "nbformat": 4,
 "nbformat_minor": 5
}
